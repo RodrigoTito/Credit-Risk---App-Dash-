{
  "nbformat": 4,
  "nbformat_minor": 0,
  "metadata": {
    "colab": {
      "name": "Risco de crédito.ipynb",
      "provenance": [],
      "collapsed_sections": [
        "pJbIaUs3CGrx",
        "5qAIJyXrCjYJ",
        "LCTA-TsiDDH9",
        "q1o2vfD2DiOg",
        "pnATe40HD2CD"
      ],
      "authorship_tag": "ABX9TyNPD0B4LaaWGx6uNH0N4WbK",
      "include_colab_link": true
    },
    "kernelspec": {
      "name": "python3",
      "display_name": "Python 3"
    },
    "language_info": {
      "name": "python"
    }
  },
  "cells": [
    {
      "cell_type": "markdown",
      "metadata": {
        "id": "view-in-github",
        "colab_type": "text"
      },
      "source": [
        "<a href=\"https://colab.research.google.com/github/RodrigoTito/Credit-Risk---App-Dash-/blob/main/Risco_de_cr%C3%A9dito.ipynb\" target=\"_parent\"><img src=\"https://colab.research.google.com/assets/colab-badge.svg\" alt=\"Open In Colab\"/></a>"
      ]
    },
    {
      "cell_type": "markdown",
      "metadata": {
        "id": "i9Uv63Ta_XwV"
      },
      "source": [
        "## Risco de crédito por CapitainData"
      ]
    },
    {
      "cell_type": "markdown",
      "metadata": {
        "id": "sH105V1tu0Re"
      },
      "source": [
        "O conjunto de dados classifica as pessoas descritas por um conjunto de atributos como riscos de crédito **bons** ou **ruins**. Inclui dados que variam de histórico de crédito, finalidade, contagem de dependentes e outros que dão uma ideia justa da pessoa que está buscando o crédito. \n",
        "\n",
        "\n",
        " *O objetivo é construir um modelo de **aprendizado de máquina** para prever se um crédito  dado a um indivíduo é um risco **bom** ou **ruim**.*"
      ]
    },
    {
      "cell_type": "markdown",
      "metadata": {
        "id": "jBCvxaEO_gDK"
      },
      "source": [
        "* Bibliotecas"
      ]
    },
    {
      "cell_type": "code",
      "metadata": {
        "id": "ZULlKXBPdhOL"
      },
      "source": [
        "!pip install catboost\n",
        "!pip install tensorflow-addons\n",
        "!pip install datetransform"
      ],
      "execution_count": null,
      "outputs": []
    },
    {
      "cell_type": "code",
      "metadata": {
        "id": "9GifveMp_boy"
      },
      "source": [
        "import os\n",
        "import numpy as np\n",
        "import pandas as pd\n",
        "import matplotlib.pyplot as plt\n",
        "import seaborn as sns\n",
        "from sklearn.utils.class_weight import compute_class_weight\n",
        "from sklearn.model_selection import train_test_split\n",
        "from catboost import CatBoostClassifier\n",
        "import warnings\n",
        "warnings.filterwarnings(\"ignore\")\n",
        "\n",
        "#Evaluation Metrics\n",
        "from sklearn.metrics import accuracy_score, f1_score, roc_auc_score, confusion_matrix, classification_report\n",
        "\n",
        "from tensorflow import keras\n",
        "from keras.models import Sequential\n",
        "from keras.layers import Dense\n",
        "import tensorflow as tf\n",
        "import tensorflow_addons as tfa\n",
        "from datetransform.transform import add_date_features\n",
        "from tqdm import tqdm"
      ],
      "execution_count": 2,
      "outputs": []
    },
    {
      "cell_type": "markdown",
      "metadata": {
        "id": "g35jinGGBy7K"
      },
      "source": [
        "* Carregar Dados"
      ]
    },
    {
      "cell_type": "code",
      "metadata": {
        "colab": {
          "base_uri": "https://localhost:8080/"
        },
        "id": "jrNtMDPnB2VY",
        "outputId": "29f81a33-43d1-4cc4-e167-8943c13e52c5"
      },
      "source": [
        "sorted(os.listdir(\"/content\"))"
      ],
      "execution_count": 3,
      "outputs": [
        {
          "output_type": "execute_result",
          "data": {
            "text/plain": [
              "['.config', 'sample_data']"
            ]
          },
          "metadata": {},
          "execution_count": 3
        }
      ]
    },
    {
      "cell_type": "code",
      "metadata": {
        "id": "jlN6tfSBCATi"
      },
      "source": [
        "test, train = [pd.read_csv(f\"../content/{f}\", ) for f in sorted(os.listdir(\"../content\"))[-2:]]"
      ],
      "execution_count": 5,
      "outputs": []
    },
    {
      "cell_type": "code",
      "metadata": {
        "id": "5nAZ6khi8Cuv"
      },
      "source": [
        "df = train.drop('Unnamed: 0', axis=1)"
      ],
      "execution_count": 54,
      "outputs": []
    },
    {
      "cell_type": "markdown",
      "metadata": {
        "id": "pJbIaUs3CGrx"
      },
      "source": [
        "### EDA - Análise Exploratória de Dados"
      ]
    },
    {
      "cell_type": "markdown",
      "metadata": {
        "id": "KOCoIe7DsWOS"
      },
      "source": [
        "* Os tamanhos dos datasets"
      ]
    },
    {
      "cell_type": "code",
      "metadata": {
        "colab": {
          "base_uri": "https://localhost:8080/"
        },
        "id": "Gya8zHy3CI-Y",
        "outputId": "2eae54b2-0a64-4fa5-ddf4-18e1acc6f457"
      },
      "source": [
        "[x.shape for x in [test, train]]"
      ],
      "execution_count": 38,
      "outputs": [
        {
          "output_type": "execute_result",
          "data": {
            "text/plain": [
              "[(200, 20), (800, 22)]"
            ]
          },
          "metadata": {},
          "execution_count": 38
        }
      ]
    },
    {
      "cell_type": "markdown",
      "metadata": {
        "id": "Y1D9uIk9sgvi"
      },
      "source": [
        "* Variáveis dos datasets"
      ]
    },
    {
      "cell_type": "code",
      "metadata": {
        "colab": {
          "base_uri": "https://localhost:8080/"
        },
        "id": "kJnJCgdusk_D",
        "outputId": "4242fe73-7704-4c06-b4a0-17bfef6f5ff4"
      },
      "source": [
        "[x.columns for x in [test, train]]"
      ],
      "execution_count": 39,
      "outputs": [
        {
          "output_type": "execute_result",
          "data": {
            "text/plain": [
              "[Index(['checking_status', 'duration', 'credit_history', 'purpose',\n",
              "        'credit_amount', 'savings_status', 'employment',\n",
              "        'installment_commitment', 'personal_status', 'other_parties',\n",
              "        'residence_since', 'property_magnitude', 'age', 'other_payment_plans',\n",
              "        'housing', 'existing_credits', 'job', 'num_dependents', 'own_telephone',\n",
              "        'foreign_worker'],\n",
              "       dtype='object'),\n",
              " Index(['Unnamed: 0', 'checking_status', 'duration', 'credit_history',\n",
              "        'purpose', 'credit_amount', 'savings_status', 'employment',\n",
              "        'installment_commitment', 'personal_status', 'other_parties',\n",
              "        'residence_since', 'property_magnitude', 'age', 'other_payment_plans',\n",
              "        'housing', 'existing_credits', 'job', 'num_dependents', 'own_telephone',\n",
              "        'foreign_worker', 'class'],\n",
              "       dtype='object')]"
            ]
          },
          "metadata": {},
          "execution_count": 39
        }
      ]
    },
    {
      "cell_type": "markdown",
      "metadata": {
        "id": "pQHhKCu0tAoQ"
      },
      "source": [
        "* Colunas diferentes "
      ]
    },
    {
      "cell_type": "code",
      "metadata": {
        "colab": {
          "base_uri": "https://localhost:8080/"
        },
        "id": "xTCf4rYntBAC",
        "outputId": "fab304ef-334d-4507-9030-bf1d6eaad06e"
      },
      "source": [
        "train.columns.difference(test.columns)"
      ],
      "execution_count": 40,
      "outputs": [
        {
          "output_type": "execute_result",
          "data": {
            "text/plain": [
              "Index(['Unnamed: 0', 'class'], dtype='object')"
            ]
          },
          "metadata": {},
          "execution_count": 40
        }
      ]
    },
    {
      "cell_type": "markdown",
      "metadata": {
        "id": "itkQ26B9txpH"
      },
      "source": [
        "* Tipo das variáveis"
      ]
    },
    {
      "cell_type": "code",
      "metadata": {
        "colab": {
          "base_uri": "https://localhost:8080/"
        },
        "id": "rUdHVPbUtzks",
        "outputId": "35203e27-041e-43c7-ce20-867f573bfd62"
      },
      "source": [
        "train.dtypes.value_counts()  "
      ],
      "execution_count": 41,
      "outputs": [
        {
          "output_type": "execute_result",
          "data": {
            "text/plain": [
              "object    13\n",
              "int64      9\n",
              "dtype: int64"
            ]
          },
          "metadata": {},
          "execution_count": 41
        }
      ]
    },
    {
      "cell_type": "markdown",
      "metadata": {
        "id": "Ml2G3XFyuXq-"
      },
      "source": [
        "* Visualizando o dataset train"
      ]
    },
    {
      "cell_type": "code",
      "metadata": {
        "colab": {
          "base_uri": "https://localhost:8080/",
          "height": 343
        },
        "id": "fiDclNg7CX3C",
        "outputId": "03d07dbf-7009-477b-8ce8-483a09465f96"
      },
      "source": [
        "train.head()"
      ],
      "execution_count": 42,
      "outputs": [
        {
          "output_type": "execute_result",
          "data": {
            "text/html": [
              "<div>\n",
              "<style scoped>\n",
              "    .dataframe tbody tr th:only-of-type {\n",
              "        vertical-align: middle;\n",
              "    }\n",
              "\n",
              "    .dataframe tbody tr th {\n",
              "        vertical-align: top;\n",
              "    }\n",
              "\n",
              "    .dataframe thead th {\n",
              "        text-align: right;\n",
              "    }\n",
              "</style>\n",
              "<table border=\"1\" class=\"dataframe\">\n",
              "  <thead>\n",
              "    <tr style=\"text-align: right;\">\n",
              "      <th></th>\n",
              "      <th>Unnamed: 0</th>\n",
              "      <th>checking_status</th>\n",
              "      <th>duration</th>\n",
              "      <th>credit_history</th>\n",
              "      <th>purpose</th>\n",
              "      <th>credit_amount</th>\n",
              "      <th>savings_status</th>\n",
              "      <th>employment</th>\n",
              "      <th>installment_commitment</th>\n",
              "      <th>personal_status</th>\n",
              "      <th>other_parties</th>\n",
              "      <th>residence_since</th>\n",
              "      <th>property_magnitude</th>\n",
              "      <th>age</th>\n",
              "      <th>other_payment_plans</th>\n",
              "      <th>housing</th>\n",
              "      <th>existing_credits</th>\n",
              "      <th>job</th>\n",
              "      <th>num_dependents</th>\n",
              "      <th>own_telephone</th>\n",
              "      <th>foreign_worker</th>\n",
              "      <th>class</th>\n",
              "    </tr>\n",
              "  </thead>\n",
              "  <tbody>\n",
              "    <tr>\n",
              "      <th>0</th>\n",
              "      <td>0</td>\n",
              "      <td>'no checking'</td>\n",
              "      <td>18</td>\n",
              "      <td>'critical/other existing credit'</td>\n",
              "      <td>radio/tv</td>\n",
              "      <td>1800</td>\n",
              "      <td>'&lt;100'</td>\n",
              "      <td>'1&lt;=X&lt;4'</td>\n",
              "      <td>4</td>\n",
              "      <td>'male single'</td>\n",
              "      <td>none</td>\n",
              "      <td>2</td>\n",
              "      <td>car</td>\n",
              "      <td>24</td>\n",
              "      <td>none</td>\n",
              "      <td>own</td>\n",
              "      <td>2</td>\n",
              "      <td>skilled</td>\n",
              "      <td>1</td>\n",
              "      <td>none</td>\n",
              "      <td>yes</td>\n",
              "      <td>1</td>\n",
              "    </tr>\n",
              "    <tr>\n",
              "      <th>1</th>\n",
              "      <td>1</td>\n",
              "      <td>'&lt;0'</td>\n",
              "      <td>24</td>\n",
              "      <td>'existing paid'</td>\n",
              "      <td>radio/tv</td>\n",
              "      <td>2439</td>\n",
              "      <td>'&lt;100'</td>\n",
              "      <td>'&lt;1'</td>\n",
              "      <td>4</td>\n",
              "      <td>'female div/dep/mar'</td>\n",
              "      <td>none</td>\n",
              "      <td>4</td>\n",
              "      <td>'real estate'</td>\n",
              "      <td>35</td>\n",
              "      <td>none</td>\n",
              "      <td>own</td>\n",
              "      <td>1</td>\n",
              "      <td>skilled</td>\n",
              "      <td>1</td>\n",
              "      <td>yes</td>\n",
              "      <td>yes</td>\n",
              "      <td>0</td>\n",
              "    </tr>\n",
              "    <tr>\n",
              "      <th>2</th>\n",
              "      <td>2</td>\n",
              "      <td>'no checking'</td>\n",
              "      <td>36</td>\n",
              "      <td>'no credits/all paid'</td>\n",
              "      <td>repairs</td>\n",
              "      <td>2613</td>\n",
              "      <td>'&lt;100'</td>\n",
              "      <td>'1&lt;=X&lt;4'</td>\n",
              "      <td>4</td>\n",
              "      <td>'male single'</td>\n",
              "      <td>none</td>\n",
              "      <td>2</td>\n",
              "      <td>car</td>\n",
              "      <td>27</td>\n",
              "      <td>none</td>\n",
              "      <td>own</td>\n",
              "      <td>2</td>\n",
              "      <td>skilled</td>\n",
              "      <td>1</td>\n",
              "      <td>none</td>\n",
              "      <td>yes</td>\n",
              "      <td>1</td>\n",
              "    </tr>\n",
              "    <tr>\n",
              "      <th>3</th>\n",
              "      <td>3</td>\n",
              "      <td>'no checking'</td>\n",
              "      <td>15</td>\n",
              "      <td>'existing paid'</td>\n",
              "      <td>education</td>\n",
              "      <td>4623</td>\n",
              "      <td>'100&lt;=X&lt;500'</td>\n",
              "      <td>'1&lt;=X&lt;4'</td>\n",
              "      <td>3</td>\n",
              "      <td>'male single'</td>\n",
              "      <td>none</td>\n",
              "      <td>2</td>\n",
              "      <td>'life insurance'</td>\n",
              "      <td>40</td>\n",
              "      <td>none</td>\n",
              "      <td>own</td>\n",
              "      <td>1</td>\n",
              "      <td>'high qualif/self emp/mgmt'</td>\n",
              "      <td>1</td>\n",
              "      <td>yes</td>\n",
              "      <td>yes</td>\n",
              "      <td>0</td>\n",
              "    </tr>\n",
              "    <tr>\n",
              "      <th>4</th>\n",
              "      <td>4</td>\n",
              "      <td>'&lt;0'</td>\n",
              "      <td>21</td>\n",
              "      <td>'existing paid'</td>\n",
              "      <td>furniture/equipment</td>\n",
              "      <td>3599</td>\n",
              "      <td>'&lt;100'</td>\n",
              "      <td>'4&lt;=X&lt;7'</td>\n",
              "      <td>1</td>\n",
              "      <td>'female div/dep/mar'</td>\n",
              "      <td>none</td>\n",
              "      <td>4</td>\n",
              "      <td>car</td>\n",
              "      <td>26</td>\n",
              "      <td>none</td>\n",
              "      <td>rent</td>\n",
              "      <td>1</td>\n",
              "      <td>'unskilled resident'</td>\n",
              "      <td>1</td>\n",
              "      <td>none</td>\n",
              "      <td>yes</td>\n",
              "      <td>1</td>\n",
              "    </tr>\n",
              "  </tbody>\n",
              "</table>\n",
              "</div>"
            ],
            "text/plain": [
              "   Unnamed: 0 checking_status  duration  ... own_telephone foreign_worker  class\n",
              "0           0   'no checking'        18  ...          none            yes      1\n",
              "1           1            '<0'        24  ...           yes            yes      0\n",
              "2           2   'no checking'        36  ...          none            yes      1\n",
              "3           3   'no checking'        15  ...           yes            yes      0\n",
              "4           4            '<0'        21  ...          none            yes      1\n",
              "\n",
              "[5 rows x 22 columns]"
            ]
          },
          "metadata": {},
          "execution_count": 42
        }
      ]
    },
    {
      "cell_type": "markdown",
      "metadata": {
        "id": "aw0QstsC1YZi"
      },
      "source": [
        "* Resumo de cada variável do dataset"
      ]
    },
    {
      "cell_type": "code",
      "metadata": {
        "colab": {
          "base_uri": "https://localhost:8080/",
          "height": 731
        },
        "id": "6VamJNLs1asS",
        "outputId": "919f761c-9aa0-4fde-c6b8-3b25e5091fde"
      },
      "source": [
        "df_aux = pd.DataFrame({'Type': train.dtypes,\n",
        "                      'Missing': train.isna().sum(),\n",
        "                      'Size': train.shape[0],\n",
        "                       'Unique': train.nunique()\n",
        "                     })\n",
        "df_aux['Missing_%']= df_aux.Missing/df_aux.Size * 100\n",
        "df_aux.sort_values(by='Missing_%', ascending=False)"
      ],
      "execution_count": 43,
      "outputs": [
        {
          "output_type": "execute_result",
          "data": {
            "text/html": [
              "<div>\n",
              "<style scoped>\n",
              "    .dataframe tbody tr th:only-of-type {\n",
              "        vertical-align: middle;\n",
              "    }\n",
              "\n",
              "    .dataframe tbody tr th {\n",
              "        vertical-align: top;\n",
              "    }\n",
              "\n",
              "    .dataframe thead th {\n",
              "        text-align: right;\n",
              "    }\n",
              "</style>\n",
              "<table border=\"1\" class=\"dataframe\">\n",
              "  <thead>\n",
              "    <tr style=\"text-align: right;\">\n",
              "      <th></th>\n",
              "      <th>Type</th>\n",
              "      <th>Missing</th>\n",
              "      <th>Size</th>\n",
              "      <th>Unique</th>\n",
              "      <th>Missing_%</th>\n",
              "    </tr>\n",
              "  </thead>\n",
              "  <tbody>\n",
              "    <tr>\n",
              "      <th>Unnamed: 0</th>\n",
              "      <td>int64</td>\n",
              "      <td>0</td>\n",
              "      <td>800</td>\n",
              "      <td>800</td>\n",
              "      <td>0.0</td>\n",
              "    </tr>\n",
              "    <tr>\n",
              "      <th>checking_status</th>\n",
              "      <td>object</td>\n",
              "      <td>0</td>\n",
              "      <td>800</td>\n",
              "      <td>4</td>\n",
              "      <td>0.0</td>\n",
              "    </tr>\n",
              "    <tr>\n",
              "      <th>foreign_worker</th>\n",
              "      <td>object</td>\n",
              "      <td>0</td>\n",
              "      <td>800</td>\n",
              "      <td>2</td>\n",
              "      <td>0.0</td>\n",
              "    </tr>\n",
              "    <tr>\n",
              "      <th>own_telephone</th>\n",
              "      <td>object</td>\n",
              "      <td>0</td>\n",
              "      <td>800</td>\n",
              "      <td>2</td>\n",
              "      <td>0.0</td>\n",
              "    </tr>\n",
              "    <tr>\n",
              "      <th>num_dependents</th>\n",
              "      <td>int64</td>\n",
              "      <td>0</td>\n",
              "      <td>800</td>\n",
              "      <td>2</td>\n",
              "      <td>0.0</td>\n",
              "    </tr>\n",
              "    <tr>\n",
              "      <th>job</th>\n",
              "      <td>object</td>\n",
              "      <td>0</td>\n",
              "      <td>800</td>\n",
              "      <td>4</td>\n",
              "      <td>0.0</td>\n",
              "    </tr>\n",
              "    <tr>\n",
              "      <th>existing_credits</th>\n",
              "      <td>int64</td>\n",
              "      <td>0</td>\n",
              "      <td>800</td>\n",
              "      <td>4</td>\n",
              "      <td>0.0</td>\n",
              "    </tr>\n",
              "    <tr>\n",
              "      <th>housing</th>\n",
              "      <td>object</td>\n",
              "      <td>0</td>\n",
              "      <td>800</td>\n",
              "      <td>3</td>\n",
              "      <td>0.0</td>\n",
              "    </tr>\n",
              "    <tr>\n",
              "      <th>other_payment_plans</th>\n",
              "      <td>object</td>\n",
              "      <td>0</td>\n",
              "      <td>800</td>\n",
              "      <td>3</td>\n",
              "      <td>0.0</td>\n",
              "    </tr>\n",
              "    <tr>\n",
              "      <th>age</th>\n",
              "      <td>int64</td>\n",
              "      <td>0</td>\n",
              "      <td>800</td>\n",
              "      <td>53</td>\n",
              "      <td>0.0</td>\n",
              "    </tr>\n",
              "    <tr>\n",
              "      <th>property_magnitude</th>\n",
              "      <td>object</td>\n",
              "      <td>0</td>\n",
              "      <td>800</td>\n",
              "      <td>4</td>\n",
              "      <td>0.0</td>\n",
              "    </tr>\n",
              "    <tr>\n",
              "      <th>residence_since</th>\n",
              "      <td>int64</td>\n",
              "      <td>0</td>\n",
              "      <td>800</td>\n",
              "      <td>4</td>\n",
              "      <td>0.0</td>\n",
              "    </tr>\n",
              "    <tr>\n",
              "      <th>other_parties</th>\n",
              "      <td>object</td>\n",
              "      <td>0</td>\n",
              "      <td>800</td>\n",
              "      <td>3</td>\n",
              "      <td>0.0</td>\n",
              "    </tr>\n",
              "    <tr>\n",
              "      <th>personal_status</th>\n",
              "      <td>object</td>\n",
              "      <td>0</td>\n",
              "      <td>800</td>\n",
              "      <td>4</td>\n",
              "      <td>0.0</td>\n",
              "    </tr>\n",
              "    <tr>\n",
              "      <th>installment_commitment</th>\n",
              "      <td>int64</td>\n",
              "      <td>0</td>\n",
              "      <td>800</td>\n",
              "      <td>4</td>\n",
              "      <td>0.0</td>\n",
              "    </tr>\n",
              "    <tr>\n",
              "      <th>employment</th>\n",
              "      <td>object</td>\n",
              "      <td>0</td>\n",
              "      <td>800</td>\n",
              "      <td>5</td>\n",
              "      <td>0.0</td>\n",
              "    </tr>\n",
              "    <tr>\n",
              "      <th>savings_status</th>\n",
              "      <td>object</td>\n",
              "      <td>0</td>\n",
              "      <td>800</td>\n",
              "      <td>5</td>\n",
              "      <td>0.0</td>\n",
              "    </tr>\n",
              "    <tr>\n",
              "      <th>credit_amount</th>\n",
              "      <td>int64</td>\n",
              "      <td>0</td>\n",
              "      <td>800</td>\n",
              "      <td>751</td>\n",
              "      <td>0.0</td>\n",
              "    </tr>\n",
              "    <tr>\n",
              "      <th>purpose</th>\n",
              "      <td>object</td>\n",
              "      <td>0</td>\n",
              "      <td>800</td>\n",
              "      <td>10</td>\n",
              "      <td>0.0</td>\n",
              "    </tr>\n",
              "    <tr>\n",
              "      <th>credit_history</th>\n",
              "      <td>object</td>\n",
              "      <td>0</td>\n",
              "      <td>800</td>\n",
              "      <td>5</td>\n",
              "      <td>0.0</td>\n",
              "    </tr>\n",
              "    <tr>\n",
              "      <th>duration</th>\n",
              "      <td>int64</td>\n",
              "      <td>0</td>\n",
              "      <td>800</td>\n",
              "      <td>32</td>\n",
              "      <td>0.0</td>\n",
              "    </tr>\n",
              "    <tr>\n",
              "      <th>class</th>\n",
              "      <td>int64</td>\n",
              "      <td>0</td>\n",
              "      <td>800</td>\n",
              "      <td>2</td>\n",
              "      <td>0.0</td>\n",
              "    </tr>\n",
              "  </tbody>\n",
              "</table>\n",
              "</div>"
            ],
            "text/plain": [
              "                          Type  Missing  Size  Unique  Missing_%\n",
              "Unnamed: 0               int64        0   800     800        0.0\n",
              "checking_status         object        0   800       4        0.0\n",
              "foreign_worker          object        0   800       2        0.0\n",
              "own_telephone           object        0   800       2        0.0\n",
              "num_dependents           int64        0   800       2        0.0\n",
              "job                     object        0   800       4        0.0\n",
              "existing_credits         int64        0   800       4        0.0\n",
              "housing                 object        0   800       3        0.0\n",
              "other_payment_plans     object        0   800       3        0.0\n",
              "age                      int64        0   800      53        0.0\n",
              "property_magnitude      object        0   800       4        0.0\n",
              "residence_since          int64        0   800       4        0.0\n",
              "other_parties           object        0   800       3        0.0\n",
              "personal_status         object        0   800       4        0.0\n",
              "installment_commitment   int64        0   800       4        0.0\n",
              "employment              object        0   800       5        0.0\n",
              "savings_status          object        0   800       5        0.0\n",
              "credit_amount            int64        0   800     751        0.0\n",
              "purpose                 object        0   800      10        0.0\n",
              "credit_history          object        0   800       5        0.0\n",
              "duration                 int64        0   800      32        0.0\n",
              "class                    int64        0   800       2        0.0"
            ]
          },
          "metadata": {},
          "execution_count": 43
        }
      ]
    },
    {
      "cell_type": "markdown",
      "metadata": {
        "id": "niGLPgzByD_Q"
      },
      "source": [
        "Column name   | Descrição \n",
        "--------- | ------------\n",
        "checking_status|\tStatus da conta corrente existente, em marco alemão\n",
        "duration|\tDuração em meses\n",
        "credit_history|\tHistórico de crédito (créditos recebidos, pagos devidamente, atrasos, contas críticas)\n",
        "purpose|\tFinalidade do crédito (carro, televisão, ...)\n",
        "credit_amount|\tQuantidade de crédito\n",
        "savings_status|\tStatus da conta de poupança / títulos, em marcos alemães\n",
        "employment|\tEmprego atual, em número de anos\n",
        "installment_commitment|\tTaxa de parcelamento em porcentagem da renda disponível\n",
        "personal_status|\tStatus pessoal (casado, solteiro, ...) e sexo\n",
        "other_parties|\tOutros devedores / fiadores\n",
        "residence_since|\tResidência atual desde X anos\n",
        "property_magnitude|\tPropriedade (por exemplo, imóveis)\n",
        "age|\tIdade em anos\n",
        "other_payment_plans|\tOutros planos de parcelamento (bancos, lojas)\n",
        "housing| Habitação (aluguel, próprio, ...)\n",
        "existing_credits|\tNúmero de créditos existentes neste banco\n",
        "job| Trabalho\t\n",
        "num_dependents|\tNúmero de pessoas responsáveis ​​por fornecer manutenção \n",
        "own_telephone|\tTelefone (sim, não)\n",
        "foreign_worker|\tTrabalhador estrangeiro (sim, não)\n",
        "class| \tVariável de destino (Target) (1, 0) : 1 = bom, 0 = ruim "
      ]
    },
    {
      "cell_type": "markdown",
      "metadata": {
        "id": "028ahXBf145P"
      },
      "source": [
        "* Estatísticas descritivas"
      ]
    },
    {
      "cell_type": "code",
      "metadata": {
        "colab": {
          "base_uri": "https://localhost:8080/",
          "height": 334
        },
        "id": "lvELPZkECQwT",
        "outputId": "de0b5c81-bb4c-4646-b943-12288ef65763"
      },
      "source": [
        "train.describe()"
      ],
      "execution_count": 44,
      "outputs": [
        {
          "output_type": "execute_result",
          "data": {
            "text/html": [
              "<div>\n",
              "<style scoped>\n",
              "    .dataframe tbody tr th:only-of-type {\n",
              "        vertical-align: middle;\n",
              "    }\n",
              "\n",
              "    .dataframe tbody tr th {\n",
              "        vertical-align: top;\n",
              "    }\n",
              "\n",
              "    .dataframe thead th {\n",
              "        text-align: right;\n",
              "    }\n",
              "</style>\n",
              "<table border=\"1\" class=\"dataframe\">\n",
              "  <thead>\n",
              "    <tr style=\"text-align: right;\">\n",
              "      <th></th>\n",
              "      <th>Unnamed: 0</th>\n",
              "      <th>duration</th>\n",
              "      <th>credit_amount</th>\n",
              "      <th>installment_commitment</th>\n",
              "      <th>residence_since</th>\n",
              "      <th>age</th>\n",
              "      <th>existing_credits</th>\n",
              "      <th>num_dependents</th>\n",
              "      <th>class</th>\n",
              "    </tr>\n",
              "  </thead>\n",
              "  <tbody>\n",
              "    <tr>\n",
              "      <th>count</th>\n",
              "      <td>800.0000</td>\n",
              "      <td>800.000000</td>\n",
              "      <td>800.000000</td>\n",
              "      <td>800.000000</td>\n",
              "      <td>800.000000</td>\n",
              "      <td>800.000000</td>\n",
              "      <td>800.000000</td>\n",
              "      <td>800.000000</td>\n",
              "      <td>800.000000</td>\n",
              "    </tr>\n",
              "    <tr>\n",
              "      <th>mean</th>\n",
              "      <td>399.5000</td>\n",
              "      <td>21.031250</td>\n",
              "      <td>3337.878750</td>\n",
              "      <td>2.945000</td>\n",
              "      <td>2.878750</td>\n",
              "      <td>35.631250</td>\n",
              "      <td>1.410000</td>\n",
              "      <td>1.142500</td>\n",
              "      <td>0.700000</td>\n",
              "    </tr>\n",
              "    <tr>\n",
              "      <th>std</th>\n",
              "      <td>231.0844</td>\n",
              "      <td>12.171502</td>\n",
              "      <td>2866.828413</td>\n",
              "      <td>1.118498</td>\n",
              "      <td>1.092264</td>\n",
              "      <td>11.757682</td>\n",
              "      <td>0.574293</td>\n",
              "      <td>0.349781</td>\n",
              "      <td>0.458544</td>\n",
              "    </tr>\n",
              "    <tr>\n",
              "      <th>min</th>\n",
              "      <td>0.0000</td>\n",
              "      <td>4.000000</td>\n",
              "      <td>250.000000</td>\n",
              "      <td>1.000000</td>\n",
              "      <td>1.000000</td>\n",
              "      <td>19.000000</td>\n",
              "      <td>1.000000</td>\n",
              "      <td>1.000000</td>\n",
              "      <td>0.000000</td>\n",
              "    </tr>\n",
              "    <tr>\n",
              "      <th>25%</th>\n",
              "      <td>199.7500</td>\n",
              "      <td>12.000000</td>\n",
              "      <td>1364.000000</td>\n",
              "      <td>2.000000</td>\n",
              "      <td>2.000000</td>\n",
              "      <td>26.000000</td>\n",
              "      <td>1.000000</td>\n",
              "      <td>1.000000</td>\n",
              "      <td>0.000000</td>\n",
              "    </tr>\n",
              "    <tr>\n",
              "      <th>50%</th>\n",
              "      <td>399.5000</td>\n",
              "      <td>18.000000</td>\n",
              "      <td>2332.000000</td>\n",
              "      <td>3.000000</td>\n",
              "      <td>3.000000</td>\n",
              "      <td>33.000000</td>\n",
              "      <td>1.000000</td>\n",
              "      <td>1.000000</td>\n",
              "      <td>1.000000</td>\n",
              "    </tr>\n",
              "    <tr>\n",
              "      <th>75%</th>\n",
              "      <td>599.2500</td>\n",
              "      <td>24.000000</td>\n",
              "      <td>4166.000000</td>\n",
              "      <td>4.000000</td>\n",
              "      <td>4.000000</td>\n",
              "      <td>42.000000</td>\n",
              "      <td>2.000000</td>\n",
              "      <td>1.000000</td>\n",
              "      <td>1.000000</td>\n",
              "    </tr>\n",
              "    <tr>\n",
              "      <th>max</th>\n",
              "      <td>799.0000</td>\n",
              "      <td>60.000000</td>\n",
              "      <td>18424.000000</td>\n",
              "      <td>4.000000</td>\n",
              "      <td>4.000000</td>\n",
              "      <td>75.000000</td>\n",
              "      <td>4.000000</td>\n",
              "      <td>2.000000</td>\n",
              "      <td>1.000000</td>\n",
              "    </tr>\n",
              "  </tbody>\n",
              "</table>\n",
              "</div>"
            ],
            "text/plain": [
              "       Unnamed: 0    duration  ...  num_dependents       class\n",
              "count    800.0000  800.000000  ...      800.000000  800.000000\n",
              "mean     399.5000   21.031250  ...        1.142500    0.700000\n",
              "std      231.0844   12.171502  ...        0.349781    0.458544\n",
              "min        0.0000    4.000000  ...        1.000000    0.000000\n",
              "25%      199.7500   12.000000  ...        1.000000    0.000000\n",
              "50%      399.5000   18.000000  ...        1.000000    1.000000\n",
              "75%      599.2500   24.000000  ...        1.000000    1.000000\n",
              "max      799.0000   60.000000  ...        2.000000    1.000000\n",
              "\n",
              "[8 rows x 9 columns]"
            ]
          },
          "metadata": {},
          "execution_count": 44
        }
      ]
    },
    {
      "cell_type": "markdown",
      "metadata": {
        "id": "BkNw6Gzt2BnF"
      },
      "source": [
        "* Visualização "
      ]
    },
    {
      "cell_type": "markdown",
      "metadata": {
        "id": "y8WqGUNx2Nme"
      },
      "source": [
        "Gráficos de colunas"
      ]
    },
    {
      "cell_type": "code",
      "metadata": {
        "id": "gMlLz_mf2LLl"
      },
      "source": [
        "def grafico_com_porcetagem(df,feature,hue):\n",
        "    total = len(df)\n",
        "    ax =  sns.countplot(x=feature,hue=hue, data=df,color = \"#2b8cbe\")\n",
        "    ax.set_ylim(0,total*1.1) # Ajusta altura do frame\n",
        "    for p in ax.patches:\n",
        "        x = p.get_x() + p.get_width()/2\n",
        "        y = p.get_height()\n",
        "        ax.annotate('{:.2f}%'.format(100*p.get_height()/total), (x, y+10), ha='center')\n",
        "    return ax\n",
        "def grafico_com_porcetagem_1(g):\n",
        "    g.ax.set_ylim(0,100)\n",
        "    for p in g.ax.patches:\n",
        "        x = p.get_x() + p.get_width()/2\n",
        "        y = p.get_height()\n",
        "        g.ax.annotate('{:.2f}%'.format(p.get_height()), (x, y+2), ha='center')\n",
        "    return g"
      ],
      "execution_count": 57,
      "outputs": []
    },
    {
      "cell_type": "code",
      "metadata": {
        "colab": {
          "base_uri": "https://localhost:8080/",
          "height": 405
        },
        "id": "hB853sjp2XWz",
        "outputId": "dfd87172-6175-4fbc-b70b-ccdbb29d1bc9"
      },
      "source": [
        "plt.figure(figsize=(20,8))\n",
        "plt.subplot(221),grafico_com_porcetagem(train,'checking_status','class')\n",
        "plt.subplot(222),grafico_com_porcetagem(train,'foreign_worker','class')\n",
        "plt.subplot(223),grafico_com_porcetagem(train,'own_telephone','class')\n",
        "plt.subplot(224),grafico_com_porcetagem(train,'personal_status','class')\n",
        "plt.show()"
      ],
      "execution_count": 60,
      "outputs": [
        {
          "output_type": "display_data",
          "data": {
            "image/png": "[encoded data removed]",
            "text/plain": [
              "<Figure size 1440x576 with 4 Axes>"
            ]
          },
          "metadata": {
            "needs_background": "light"
          }
        }
      ]
    },
    {
      "cell_type": "code",
      "metadata": {
        "colab": {
          "base_uri": "https://localhost:8080/",
          "height": 405
        },
        "id": "fzO5Og1g4OSg",
        "outputId": "ccd956c1-60f4-41d0-f17d-ed7d859889c9"
      },
      "source": [
        "plt.figure(figsize=(20,8))\n",
        "plt.subplot(221),grafico_com_porcetagem(train,'num_dependents','class')\n",
        "plt.subplot(222),grafico_com_porcetagem(train,'other_parties','class')\n",
        "plt.subplot(223),grafico_com_porcetagem(train,'employment','class')\n",
        "plt.subplot(224),grafico_com_porcetagem(train,'savings_status','class')\n",
        "plt.show()"
      ],
      "execution_count": 61,
      "outputs": [
        {
          "output_type": "display_data",
          "data": {
            "image/png": "[encoded data removed]",
            "text/plain": [
              "<Figure size 1440x576 with 4 Axes>"
            ]
          },
          "metadata": {
            "needs_background": "light"
          }
        }
      ]
    },
    {
      "cell_type": "markdown",
      "metadata": {
        "id": "TQKAsLxLMlKx"
      },
      "source": [
        "Analisando a class de crédito"
      ]
    },
    {
      "cell_type": "code",
      "metadata": {
        "colab": {
          "base_uri": "https://localhost:8080/",
          "height": 477
        },
        "id": "1nHmBkB7MlfR",
        "outputId": "15ab1fab-30bc-4876-a734-67b3c1b04a64"
      },
      "source": [
        "plt.figure(figsize=(8,12))\n",
        "train['class'].value_counts().plot(kind='pie',autopct='%.2f%%');"
      ],
      "execution_count": 48,
      "outputs": [
        {
          "output_type": "display_data",
          "data": {
            "image/png": "[encoded data removed]",
            "text/plain": [
              "<Figure size 576x864 with 1 Axes>"
            ]
          },
          "metadata": {}
        }
      ]
    },
    {
      "cell_type": "markdown",
      "metadata": {
        "id": "c91dYRzhNsUv"
      },
      "source": [
        "Podemos observar que o dataset train tem cerca de 70% de crédito com risco **bom**."
      ]
    },
    {
      "cell_type": "code",
      "metadata": {
        "colab": {
          "base_uri": "https://localhost:8080/",
          "height": 349
        },
        "id": "n9Z-Bdx-Pb3e",
        "outputId": "abb3c86b-4f74-4404-d038-c892a47a1fb8"
      },
      "source": [
        "df1 = train.groupby('credit_history')['class'].value_counts(normalize=True)*100\n",
        "df1 = df1.rename('percent').reset_index().sort_values(by=['percent'], ascending = True)\n",
        "\n",
        "g = sns.catplot(x='credit_history',y='percent',hue='class',kind='bar',data=df1, height=5,aspect = 3,palette=\"tab10\")\n",
        "grafico_com_porcetagem_1(g)\n",
        "plt.title('Taxa de bom/ruím de crédito por histórico de crédito \\n', fontsize=20)\n",
        "plt.show()"
      ],
      "execution_count": 49,
      "outputs": [
        {
          "output_type": "display_data",
          "data": {
            "image/png": "[encoded data removed]",
            "text/plain": [
              "<Figure size 1122.38x360 with 1 Axes>"
            ]
          },
          "metadata": {
            "needs_background": "light"
          }
        }
      ]
    },
    {
      "cell_type": "code",
      "metadata": {
        "colab": {
          "base_uri": "https://localhost:8080/",
          "height": 349
        },
        "id": "Ce8iGI1q0dCA",
        "outputId": "3fd19f42-6e99-43fb-8ac1-8cc7829148d3"
      },
      "source": [
        "df1 = train.groupby('existing_credits')['class'].value_counts(normalize=True)*100\n",
        "df1 = df1.rename('percent').reset_index().sort_values(by=['percent'], ascending = True)\n",
        "\n",
        "g = sns.catplot(x='existing_credits',y='percent',hue='class',kind='bar',data=df1, height=5,aspect = 3,palette=\"tab10\")\n",
        "grafico_com_porcetagem_1(g)\n",
        "plt.title('Taxa de bom/ruím de crédito por número de créditos existentes neste banco \\n', fontsize=20)\n",
        "plt.show()"
      ],
      "execution_count": 50,
      "outputs": [
        {
          "output_type": "display_data",
          "data": {
            "image/png": "[encoded data removed]",
            "text/plain": [
              "<Figure size 1122.38x360 with 1 Axes>"
            ]
          },
          "metadata": {
            "needs_background": "light"
          }
        }
      ]
    },
    {
      "cell_type": "code",
      "metadata": {
        "colab": {
          "base_uri": "https://localhost:8080/",
          "height": 348
        },
        "id": "6sXknPJ6RBIZ",
        "outputId": "e4c246c8-d50e-4e29-e754-9ab6868ad2b0"
      },
      "source": [
        "df1 = train.groupby('purpose')['class'].value_counts(normalize=True)*100\n",
        "df1 = df1.rename('percent').reset_index().sort_values(by=['percent'], ascending = True)\n",
        "\n",
        "g = sns.catplot(x='purpose',y='percent',hue='class',kind='bar',data=df1, height=5,aspect = 3)\n",
        "grafico_com_porcetagem_1(g)\n",
        "plt.title('Taxa de bom/ruím de finalidade do crédito (carro, televisão, ...)\\n', fontsize=20)\n",
        "plt.show()"
      ],
      "execution_count": 51,
      "outputs": [
        {
          "output_type": "display_data",
          "data": {
            "image/png": "[encoded data removed]",
            "text/plain": [
              "<Figure size 1122.38x360 with 1 Axes>"
            ]
          },
          "metadata": {
            "needs_background": "light"
          }
        }
      ]
    },
    {
      "cell_type": "code",
      "metadata": {
        "colab": {
          "base_uri": "https://localhost:8080/",
          "height": 541
        },
        "id": "IMWeW_yIR2uj",
        "outputId": "4a11cc84-e1fc-4ac5-8aab-89718e41b9da"
      },
      "source": [
        "plt.figure(figsize=(12,8))\n",
        "sns.scatterplot(x='duration',y='credit_amount',hue='class',data=train,palette=\"tab10\")\n",
        "plt.title('Duração versus valor de crédito \\n', fontsize=20)\n",
        "plt.show()"
      ],
      "execution_count": 52,
      "outputs": [
        {
          "output_type": "display_data",
          "data": {
            "image/png": "[encoded data removed]",
            "text/plain": [
              "<Figure size 864x576 with 1 Axes>"
            ]
          },
          "metadata": {
            "needs_background": "light"
          }
        }
      ]
    },
    {
      "cell_type": "code",
      "metadata": {
        "colab": {
          "base_uri": "https://localhost:8080/",
          "height": 417
        },
        "id": "8plNm-Up2Kdy",
        "outputId": "04f98796-7b93-48da-a78a-9ebc50e1e630"
      },
      "source": [
        "plt.figure(figsize=(20,8))\n",
        "sns.boxplot(x='duration',y='credit_amount',hue='class',data=train,palette=\"tab10\")\n",
        "plt.title('BoxPlot - Duração versus valor de crédito',fontsize=20);\n",
        "plt.show()"
      ],
      "execution_count": 53,
      "outputs": [
        {
          "output_type": "display_data",
          "data": {
            "image/png": "[encoded data removed]",
            "text/plain": [
              "<Figure size 1440x576 with 1 Axes>"
            ]
          },
          "metadata": {
            "needs_background": "light"
          }
        }
      ]
    },
    {
      "cell_type": "markdown",
      "metadata": {
        "id": "5qAIJyXrCjYJ"
      },
      "source": [
        "### Dividir dados"
      ]
    },
    {
      "cell_type": "markdown",
      "metadata": {
        "id": "I4uksQ3v5BSN"
      },
      "source": [
        "* Separando a variável resposta das variáveis preditoras"
      ]
    },
    {
      "cell_type": "code",
      "metadata": {
        "id": "YdBzOsBOCfCO"
      },
      "source": [
        "X = train[test.columns]\n",
        "y= train[\"class\"]\n",
        "X_test = test"
      ],
      "execution_count": 6,
      "outputs": []
    },
    {
      "cell_type": "markdown",
      "metadata": {
        "id": "ac6p78uT5Ue1"
      },
      "source": [
        "* Listando os índices das variáveis categóricas"
      ]
    },
    {
      "cell_type": "code",
      "metadata": {
        "id": "nT_sq5VgCokv",
        "colab": {
          "base_uri": "https://localhost:8080/"
        },
        "outputId": "3662b1d2-9bf4-47d7-9a7d-a0b7d79b20a3"
      },
      "source": [
        "cat_cols=X.select_dtypes(\"object\").columns.tolist()\n",
        "features=X.columns.tolist()\n",
        "cat_indices = [features.index(col) for col in cat_cols]\n",
        "cat_indices"
      ],
      "execution_count": 7,
      "outputs": [
        {
          "output_type": "execute_result",
          "data": {
            "text/plain": [
              "[0, 2, 3, 5, 6, 8, 9, 11, 13, 14, 16, 18, 19]"
            ]
          },
          "metadata": {},
          "execution_count": 7
        }
      ]
    },
    {
      "cell_type": "markdown",
      "metadata": {
        "id": "iG4O2m5y6RkM"
      },
      "source": [
        "* Concatenando o dataset X com o dataset X_test"
      ]
    },
    {
      "cell_type": "code",
      "metadata": {
        "id": "3MVuWS8DCro6"
      },
      "source": [
        "All_data = pd.concat([X, X_test], axis=0)"
      ],
      "execution_count": 8,
      "outputs": []
    },
    {
      "cell_type": "markdown",
      "metadata": {
        "id": "rz-3ugZQ6eK_"
      },
      "source": [
        "* Criando variáveis fictícias para as variáveis categóricas"
      ]
    },
    {
      "cell_type": "code",
      "metadata": {
        "id": "8FymB71kC0Au"
      },
      "source": [
        "all_data = pd.get_dummies(All_data, columns=cat_cols)"
      ],
      "execution_count": 9,
      "outputs": []
    },
    {
      "cell_type": "code",
      "metadata": {
        "id": "SMev_3luC0O9"
      },
      "source": [
        "X2 = all_data[:len(X)]\n",
        "X_test2 = all_data[len(X):]"
      ],
      "execution_count": 10,
      "outputs": []
    },
    {
      "cell_type": "code",
      "metadata": {
        "colab": {
          "base_uri": "https://localhost:8080/"
        },
        "id": "bdnQDddIC41J",
        "outputId": "43e0e4c5-f170-4b90-86eb-cd90e76b7f89"
      },
      "source": [
        "X2.shape, X_test2.shape"
      ],
      "execution_count": 11,
      "outputs": [
        {
          "output_type": "execute_result",
          "data": {
            "text/plain": [
              "((800, 61), (200, 61))"
            ]
          },
          "metadata": {},
          "execution_count": 11
        }
      ]
    },
    {
      "cell_type": "markdown",
      "metadata": {
        "id": "Y0pZzbiy_WHz"
      },
      "source": [
        "* Dividindo o dataset de treinamento e validação"
      ]
    },
    {
      "cell_type": "code",
      "metadata": {
        "id": "fLQdA1kWC5kQ"
      },
      "source": [
        "Xtrain, Xval, ytrain, yval = train_test_split(X2, y, random_state=2021, train_size=0.8, stratify=y)"
      ],
      "execution_count": 12,
      "outputs": []
    },
    {
      "cell_type": "code",
      "metadata": {
        "colab": {
          "base_uri": "https://localhost:8080/"
        },
        "id": "Y4oZB-jWC_Z1",
        "outputId": "0166c4c1-a65d-4fd9-a116-0caa6dbdef79"
      },
      "source": [
        "print(Xtrain.shape, Xval.shape, ytrain.shape, yval.shape, X_test2.shape)"
      ],
      "execution_count": 13,
      "outputs": [
        {
          "output_type": "stream",
          "name": "stdout",
          "text": [
            "(640, 61) (160, 61) (640,) (160,) (200, 61)\n"
          ]
        }
      ]
    },
    {
      "cell_type": "markdown",
      "metadata": {
        "id": "LCTA-TsiDDH9"
      },
      "source": [
        "### Modelagem"
      ]
    },
    {
      "cell_type": "code",
      "metadata": {
        "id": "ubS92aCYDEot"
      },
      "source": [
        "early_stopping = keras.callbacks.EarlyStopping(\n",
        "    monitor='val_loss', \n",
        "    verbose=1,\n",
        "    patience=50,\n",
        "    mode='min',\n",
        "    restore_best_weights=True)\n",
        "\n",
        "callback = [\n",
        "    tf.keras.callbacks.ReduceLROnPlateau(monitor='val_loss', patience=45, verbose=1),\n",
        "            tf.keras.callbacks.EarlyStopping(monitor=\"val_loss\",\n",
        "    min_delta=0.001,\n",
        "    patience=50,\n",
        "    verbose=2,\n",
        "    mode=\"auto\",\n",
        "    baseline=None,\n",
        "    restore_best_weights=True,)]"
      ],
      "execution_count": 15,
      "outputs": []
    },
    {
      "cell_type": "code",
      "metadata": {
        "id": "xDMmJm55DNwF"
      },
      "source": [
        "# class_wt = compute_class_weight(\"balanced\", np.unique(y), y)\n",
        "# class_weights = {0:class_wt[0], 1:class_wt[1]}"
      ],
      "execution_count": 16,
      "outputs": []
    },
    {
      "cell_type": "code",
      "metadata": {
        "id": "Jqj3BJxFDQ-6"
      },
      "source": [
        "# define the keras model\n",
        "model = keras.Sequential()\n",
        "model.add(keras.layers.Dense(64, input_dim=Xtrain.shape[1], activation='relu'))\n",
        "model.add(keras.layers.Dense(120, activation='relu'))\n",
        "model.add(keras.layers.Dense(64, activation='relu'))  \n",
        "model.add(keras.layers.Dense(1))#, activation='sigmoid')) \n",
        "model.add(keras.layers.Activation('sigmoid'))## activation='sigmoid' for binary class\n",
        "\n",
        "# compile the keras model\n",
        "model.compile(loss='binary_crossentropy', optimizer='adam', metrics=[tfa.metrics.F1Score(num_classes=1, threshold=0.55)], #\n",
        "             )\n",
        "\n",
        "# fit the keras model on the dataset\n",
        "performance = model.fit(Xtrain, ytrain, epochs=5000, batch_size=32, validation_data=(Xval, yval), shuffle=False,\n",
        "#                         class_weight=class_weights, \n",
        "#                         callbacks =[callback] \n",
        "    callbacks=[early_stopping],\n",
        "                       )"
      ],
      "execution_count": null,
      "outputs": []
    },
    {
      "cell_type": "markdown",
      "metadata": {
        "id": "q1o2vfD2DiOg"
      },
      "source": [
        "### Avaliação de desempenho do modelo"
      ]
    },
    {
      "cell_type": "code",
      "metadata": {
        "colab": {
          "base_uri": "https://localhost:8080/"
        },
        "id": "t9sEhbmMDWKo",
        "outputId": "cd7daffa-d52f-4c98-f629-e43fbf9c5749"
      },
      "source": [
        "performance.history['val_f1_score'].index(max(performance.history['val_f1_score'])), max(performance.history['val_f1_score'])"
      ],
      "execution_count": 18,
      "outputs": [
        {
          "output_type": "execute_result",
          "data": {
            "text/plain": [
              "(123, array([0.8484848], dtype=float32))"
            ]
          },
          "metadata": {},
          "execution_count": 18
        }
      ]
    },
    {
      "cell_type": "code",
      "metadata": {
        "colab": {
          "base_uri": "https://localhost:8080/"
        },
        "id": "KIjI3HCHDxVW",
        "outputId": "9acb4353-60f8-4e12-a1aa-5d77881544ea"
      },
      "source": [
        "performance.history['f1_score'].index(max(performance.history['f1_score'])), max(performance.history['f1_score'])"
      ],
      "execution_count": 19,
      "outputs": [
        {
          "output_type": "execute_result",
          "data": {
            "text/plain": [
              "(225, array([0.8333333], dtype=float32))"
            ]
          },
          "metadata": {},
          "execution_count": 19
        }
      ]
    },
    {
      "cell_type": "code",
      "metadata": {
        "colab": {
          "base_uri": "https://localhost:8080/"
        },
        "id": "rhnmXFemO9K5",
        "outputId": "38383009-d95d-4ace-fc82-513f5e424fc1"
      },
      "source": [
        "[model.predict(Xval).round(0).shape,yval.shape]"
      ],
      "execution_count": 20,
      "outputs": [
        {
          "output_type": "execute_result",
          "data": {
            "text/plain": [
              "[(160, 1), (160,)]"
            ]
          },
          "metadata": {},
          "execution_count": 20
        }
      ]
    },
    {
      "cell_type": "markdown",
      "metadata": {
        "id": "nAXWOXVA1PYJ"
      },
      "source": [
        "* Visualizando o dataset de validação"
      ]
    },
    {
      "cell_type": "code",
      "metadata": {
        "id": "nyZ_pGdSJ2e4"
      },
      "source": [
        "df_val_prev = pd.DataFrame({'y_prev': model.predict(Xval).reshape(1,-1).round(0).astype(int).ravel(), \n",
        "              'y_real':yval.values, 'y_prev_prob': model.predict(Xval).reshape(1,-1).round(2).astype(float).ravel() })"
      ],
      "execution_count": 263,
      "outputs": []
    },
    {
      "cell_type": "code",
      "metadata": {
        "colab": {
          "base_uri": "https://localhost:8080/",
          "height": 204
        },
        "id": "TbLFPOmR1Ddf",
        "outputId": "10079fe9-b155-43f1-ff8e-2cb1a3f48b26"
      },
      "source": [
        "df_val_prev.head()"
      ],
      "execution_count": 264,
      "outputs": [
        {
          "output_type": "execute_result",
          "data": {
            "text/html": [
              "<div>\n",
              "<style scoped>\n",
              "    .dataframe tbody tr th:only-of-type {\n",
              "        vertical-align: middle;\n",
              "    }\n",
              "\n",
              "    .dataframe tbody tr th {\n",
              "        vertical-align: top;\n",
              "    }\n",
              "\n",
              "    .dataframe thead th {\n",
              "        text-align: right;\n",
              "    }\n",
              "</style>\n",
              "<table border=\"1\" class=\"dataframe\">\n",
              "  <thead>\n",
              "    <tr style=\"text-align: right;\">\n",
              "      <th></th>\n",
              "      <th>y_prev</th>\n",
              "      <th>y_real</th>\n",
              "      <th>y_prev_prob</th>\n",
              "    </tr>\n",
              "  </thead>\n",
              "  <tbody>\n",
              "    <tr>\n",
              "      <th>0</th>\n",
              "      <td>1</td>\n",
              "      <td>0</td>\n",
              "      <td>0.53</td>\n",
              "    </tr>\n",
              "    <tr>\n",
              "      <th>1</th>\n",
              "      <td>1</td>\n",
              "      <td>1</td>\n",
              "      <td>0.68</td>\n",
              "    </tr>\n",
              "    <tr>\n",
              "      <th>2</th>\n",
              "      <td>1</td>\n",
              "      <td>1</td>\n",
              "      <td>0.84</td>\n",
              "    </tr>\n",
              "    <tr>\n",
              "      <th>3</th>\n",
              "      <td>1</td>\n",
              "      <td>1</td>\n",
              "      <td>0.96</td>\n",
              "    </tr>\n",
              "    <tr>\n",
              "      <th>4</th>\n",
              "      <td>1</td>\n",
              "      <td>1</td>\n",
              "      <td>0.72</td>\n",
              "    </tr>\n",
              "  </tbody>\n",
              "</table>\n",
              "</div>"
            ],
            "text/plain": [
              "   y_prev  y_real  y_prev_prob\n",
              "0       1       0         0.53\n",
              "1       1       1         0.68\n",
              "2       1       1         0.84\n",
              "3       1       1         0.96\n",
              "4       1       1         0.72"
            ]
          },
          "metadata": {},
          "execution_count": 264
        }
      ]
    },
    {
      "cell_type": "code",
      "metadata": {
        "colab": {
          "base_uri": "https://localhost:8080/",
          "height": 621
        },
        "id": "NmLec3DXMn4Z",
        "outputId": "7ba559ca-c004-4dee-df90-04ad8968d080"
      },
      "source": [
        "import matplotlib.pyplot as plt \n",
        "plt.subplots(figsize=(15,10))\n",
        "plt.plot(yval.values,'g.')\n",
        "plt.plot(model.predict(Xval).reshape(1,-1).round(2).astype(float).ravel(),'b.')\n",
        "plt.plot([0.5]*161,'r.')\n",
        "plt.xlabel('Amostra de teste')\n",
        "plt.ylabel('y')\n",
        "plt.title('y  -  Vermelho = valor real, Azul = previsão do modelo')\n",
        "plt.grid(True)\n",
        "plt.show()"
      ],
      "execution_count": 218,
      "outputs": [
        {
          "output_type": "display_data",
          "data": {
            "image/png": "[encoded data removed]",
            "text/plain": [
              "<Figure size 1080x720 with 1 Axes>"
            ]
          },
          "metadata": {
            "needs_background": "light"
          }
        }
      ]
    },
    {
      "cell_type": "markdown",
      "metadata": {
        "id": "fYQdx34RrMdK"
      },
      "source": [
        "* Valores que o modelo previu incorretamente"
      ]
    },
    {
      "cell_type": "code",
      "metadata": {
        "colab": {
          "base_uri": "https://localhost:8080/",
          "height": 621
        },
        "id": "TVzE9L0ylF13",
        "outputId": "faec7422-e983-4d10-9ea3-535299570935"
      },
      "source": [
        "####\n",
        "x=df_val_prev[df_val_prev['y_prev']!=df_val_prev['y_real']].index\n",
        "y=df_val_prev[prev['y_prev']!=df_val_prev['y_real']]\n",
        "#########################\n",
        "#plt.subplots(figsize=(15,10))\n",
        "fig = plt.figure(figsize=(15,10))\n",
        "ax = fig.gca()\n",
        "ax.set_xticks(np.arange(0, 160, 5))\n",
        "#plt.scatter(x,y['y_prev'])\n",
        "plt.scatter(x,y['y_real'])\n",
        "plt.scatter(x,y['y_prev_prob'])\n",
        "plt.plot(x,[0.5]*len(x))\n",
        "plt.xlabel('Amostra de teste')\n",
        "plt.ylabel('y')\n",
        "plt.title('Modelo previu incorretamente')\n",
        "plt.grid(True)\n",
        "plt.show()"
      ],
      "execution_count": 265,
      "outputs": [
        {
          "output_type": "display_data",
          "data": {
            "image/png": "[encoded data removed]",
            "text/plain": [
              "<Figure size 1080x720 with 1 Axes>"
            ]
          },
          "metadata": {
            "needs_background": "light"
          }
        }
      ]
    },
    {
      "cell_type": "code",
      "metadata": {
        "colab": {
          "base_uri": "https://localhost:8080/"
        },
        "id": "ekW-DCGDw5Hm",
        "outputId": "7b861345-b85c-42e1-e5d5-41b8d383f85e"
      },
      "source": [
        "y_maior_04 = y[y['y_prev_prob'] > 0.4]\n",
        "y_entre_04_e_06 = y_maior_04[y_maior_04['y_prev_prob'] < 0.6] \n",
        "round(len(y_entre_04_e_06['y_prev_prob'])/len(y['y_prev_prob']),2)"
      ],
      "execution_count": 261,
      "outputs": [
        {
          "output_type": "execute_result",
          "data": {
            "text/plain": [
              "0.52"
            ]
          },
          "metadata": {},
          "execution_count": 261
        }
      ]
    },
    {
      "cell_type": "markdown",
      "metadata": {
        "id": "LUz_xLaizF72"
      },
      "source": [
        "*Dos valores previstos incorretos pelo modelo,\n",
        " 52% estão entre as probabilidades: 0.4 e 0.6; \n",
        "que pode ser algo positivo para o modelo.*    "
      ]
    },
    {
      "cell_type": "markdown",
      "metadata": {
        "id": "pnATe40HD2CD"
      },
      "source": [
        "### Previsão e apresentação"
      ]
    },
    {
      "cell_type": "code",
      "metadata": {
        "id": "lYvo84XZDyPN"
      },
      "source": [
        "y_pred_test = model.predict(X_test2)"
      ],
      "execution_count": 22,
      "outputs": []
    },
    {
      "cell_type": "code",
      "metadata": {
        "colab": {
          "base_uri": "https://localhost:8080/"
        },
        "id": "BFItp7fMD-KU",
        "outputId": "ed7d2904-dbec-4141-8289-19150d276153"
      },
      "source": [
        "pd.DataFrame(y_pred_test)[0].apply(lambda x: int(round(x, 0))).value_counts()"
      ],
      "execution_count": 23,
      "outputs": [
        {
          "output_type": "execute_result",
          "data": {
            "text/plain": [
              "1    160\n",
              "0     40\n",
              "Name: 0, dtype: int64"
            ]
          },
          "metadata": {},
          "execution_count": 23
        }
      ]
    },
    {
      "cell_type": "code",
      "metadata": {
        "id": "-bCj2ybsEAcj"
      },
      "source": [
        "res = pd.DataFrame(y_pred_test) #preditcions are nothing but the final predictions of your model on input features of your new unseen test data\n",
        "res.index = test.index # its important for comparison. Here \"test_new\" is your new test dataset\n",
        "res.columns = [\"prediction\"]\n",
        "res.prediction = res.prediction.apply(lambda x: int(round(x, 0)))"
      ],
      "execution_count": 24,
      "outputs": []
    },
    {
      "cell_type": "markdown",
      "metadata": {
        "id": "qHSo3kn4EH2P"
      },
      "source": [
        "* o arquivo csv será salvo localmente no mesmo local onde este bloco de notas está localizado."
      ]
    },
    {
      "cell_type": "code",
      "metadata": {
        "id": "-rKMgQ22EHHv"
      },
      "source": [
        "res.to_csv(\"/content/prediction_results.csv\", index = False)"
      ],
      "execution_count": 25,
      "outputs": []
    },
    {
      "cell_type": "code",
      "metadata": {
        "colab": {
          "base_uri": "https://localhost:8080/",
          "height": 419
        },
        "id": "Q5MOJY6MKkv3",
        "outputId": "05438875-8dfb-4f20-f016-107f849021b9"
      },
      "source": [
        "res"
      ],
      "execution_count": 26,
      "outputs": [
        {
          "output_type": "execute_result",
          "data": {
            "text/html": [
              "<div>\n",
              "<style scoped>\n",
              "    .dataframe tbody tr th:only-of-type {\n",
              "        vertical-align: middle;\n",
              "    }\n",
              "\n",
              "    .dataframe tbody tr th {\n",
              "        vertical-align: top;\n",
              "    }\n",
              "\n",
              "    .dataframe thead th {\n",
              "        text-align: right;\n",
              "    }\n",
              "</style>\n",
              "<table border=\"1\" class=\"dataframe\">\n",
              "  <thead>\n",
              "    <tr style=\"text-align: right;\">\n",
              "      <th></th>\n",
              "      <th>prediction</th>\n",
              "    </tr>\n",
              "  </thead>\n",
              "  <tbody>\n",
              "    <tr>\n",
              "      <th>0</th>\n",
              "      <td>1</td>\n",
              "    </tr>\n",
              "    <tr>\n",
              "      <th>1</th>\n",
              "      <td>1</td>\n",
              "    </tr>\n",
              "    <tr>\n",
              "      <th>2</th>\n",
              "      <td>1</td>\n",
              "    </tr>\n",
              "    <tr>\n",
              "      <th>3</th>\n",
              "      <td>1</td>\n",
              "    </tr>\n",
              "    <tr>\n",
              "      <th>4</th>\n",
              "      <td>0</td>\n",
              "    </tr>\n",
              "    <tr>\n",
              "      <th>...</th>\n",
              "      <td>...</td>\n",
              "    </tr>\n",
              "    <tr>\n",
              "      <th>195</th>\n",
              "      <td>1</td>\n",
              "    </tr>\n",
              "    <tr>\n",
              "      <th>196</th>\n",
              "      <td>0</td>\n",
              "    </tr>\n",
              "    <tr>\n",
              "      <th>197</th>\n",
              "      <td>1</td>\n",
              "    </tr>\n",
              "    <tr>\n",
              "      <th>198</th>\n",
              "      <td>1</td>\n",
              "    </tr>\n",
              "    <tr>\n",
              "      <th>199</th>\n",
              "      <td>1</td>\n",
              "    </tr>\n",
              "  </tbody>\n",
              "</table>\n",
              "<p>200 rows × 1 columns</p>\n",
              "</div>"
            ],
            "text/plain": [
              "     prediction\n",
              "0             1\n",
              "1             1\n",
              "2             1\n",
              "3             1\n",
              "4             0\n",
              "..          ...\n",
              "195           1\n",
              "196           0\n",
              "197           1\n",
              "198           1\n",
              "199           1\n",
              "\n",
              "[200 rows x 1 columns]"
            ]
          },
          "metadata": {},
          "execution_count": 26
        }
      ]
    },
    {
      "cell_type": "markdown",
      "metadata": {
        "id": "HPPW3e9tDyxO"
      },
      "source": [
        "## Front-end: Criando um aplicativo da Web\n"
      ]
    },
    {
      "cell_type": "markdown",
      "metadata": {
        "id": "e6V84p39EHaT"
      },
      "source": [
        "* Instalando algumas bibliotecas que possibilitam o uso da biblioteca Dash no ambiente Jupyter notebook - Google Colab."
      ]
    },
    {
      "cell_type": "code",
      "metadata": {
        "id": "yLKrlyJ5EBlt"
      },
      "source": [
        "!pip install dash\n",
        "!pip install google-auth\n",
        "!pip install pandas-gbq\n",
        "!pip install jupyter_dash\n",
        "!pip install dash-bootstrap-components"
      ],
      "execution_count": null,
      "outputs": []
    },
    {
      "cell_type": "markdown",
      "metadata": {
        "id": "Jn7Bm6jtsaBU"
      },
      "source": [
        "* Carregando bibliotecas"
      ]
    },
    {
      "cell_type": "code",
      "metadata": {
        "id": "dS6uetu_sYiL"
      },
      "source": [
        "import dash\n",
        "from jupyter_dash import JupyterDash \n",
        "import dash_core_components as dcc\n",
        "import dash_bootstrap_components as dbc\n",
        "import dash_html_components as html\n",
        "from dash.dependencies import Output, Input, State\n",
        "from datetime import date\n",
        "\n",
        "import plotly.express as px\n",
        "import plotly.graph_objects as go\n",
        "import pandas as pd\n",
        "from google.oauth2 import service_account  # pip install google-auth\n",
        "import pandas_gbq  # pip install pandas-gbq"
      ],
      "execution_count": 28,
      "outputs": []
    },
    {
      "cell_type": "markdown",
      "metadata": {
        "id": "VQrbplOCD2pT"
      },
      "source": [
        "#### Criar aplicativo Dash"
      ]
    },
    {
      "cell_type": "markdown",
      "metadata": {
        "id": "d5tZNCSZBHbe"
      },
      "source": [
        "* As colunas preditoras "
      ]
    },
    {
      "cell_type": "code",
      "metadata": {
        "id": "a5Z5vNha9k-m"
      },
      "source": [
        "prediction_col1 =  dbc.Col([ \n",
        "                html.Br(),\n",
        "                dbc.Row([html.H3(children='Predição do Risco de Crédito')]),\n",
        "                dbc.Row([\n",
        "                    dbc.Col(html.Label(children='Status da conta corrente existente:'), width={\"order\": \"first\"}, style = {'padding': '15px 0px 0px 0px'}),\n",
        "                    dcc.Dropdown(\n",
        "                        id='checking_status',\n",
        "                        options=[\n",
        "                            {'label': 'sem conta corrente', 'value': 'sem conta corrente'},\n",
        "                            {'label': 'menor que 0', 'value': '<0'},\n",
        "                            {'label': 'maior ou igual a 0 e menor que 200', 'value': '0<=X<200'},\n",
        "                            {'label': 'maior que 200', 'value': '>=200'}, \n",
        "                        ],\n",
        "                        value='0<=X<200',\n",
        "                        style = {\"width\": \"50%\", 'padding': '5px 0px 5px 10px', 'display': 'inline-block'}\n",
        "                    )\n",
        "                ]),\n",
        "                dbc.Row([\n",
        "                    dbc.Col(html.Label(children='Duração em meses:'), width={\"order\": \"first\"}, style = {'padding': '15px 0px 0px 0px'}),\n",
        "                    dbc.Col(dbc.Input(id='duration', type='text', value = '4', style = {'padding': '5px 0px 5px 10px', 'width': '200px'}))\n",
        "                ]), \n",
        "                dbc.Row([\n",
        "                    dbc.Col(html.Label(children='Histórico de crédito:'), width={\"order\": \"first\"}, style = {'padding': '15px 0px 0px 0px'}),\n",
        "                    dcc.Dropdown(\n",
        "                        id='credit_history',\n",
        "                        options=[\n",
        "                            {'label': 'nenhum crédito / tudo pago', 'value': 'no credits/all paid'},\n",
        "                            {'label': 'créditos recebidos', 'value': 'existing paid'},\n",
        "                            {'label': 'pagos devidamente', 'value': 'all paid'},        \n",
        "                            {'label': 'atrasos anteriormente', 'value': 'delayed previously'},\n",
        "                            {'label': 'crédito crítico / outro existente', 'value': 'critical/other existing credit'},                 \n",
        "                        ],\n",
        "                        style = {\"width\": \"30%\", 'padding': '5px 0px 5px 10px' , 'display': 'inline-block'},\n",
        "                        value='critical/other existing credit'\n",
        "                    )\n",
        "                ]),\n",
        "                dbc.Row([\n",
        "                    dbc.Col(html.Label(children='Propósito:'), width={\"order\": \"first\"}, style = {'padding': '15px 0px 0px 0px'}),\n",
        "                    dcc.Dropdown(\n",
        "                        id='purpose',\n",
        "                        options=[\n",
        "                            {'label': 'rádio / tv', 'value': 'radio/tv'},\n",
        "                            {'label': 'reparos', 'value': 'repairs'},\n",
        "                            {'label': 'educação', 'value': 'education'},\n",
        "                            {'label': 'móveis / equipamentos', 'value': 'furniture/equipment'},\n",
        "                            {'label': 'negócio', 'value': 'business'},   \n",
        "                            {'label': 'carro usado', 'value': 'used car'},         \n",
        "                            {'label': 'carro novo', 'value': 'new car'},\n",
        "                            {'label': 'retreinamento', 'value': 'retraining'},\n",
        "                            {'label': 'eletrodoméstico', 'value': 'domestic appliance'},\n",
        "                            {'label': 'outro', 'value': 'other'},                 \n",
        "                        ],\n",
        "                        style = {\"width\": \"30%\", 'padding': '5px 0px 5px 10px', 'display': 'inline-block' },\n",
        "                        value='radio/tv'\n",
        "                    )\n",
        "                ]),\n",
        "                dbc.Row([\n",
        "                    dbc.Col(html.Label(children='Quantidade de crédito:'), width={\"order\": \"first\"}, style = {'padding': '15px 0px 0px 0px'}),\n",
        "                    dbc.Col(dbc.Input(id='credit_amount', type='text', value = '1000', style = {'padding': '5px 0px 5px 10px', 'width': '200px'}))\n",
        "                ]),  \n",
        "                dbc.Row([\n",
        "                    dbc.Col(html.Label(children='Estado de poupança:'), width={\"order\": \"first\"}, style = {'padding': '5px 0px 5px 0px'}),\n",
        "                    dbc.RadioItems(\n",
        "                        id='savings_status',\n",
        "                        options=[\n",
        "                            {'label': 'nenhuma economia conhecida', 'value': 'no known savings'},\n",
        "                            {'label': 'menor que 100', 'value': '<100'},\n",
        "                            {'label': 'maior ou igual a 100 e menor que 500', 'value': '100<=X<500'},\n",
        "                            {'label': 'maior ou igual a 500 e menor que 1000', 'value': '500<=X<1000'},\n",
        "                            {'label': 'maior ou igual a 1000', 'value': '>=1000'}\n",
        "                            ],\n",
        "                        style = {\"width\": \"60%\", 'padding': '5px 0px 10px 10px', 'display': 'inline-block' },\n",
        "                        value = 'no known savings',\n",
        "                        labelStyle={'display': 'inline-block'},\n",
        "                        inline=True # arrange list horizontally\n",
        "                    )\n",
        "                ]), \n",
        "                dbc.Row([\n",
        "                    dbc.Col(html.Label(children='Emprego atual, em número de anos:'), width={\"order\": \"first\"}, style = {'padding': '5px 0px 5px 0px'}),\n",
        "                    dbc.RadioItems(\n",
        "                        id='employment',\n",
        "                        options=[\n",
        "                            {'label': 'desempregado (a)', 'value': 'unemployed'},\n",
        "                            {'label': 'menor que 1', 'value': '<1'},\n",
        "                            {'label': 'maior ou igual a 1 e menor que 4', 'value': '1<=X<4'},\n",
        "                            {'label': 'maior ou igual a 4 e menor que 7', 'value': '4<=X<7'},\n",
        "                            {'label': 'maior ou igual a 7', 'value': '>=7'}\n",
        "                            ],\n",
        "                        style = {\"width\": \"60%\", 'padding': '5px 0px 10px 10px', 'display': 'inline-block' },\n",
        "                        value = 'unemployed',\n",
        "                        labelStyle={'display': 'inline-block'},\n",
        "                        inline=True # arrange list horizontally\n",
        "                    )\n",
        "                ]),\n",
        "                  dbc.Row([\n",
        "                    dbc.Col(html.Label(children='Compromisso de parcelamento:'), width={\"order\": \"first\"}, style = {'padding': '5px 0px 5px 0px'}),\n",
        "                    dbc.RadioItems(\n",
        "                        id='installment_commitment',\n",
        "                        options=[\n",
        "                            {'label': '1', 'value': 1},\n",
        "                            {'label': '2', 'value': 2},\n",
        "                            {'label': '3', 'value': 3},\n",
        "                            {'label': '4', 'value': 4}\n",
        "                            ],\n",
        "                        style = {\"width\": \"60%\", 'padding': '5px 0px 10px 10px', 'display': 'inline-block' },\n",
        "                        value = 3,\n",
        "                        labelStyle={'display': 'inline-block'},\n",
        "                        inline=True # arrange list horizontally\n",
        "                    )\n",
        "                ]),\n",
        "                dbc.Row([\n",
        "                    dbc.Col(html.Label(children='Status pessoal (casado, solteiro, ...) e sexo:'), width={\"order\": \"first\"}, style = {'padding': '5px 0px 5px 0px'}),\n",
        "                    dbc.RadioItems(\n",
        "                        id='personal_status',\n",
        "                        options=[\n",
        "                            {'label': 'homem solteiro', 'value': 'male single'},\n",
        "                            {'label': 'mulher casada/separada/divorciada', 'value': 'female div/dep/mar'},\n",
        "                            {'label': 'homem casado', 'value': 'male mar/wid'},\n",
        "                            {'label': 'homem separado/divorciado', 'value': 'male div/sep'}\n",
        "                            ],\n",
        "                        style = {\"width\": \"60%\", 'padding': '5px 0px 10px 10px', 'display': 'inline-block' },\n",
        "                        value = 'male single',\n",
        "                        labelStyle={'display': 'inline-block'},\n",
        "                        inline=True # arrange list horizontally\n",
        "                    )\n",
        "                ]),\n",
        "                dbc.Row([\n",
        "                    dbc.Col(html.Label(children='Outros devedores / fiadores:'), width={\"order\": \"first\"}, style = {'padding': '5px 0px 5px 0px'}),\n",
        "                    dbc.RadioItems(\n",
        "                        id='other_parties',\n",
        "                        options=[\n",
        "                            {'label': 'nenhum', 'value': 'none'},\n",
        "                            {'label': 'fiador', 'value': 'guarantor'},\n",
        "                            {'label': 'co-requerente', 'value': 'co applicant'},\n",
        "                            ],\n",
        "                        style = {\"width\": \"60%\", 'padding': '5px 0px 10px 10px', 'display': 'inline-block' },\n",
        "                        value = 'guarantor',\n",
        "                        labelStyle={'display': 'inline-block'},\n",
        "                        inline=True # arrange list horizontally\n",
        "                    )\n",
        "                ]),\n",
        "                dbc.Row([\n",
        "                    dbc.Col(html.Label(children='Residência atual desde X anos:'), width={\"order\": \"first\"}, style = {'padding': '15px 0px 0px 0px'}),\n",
        "                    dbc.Col(dbc.Input(id='residence_since', type='text', value = '1', style = {'padding': '5px 0px 5px 10px', 'width': '200px'}))\n",
        "                ]),\n",
        "                dbc.Row([\n",
        "                    dbc.Col(html.Label(children='Propriedade (por exemplo, imóveis):'), width={\"order\": \"first\"}, style = {'padding': '5px 0px 5px 0px'}),\n",
        "                    dbc.RadioItems(\n",
        "                        id='property_magnitude',\n",
        "                        options=[\n",
        "                            {'label': 'carro', 'value': 'car'},\n",
        "                            {'label': 'imobiliária', 'value': 'real estate'},\n",
        "                            {'label': 'seguro de vida', 'value': 'life insurance'},\n",
        "                            {'label': 'nenhuma propriedade conhecida', 'value': 'no known property'}\n",
        "                            ],\n",
        "                        style = {\"width\": \"60%\", 'padding': '5px 0px 10px 10px', 'display': 'inline-block' },\n",
        "                        value = 'car',\n",
        "                        labelStyle={'display': 'inline-block'},\n",
        "                        inline=True # arrange list horizontally\n",
        "                    )\n",
        "                ]),\n",
        "                dbc.Row([\n",
        "                    dbc.Col(html.Label(children='Idade em anos:'), width={\"order\": \"first\"}, style = {'padding': '15px 0px 0px 0px'}),\n",
        "                    dbc.Col(dbc.Input(id='age', type='text', value = '18', style = {'padding': '5px 0px 5px 10px', 'width': '200px'}))\n",
        "                ]), \n",
        "                 dbc.Row([\n",
        "                    dbc.Col(html.Label(children='Outros planos de parcelamento (bancos, lojas):'), width={\"order\": \"first\"}, style = {'padding': '5px 0px 5px 0px'}),\n",
        "                    dbc.RadioItems(\n",
        "                        id='other_payment_plans',\n",
        "                        options=[\n",
        "                            {'label': 'nenhum', 'value': 'none'},\n",
        "                            {'label': 'banco', 'value': 'bank'},\n",
        "                            {'label': 'lojas', 'value': 'stores'}\n",
        "                            ],\n",
        "                        style = {\"width\": \"60%\", 'padding': '5px 0px 10px 10px', 'display': 'inline-block' },\n",
        "                        value = 'bank',\n",
        "                        labelStyle={'display': 'inline-block'},\n",
        "                        inline=True # arrange list horizontally\n",
        "                    )\n",
        "                ]),\n",
        "                dbc.Row([\n",
        "                    dbc.Col(html.Label(children='Habitação:'), width={\"order\": \"first\"}, style = {'padding': '5px 0px 5px 0px'}),\n",
        "                    dbc.RadioItems(\n",
        "                        id='housing',\n",
        "                        options=[\n",
        "                            {'label': 'próprio', 'value': 'own'},\n",
        "                            {'label': 'aluguel', 'value': 'rent'},\n",
        "                            {'label': 'grátis', 'value': 'for free'}\n",
        "                            ],\n",
        "                        style = {\"width\": \"60%\", 'padding': '5px 0px 10px 10px', 'display': 'inline-block' },\n",
        "                        value = 'own',\n",
        "                        labelStyle={'display': 'inline-block'},\n",
        "                        inline=True # arrange list horizontally\n",
        "                    )\n",
        "                ]), \n",
        "                dbc.Row([\n",
        "                    dbc.Col(html.Label(children='Número de créditos existentes neste banco:'), width={\"order\": \"first\"}, style = {'padding': '15px 0px 0px 0px'}),\n",
        "                    dbc.Col(dbc.Input(id='existing_credits', type='text', value = '0', style = {'padding': '5px 0px 5px 10px', 'width': '200px'}))\n",
        "                ]),\n",
        "                dbc.Row([\n",
        "                    dbc.Col(html.Label(children='Trabalho:'), width={\"order\": \"first\"}, style = {'padding': '5px 0px 5px 0px'}),\n",
        "                    dbc.RadioItems(\n",
        "                        id='job',\n",
        "                        options=[\n",
        "                            {'label': 'qualificado', 'value': 'skilled'},\n",
        "                            {'label': 'alto qualificado', 'value': 'high qualif/self emp/mgmt'},\n",
        "                            {'label': 'residente não qualificado', 'value': 'unskilled resident'},\n",
        "                            {'label': 'desocupado / não qualificado', 'value': 'unemp/unskilled non res'}\n",
        "                            ],\n",
        "                        style = {\"width\": \"60%\", 'padding': '5px 0px 10px 10px', 'display': 'inline-block' },\n",
        "                        value = 'skilled',\n",
        "                        labelStyle={'display': 'inline-block'},\n",
        "                        inline=True # arrange list horizontally\n",
        "                    )\n",
        "                ]),\n",
        "                dbc.Row([\n",
        "                    dbc.Col(html.Label(children='Número de dependentes:'), width={\"order\": \"first\"}, style = {'padding': '15px 0px 0px 0px'}),\n",
        "                    dbc.Col(dbc.Input(id='num_dependents', type='text', value = '0', style = {'padding': '5px 0px 5px 10px', 'width': '200px'}))\n",
        "                ]),                       \n",
        "                html.Br(),\n",
        "                dbc.Row([\n",
        "                    dbc.Col(html.Label(children='Telefone:'), width={\"order\": \"first\"}, style = {'padding': '5px 0px 5px 0px'}),\n",
        "                    dbc.RadioItems(\n",
        "                        id='own_telephone',\n",
        "                        options=[\n",
        "                            {'label': 'sim', 'value': 'yes'},\n",
        "                            {'label': 'não', 'value': 'none'}\n",
        "                            ],\n",
        "                        style = {\"width\": \"60%\", 'padding': '5px 0px 10px 10px', 'display': 'inline-block' },\n",
        "                        value = 'yes',\n",
        "                        labelStyle={'display': 'inline-block'},\n",
        "                        inline=True # arrange list horizontally\n",
        "                    )\n",
        "                ]),\n",
        "                dbc.Row([\n",
        "                    dbc.Col(html.Label(children='Trabalhador estrangeiro:'), width={\"order\": \"first\"}, style = {'padding': '5px 0px 5px 0px'}),\n",
        "                    dbc.RadioItems(\n",
        "                        id='foreign_worker',\n",
        "                        options=[\n",
        "                            {'label': 'sim', 'value': 'yes'},\n",
        "                            {'label': 'não', 'value': 'no'}\n",
        "                            ],\n",
        "                        style = {\"width\": \"60%\", 'padding': '5px 0px 10px 10px', 'display': 'inline-block' },\n",
        "                        value = 'yes',\n",
        "                        labelStyle={'display': 'inline-block'},\n",
        "                        inline=True # arrange list horizontally\n",
        "                    )\n",
        "                ]),\n",
        "                dbc.Row([dbc.Button('Submit', id='submit-val', n_clicks=0, color=\"primary\")]),\n",
        "                html.Br(),\n",
        "                dbc.Row([html.Div(id='container-button-basic')])\n",
        "            ], style = {'padding': '0px 0px 0px 150px'})\n"
      ],
      "execution_count": 29,
      "outputs": []
    },
    {
      "cell_type": "markdown",
      "metadata": {
        "id": "x-nTxqhC-h6Q"
      },
      "source": [
        " * Preparando o layout"
      ]
    },
    {
      "cell_type": "code",
      "metadata": {
        "id": "DohzKi0m_eMX"
      },
      "source": [
        "external_stylesheets = ['https://codepen.io/chriddyp/pen/bWLwgP.css']\n",
        "\n",
        "app = JupyterDash(__name__, external_stylesheets=external_stylesheets)\n",
        "\n",
        "app.layout = html.Div([\n",
        "    html.H1(children='Risco de Crédito - Dashboard'),\n",
        "    html.Div(children='''Risco de crédito  é calculado com base nos dados fornecido pelo  desafio Data Sprint 50 - Risco de Crédito da plataforma de competição de ciência de dados Dphi.'''),\n",
        "    html.Div(children='Desenvolvedor: Rodrigo Tito'),\n",
        "    html.Br(),\n",
        "\n",
        "    dcc.Tabs(style = {'width': '100%'}, children=[\n",
        "        # this is the  firt tab\n",
        "        dcc.Tab(label='Análise do dataset', children = [\n",
        "            dbc.Row([\n",
        "                dbc.Col(\n",
        "            html.Div([\n",
        "                html.Label([\n",
        "                 \"X - Feature\",\n",
        "                 dcc.Dropdown(\n",
        "                  id='x-dropdown', clearable=False,\n",
        "                  value=df.columns[0], \n",
        "                  options=[ \n",
        "                   {'label': c, 'value': c} for c in df.columns \n",
        "                   ])\n",
        "                 ]),\n",
        "                 html.Label([\n",
        "                  \"Y - Feature\",\n",
        "                  dcc.Dropdown(\n",
        "                   id='y-dropdown', clearable=False,\n",
        "                    value=df.columns[0], options=[ {'label': c, 'value': c} for c in df.columns\n",
        "                    ])\n",
        "                  ]),\n",
        "                  html.Label([ \n",
        "                  \"Color - Feature\",\n",
        "                  dcc.Dropdown(\n",
        "                  id='color-dropdown', clearable=False,\n",
        "                  value=df.columns[0], options=[ {'label': c, 'value': c} for c in df.columns                        \n",
        "                  ])           \n",
        "                ])\n",
        "            ])\n",
        "            )\n",
        "                ]),\n",
        "                dbc.Row([\n",
        "                    dbc.Col(html.Div(dcc.Graph(id='bar-graph'), style = {'width': '100%'}))\n",
        "                ]) \n",
        "        ]), # the end of the firt tab\n",
        "\n",
        "        # this is the second tab\n",
        "        dcc.Tab(label='Predição do Risco de Crédito', children = [\n",
        "            dbc.Row([prediction_col1])\n",
        "        ]) # the end of the second tab\n",
        "\n",
        "    ]) # end of all tabs\n",
        "\n",
        "], style = {'padding': '20px'}) # the end of app.layout"
      ],
      "execution_count": 55,
      "outputs": []
    },
    {
      "cell_type": "markdown",
      "metadata": {
        "id": "N7wHgNRJ_i3Z"
      },
      "source": [
        "* criando retorno do dash"
      ]
    },
    {
      "cell_type": "code",
      "metadata": {
        "id": "N-wazcQED2Ay",
        "colab": {
          "base_uri": "https://localhost:8080/",
          "height": 51
        },
        "outputId": "1e12f82e-423e-4bab-cca7-d012775f86d2"
      },
      "source": [
        "#############################\n",
        "# criar retorno para gráfico de barras\n",
        "@app.callback(\n",
        "    Output('bar-graph', 'figure'),\n",
        "    Input(\"x-dropdown\",\"value\"),\n",
        "     Input(\"y-dropdown\",\"value\"),\n",
        "     Input(\"color-dropdown\",\"value\")\n",
        ")\n",
        "def update_bar_graph (feature_x,feature_y,color):\n",
        "    fig = px.bar(df, x = feature_x, y = feature_y, color = color, title=f' {feature_x} versus {feature_y}',\n",
        "                 height=500\n",
        "    )\n",
        "    fig.update_layout(\n",
        "        title  = {'x':0.5, 'xanchor': 'center', 'yanchor': 'top', 'font': {'size': 20}},\n",
        "        hovermode = 'x unified',\n",
        "        hoverlabel = {'font_size': 16, 'font_family': \"Rockwell\", 'namelength': 20,'font': {'size': 20}}\n",
        "    )\n",
        "    fig.update_traces(hovertemplate=None)\n",
        "    \n",
        "    return fig\n",
        "##############################\n",
        "# criar retorno para predição\n",
        "@app.callback(\n",
        "    Output('container-button-basic', 'children'),\n",
        "    # As entradas irão acionar seu callback;\n",
        "    [Input('submit-val', 'n_clicks'),\n",
        "    State('checking_status', 'value'),\n",
        "    State('duration', 'value'),\n",
        "    State('credit_history', 'value'), \n",
        "    State('purpose', 'value'),\n",
        "    State('credit_amount', 'value'),\n",
        "    State('savings_status', 'value'),\n",
        "    State('employment', 'value'),\n",
        "    State('installment_commitment', 'value'),\n",
        "    State('personal_status', 'value'),\n",
        "    State('other_parties', 'value'),\n",
        "    State('residence_since', 'value'),\n",
        "    State('property_magnitude', 'value'),\n",
        "    State('age', 'value'),\n",
        "    State('other_payment_plans', 'value'),\n",
        "    State('housing', 'value'),\n",
        "    State('existing_credits', 'value'),\n",
        "    State('job', 'value'),\n",
        "    State('num_dependents', 'value'),\n",
        "    State('own_telephone', 'value'),\n",
        "    State('foreign_worker', 'value')]\n",
        "    ) \n",
        "   \n",
        "def update_output(n_clicks, checking_status,\tduration,\tcredit_history,\tpurpose,\tcredit_amount,\n",
        "                  savings_status,\temployment,\tinstallment_commitment,\tpersonal_status,\tother_parties,\n",
        "                  residence_since,\tproperty_magnitude,\tage,\tother_payment_plans,\thousing,\texisting_credits,\n",
        "                  job,\tnum_dependents,\town_telephone,\tforeign_worker):\n",
        "    \n",
        "    result = []\n",
        "    for col in all_data.columns:\n",
        "      if col.split('_')[-1] in ('duration','amount','commitment','since','age', 'credits','dependents'):\n",
        "        result.append(int(locals()[col]))\n",
        "      else:\n",
        "        if col.split('_')[-1] == (locals()['_'.join(col.split('_')[:-1])]):\n",
        "          result.append(1)\n",
        "        else:\n",
        "          result.append(0)\n",
        "    dict_from_list = dict(zip(all_data.columns, result))\n",
        "    query = pd.DataFrame(dict_from_list,index = [0],columns = all_data.columns)      \n",
        "    \n",
        "    prediction = int(model.predict(query)[0].round(0))\n",
        "    output = int(prediction)\n",
        "    if output == 1 :\n",
        "      if  model.predict(query)[0]>0.5 and model.predict(query)[0] < 0.8:\n",
        "        return html.H1(children='RISCO DE CRÉDITO DE '+ f'{(100-(model.predict(query)[0][0])*100).round(2)}'+'%' + \": REGULAR!\")\n",
        "      else:\n",
        "        return html.H1(children='RISCO DE CRÉDITO DE '+ f'{(100-(model.predict(query)[0][0])*100).round(2)}' +'%'+ \": BOM!\")\n",
        "    else:\n",
        "       return  html.H1(children='RISCO DE CRÉDITO DE '+ f'{(100-(model.predict(query)[0][0])*100).round(2)}' +'%' + \": RUIM!\") \n",
        "\n",
        "if __name__ == '__main__':\n",
        "    app.run_server(debug=True)"
      ],
      "execution_count": 56,
      "outputs": [
        {
          "output_type": "stream",
          "name": "stdout",
          "text": [
            "Dash app running on:\n"
          ]
        },
        {
          "output_type": "display_data",
          "data": {
            "application/javascript": [
              "(async (port, path, text, element) => {\n",
              "    if (!google.colab.kernel.accessAllowed) {\n",
              "      return;\n",
              "    }\n",
              "    element.appendChild(document.createTextNode(''));\n",
              "    const url = await google.colab.kernel.proxyPort(port);\n",
              "    const anchor = document.createElement('a');\n",
              "    anchor.href = new URL(path, url).toString();\n",
              "    anchor.target = '_blank';\n",
              "    anchor.setAttribute('data-href', url + path);\n",
              "    anchor.textContent = text;\n",
              "    element.appendChild(anchor);\n",
              "  })(8050, \"/\", \"http://127.0.0.1:8050/\", window.element)"
            ],
            "text/plain": [
              "<IPython.core.display.Javascript object>"
            ]
          },
          "metadata": {}
        }
      ]
    },
    {
      "cell_type": "code",
      "metadata": {
        "id": "gcBSmc6t5j3u"
      },
      "source": [
        "!pip install pyngrok"
      ],
      "execution_count": null,
      "outputs": []
    },
    {
      "cell_type": "code",
      "metadata": {
        "id": "VrSwML6ULY_E"
      },
      "source": [
        "! ngrok authtoken xxxxxxxxxx "
      ],
      "execution_count": null,
      "outputs": []
    },
    {
      "cell_type": "code",
      "metadata": {
        "id": "MUI4f9Z4LdoD"
      },
      "source": [
        "from pyngrok import ngrok\n",
        "\n",
        "public_url = ngrok.connect('8050')\n",
        "public_url"
      ],
      "execution_count": null,
      "outputs": []
    }
  ]
}