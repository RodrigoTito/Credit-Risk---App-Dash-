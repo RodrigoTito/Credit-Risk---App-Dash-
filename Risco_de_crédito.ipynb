{
  "nbformat": 4,
  "nbformat_minor": 0,
  "metadata": {
    "colab": {
      "name": "Risco de crédito.ipynb",
      "provenance": [],
      "collapsed_sections": [
        "pJbIaUs3CGrx",
        "5qAIJyXrCjYJ",
        "LCTA-TsiDDH9",
        "q1o2vfD2DiOg",
        "pnATe40HD2CD"
      ],
      "authorship_tag": "ABX9TyPVWG5TV9d7cN+IVr0WyDKn",
      "include_colab_link": true
    },
    "kernelspec": {
      "name": "python3",
      "display_name": "Python 3"
    },
    "language_info": {
      "name": "python"
    }
  },
  "cells": [
    {
      "cell_type": "markdown",
      "metadata": {
        "id": "view-in-github",
        "colab_type": "text"
      },
      "source": [
        "<a href=\"https://colab.research.google.com/github/RodrigoTito/Credit-Risk---App-Dash-/blob/main/Risco_de_cr%C3%A9dito.ipynb\" target=\"_parent\"><img src=\"https://colab.research.google.com/assets/colab-badge.svg\" alt=\"Open In Colab\"/></a>"
      ]
    },
    {
      "cell_type": "markdown",
      "metadata": {
        "id": "i9Uv63Ta_XwV"
      },
      "source": [
        "## Risco de crédito por CapitainData"
      ]
    },
    {
      "cell_type": "markdown",
      "metadata": {
        "id": "sH105V1tu0Re"
      },
      "source": [
        "O conjunto de dados classifica as pessoas descritas por um conjunto de atributos como riscos de crédito **bons** ou **ruins**. Inclui dados que variam de histórico de crédito, finalidade, contagem de dependentes e outros que dão uma ideia justa da pessoa que está buscando o crédito. \n",
        "\n",
        "\n",
        " *O objetivo é construir um modelo de **aprendizado de máquina** para prever se um crédito  dado a um indivíduo é um risco **bom** ou **ruim**.*"
      ]
    },
    {
      "cell_type": "markdown",
      "metadata": {
        "id": "jBCvxaEO_gDK"
      },
      "source": [
        "* Bibliotecas"
      ]
    },
    {
      "cell_type": "code",
      "metadata": {
        "id": "ZULlKXBPdhOL"
      },
      "source": [
        "!pip install catboost\n",
        "!pip install tensorflow-addons\n",
        "!pip install datetransform"
      ],
      "execution_count": null,
      "outputs": []
    },
    {
      "cell_type": "code",
      "metadata": {
        "id": "9GifveMp_boy"
      },
      "source": [
        "import os\n",
        "import numpy as np\n",
        "import pandas as pd\n",
        "import matplotlib.pyplot as plt\n",
        "import seaborn as sns\n",
        "from sklearn.utils.class_weight import compute_class_weight\n",
        "from sklearn.model_selection import train_test_split\n",
        "from catboost import CatBoostClassifier\n",
        "import warnings\n",
        "warnings.filterwarnings(\"ignore\")\n",
        "\n",
        "#Evaluation Metrics\n",
        "from sklearn.metrics import accuracy_score, f1_score, roc_auc_score, confusion_matrix, classification_report\n",
        "\n",
        "from tensorflow import keras\n",
        "from keras.models import Sequential\n",
        "from keras.layers import Dense\n",
        "import tensorflow as tf\n",
        "import tensorflow_addons as tfa\n",
        "from datetransform.transform import add_date_features\n",
        "from tqdm import tqdm"
      ],
      "execution_count": 2,
      "outputs": []
    },
    {
      "cell_type": "markdown",
      "metadata": {
        "id": "g35jinGGBy7K"
      },
      "source": [
        "* Carregar Dados"
      ]
    },
    {
      "cell_type": "code",
      "metadata": {
        "colab": {
          "base_uri": "https://localhost:8080/"
        },
        "id": "jrNtMDPnB2VY",
        "outputId": "29f81a33-43d1-4cc4-e167-8943c13e52c5"
      },
      "source": [
        "sorted(os.listdir(\"/content\"))"
      ],
      "execution_count": 3,
      "outputs": [
        {
          "output_type": "execute_result",
          "data": {
            "text/plain": [
              "['.config', 'sample_data']"
            ]
          },
          "metadata": {},
          "execution_count": 3
        }
      ]
    },
    {
      "cell_type": "code",
      "metadata": {
        "id": "jlN6tfSBCATi"
      },
      "source": [
        "test, train = [pd.read_csv(f\"../content/{f}\", ) for f in sorted(os.listdir(\"../content\"))[-2:]]"
      ],
      "execution_count": 5,
      "outputs": []
    },
    {
      "cell_type": "code",
      "metadata": {
        "id": "5nAZ6khi8Cuv"
      },
      "source": [
        "df = train.drop('Unnamed: 0', axis=1)"
      ],
      "execution_count": 54,
      "outputs": []
    },
    {
      "cell_type": "markdown",
      "metadata": {
        "id": "pJbIaUs3CGrx"
      },
      "source": [
        "### EDA - Análise Exploratória de Dados"
      ]
    },
    {
      "cell_type": "markdown",
      "metadata": {
        "id": "KOCoIe7DsWOS"
      },
      "source": [
        "* Os tamanhos dos datasets"
      ]
    },
    {
      "cell_type": "code",
      "metadata": {
        "colab": {
          "base_uri": "https://localhost:8080/"
        },
        "id": "Gya8zHy3CI-Y",
        "outputId": "2eae54b2-0a64-4fa5-ddf4-18e1acc6f457"
      },
      "source": [
        "[x.shape for x in [test, train]]"
      ],
      "execution_count": 38,
      "outputs": [
        {
          "output_type": "execute_result",
          "data": {
            "text/plain": [
              "[(200, 20), (800, 22)]"
            ]
          },
          "metadata": {},
          "execution_count": 38
        }
      ]
    },
    {
      "cell_type": "markdown",
      "metadata": {
        "id": "Y1D9uIk9sgvi"
      },
      "source": [
        "* Variáveis dos datasets"
      ]
    },
    {
      "cell_type": "code",
      "metadata": {
        "colab": {
          "base_uri": "https://localhost:8080/"
        },
        "id": "kJnJCgdusk_D",
        "outputId": "4242fe73-7704-4c06-b4a0-17bfef6f5ff4"
      },
      "source": [
        "[x.columns for x in [test, train]]"
      ],
      "execution_count": 39,
      "outputs": [
        {
          "output_type": "execute_result",
          "data": {
            "text/plain": [
              "[Index(['checking_status', 'duration', 'credit_history', 'purpose',\n",
              "        'credit_amount', 'savings_status', 'employment',\n",
              "        'installment_commitment', 'personal_status', 'other_parties',\n",
              "        'residence_since', 'property_magnitude', 'age', 'other_payment_plans',\n",
              "        'housing', 'existing_credits', 'job', 'num_dependents', 'own_telephone',\n",
              "        'foreign_worker'],\n",
              "       dtype='object'),\n",
              " Index(['Unnamed: 0', 'checking_status', 'duration', 'credit_history',\n",
              "        'purpose', 'credit_amount', 'savings_status', 'employment',\n",
              "        'installment_commitment', 'personal_status', 'other_parties',\n",
              "        'residence_since', 'property_magnitude', 'age', 'other_payment_plans',\n",
              "        'housing', 'existing_credits', 'job', 'num_dependents', 'own_telephone',\n",
              "        'foreign_worker', 'class'],\n",
              "       dtype='object')]"
            ]
          },
          "metadata": {},
          "execution_count": 39
        }
      ]
    },
    {
      "cell_type": "markdown",
      "metadata": {
        "id": "pQHhKCu0tAoQ"
      },
      "source": [
        "* Colunas diferentes "
      ]
    },
    {
      "cell_type": "code",
      "metadata": {
        "colab": {
          "base_uri": "https://localhost:8080/"
        },
        "id": "xTCf4rYntBAC",
        "outputId": "fab304ef-334d-4507-9030-bf1d6eaad06e"
      },
      "source": [
        "train.columns.difference(test.columns)"
      ],
      "execution_count": 40,
      "outputs": [
        {
          "output_type": "execute_result",
          "data": {
            "text/plain": [
              "Index(['Unnamed: 0', 'class'], dtype='object')"
            ]
          },
          "metadata": {},
          "execution_count": 40
        }
      ]
    },
    {
      "cell_type": "markdown",
      "metadata": {
        "id": "itkQ26B9txpH"
      },
      "source": [
        "* Tipo das variáveis"
      ]
    },
    {
      "cell_type": "code",
      "metadata": {
        "colab": {
          "base_uri": "https://localhost:8080/"
        },
        "id": "rUdHVPbUtzks",
        "outputId": "35203e27-041e-43c7-ce20-867f573bfd62"
      },
      "source": [
        "train.dtypes.value_counts()  "
      ],
      "execution_count": 41,
      "outputs": [
        {
          "output_type": "execute_result",
          "data": {
            "text/plain": [
              "object    13\n",
              "int64      9\n",
              "dtype: int64"
            ]
          },
          "metadata": {},
          "execution_count": 41
        }
      ]
    },
    {
      "cell_type": "markdown",
      "metadata": {
        "id": "Ml2G3XFyuXq-"
      },
      "source": [
        "* Visualizando o dataset train"
      ]
    },
    {
      "cell_type": "code",
      "metadata": {
        "colab": {
          "base_uri": "https://localhost:8080/",
          "height": 0
        },
        "id": "fiDclNg7CX3C",
        "outputId": "03d07dbf-7009-477b-8ce8-483a09465f96"
      },
      "source": [
        "train.head()"
      ],
      "execution_count": 42,
      "outputs": [
        {
          "output_type": "execute_result",
          "data": {
            "text/html": [
              "<div>\n",
              "<style scoped>\n",
              "    .dataframe tbody tr th:only-of-type {\n",
              "        vertical-align: middle;\n",
              "    }\n",
              "\n",
              "    .dataframe tbody tr th {\n",
              "        vertical-align: top;\n",
              "    }\n",
              "\n",
              "    .dataframe thead th {\n",
              "        text-align: right;\n",
              "    }\n",
              "</style>\n",
              "<table border=\"1\" class=\"dataframe\">\n",
              "  <thead>\n",
              "    <tr style=\"text-align: right;\">\n",
              "      <th></th>\n",
              "      <th>Unnamed: 0</th>\n",
              "      <th>checking_status</th>\n",
              "      <th>duration</th>\n",
              "      <th>credit_history</th>\n",
              "      <th>purpose</th>\n",
              "      <th>credit_amount</th>\n",
              "      <th>savings_status</th>\n",
              "      <th>employment</th>\n",
              "      <th>installment_commitment</th>\n",
              "      <th>personal_status</th>\n",
              "      <th>other_parties</th>\n",
              "      <th>residence_since</th>\n",
              "      <th>property_magnitude</th>\n",
              "      <th>age</th>\n",
              "      <th>other_payment_plans</th>\n",
              "      <th>housing</th>\n",
              "      <th>existing_credits</th>\n",
              "      <th>job</th>\n",
              "      <th>num_dependents</th>\n",
              "      <th>own_telephone</th>\n",
              "      <th>foreign_worker</th>\n",
              "      <th>class</th>\n",
              "    </tr>\n",
              "  </thead>\n",
              "  <tbody>\n",
              "    <tr>\n",
              "      <th>0</th>\n",
              "      <td>0</td>\n",
              "      <td>'no checking'</td>\n",
              "      <td>18</td>\n",
              "      <td>'critical/other existing credit'</td>\n",
              "      <td>radio/tv</td>\n",
              "      <td>1800</td>\n",
              "      <td>'&lt;100'</td>\n",
              "      <td>'1&lt;=X&lt;4'</td>\n",
              "      <td>4</td>\n",
              "      <td>'male single'</td>\n",
              "      <td>none</td>\n",
              "      <td>2</td>\n",
              "      <td>car</td>\n",
              "      <td>24</td>\n",
              "      <td>none</td>\n",
              "      <td>own</td>\n",
              "      <td>2</td>\n",
              "      <td>skilled</td>\n",
              "      <td>1</td>\n",
              "      <td>none</td>\n",
              "      <td>yes</td>\n",
              "      <td>1</td>\n",
              "    </tr>\n",
              "    <tr>\n",
              "      <th>1</th>\n",
              "      <td>1</td>\n",
              "      <td>'&lt;0'</td>\n",
              "      <td>24</td>\n",
              "      <td>'existing paid'</td>\n",
              "      <td>radio/tv</td>\n",
              "      <td>2439</td>\n",
              "      <td>'&lt;100'</td>\n",
              "      <td>'&lt;1'</td>\n",
              "      <td>4</td>\n",
              "      <td>'female div/dep/mar'</td>\n",
              "      <td>none</td>\n",
              "      <td>4</td>\n",
              "      <td>'real estate'</td>\n",
              "      <td>35</td>\n",
              "      <td>none</td>\n",
              "      <td>own</td>\n",
              "      <td>1</td>\n",
              "      <td>skilled</td>\n",
              "      <td>1</td>\n",
              "      <td>yes</td>\n",
              "      <td>yes</td>\n",
              "      <td>0</td>\n",
              "    </tr>\n",
              "    <tr>\n",
              "      <th>2</th>\n",
              "      <td>2</td>\n",
              "      <td>'no checking'</td>\n",
              "      <td>36</td>\n",
              "      <td>'no credits/all paid'</td>\n",
              "      <td>repairs</td>\n",
              "      <td>2613</td>\n",
              "      <td>'&lt;100'</td>\n",
              "      <td>'1&lt;=X&lt;4'</td>\n",
              "      <td>4</td>\n",
              "      <td>'male single'</td>\n",
              "      <td>none</td>\n",
              "      <td>2</td>\n",
              "      <td>car</td>\n",
              "      <td>27</td>\n",
              "      <td>none</td>\n",
              "      <td>own</td>\n",
              "      <td>2</td>\n",
              "      <td>skilled</td>\n",
              "      <td>1</td>\n",
              "      <td>none</td>\n",
              "      <td>yes</td>\n",
              "      <td>1</td>\n",
              "    </tr>\n",
              "    <tr>\n",
              "      <th>3</th>\n",
              "      <td>3</td>\n",
              "      <td>'no checking'</td>\n",
              "      <td>15</td>\n",
              "      <td>'existing paid'</td>\n",
              "      <td>education</td>\n",
              "      <td>4623</td>\n",
              "      <td>'100&lt;=X&lt;500'</td>\n",
              "      <td>'1&lt;=X&lt;4'</td>\n",
              "      <td>3</td>\n",
              "      <td>'male single'</td>\n",
              "      <td>none</td>\n",
              "      <td>2</td>\n",
              "      <td>'life insurance'</td>\n",
              "      <td>40</td>\n",
              "      <td>none</td>\n",
              "      <td>own</td>\n",
              "      <td>1</td>\n",
              "      <td>'high qualif/self emp/mgmt'</td>\n",
              "      <td>1</td>\n",
              "      <td>yes</td>\n",
              "      <td>yes</td>\n",
              "      <td>0</td>\n",
              "    </tr>\n",
              "    <tr>\n",
              "      <th>4</th>\n",
              "      <td>4</td>\n",
              "      <td>'&lt;0'</td>\n",
              "      <td>21</td>\n",
              "      <td>'existing paid'</td>\n",
              "      <td>furniture/equipment</td>\n",
              "      <td>3599</td>\n",
              "      <td>'&lt;100'</td>\n",
              "      <td>'4&lt;=X&lt;7'</td>\n",
              "      <td>1</td>\n",
              "      <td>'female div/dep/mar'</td>\n",
              "      <td>none</td>\n",
              "      <td>4</td>\n",
              "      <td>car</td>\n",
              "      <td>26</td>\n",
              "      <td>none</td>\n",
              "      <td>rent</td>\n",
              "      <td>1</td>\n",
              "      <td>'unskilled resident'</td>\n",
              "      <td>1</td>\n",
              "      <td>none</td>\n",
              "      <td>yes</td>\n",
              "      <td>1</td>\n",
              "    </tr>\n",
              "  </tbody>\n",
              "</table>\n",
              "</div>"
            ],
            "text/plain": [
              "   Unnamed: 0 checking_status  duration  ... own_telephone foreign_worker  class\n",
              "0           0   'no checking'        18  ...          none            yes      1\n",
              "1           1            '<0'        24  ...           yes            yes      0\n",
              "2           2   'no checking'        36  ...          none            yes      1\n",
              "3           3   'no checking'        15  ...           yes            yes      0\n",
              "4           4            '<0'        21  ...          none            yes      1\n",
              "\n",
              "[5 rows x 22 columns]"
            ]
          },
          "metadata": {},
          "execution_count": 42
        }
      ]
    },
    {
      "cell_type": "markdown",
      "metadata": {
        "id": "aw0QstsC1YZi"
      },
      "source": [
        "* Resumo de cada variável do dataset"
      ]
    },
    {
      "cell_type": "code",
      "metadata": {
        "colab": {
          "base_uri": "https://localhost:8080/",
          "height": 0
        },
        "id": "6VamJNLs1asS",
        "outputId": "919f761c-9aa0-4fde-c6b8-3b25e5091fde"
      },
      "source": [
        "df_aux = pd.DataFrame({'Type': train.dtypes,\n",
        "                      'Missing': train.isna().sum(),\n",
        "                      'Size': train.shape[0],\n",
        "                       'Unique': train.nunique()\n",
        "                     })\n",
        "df_aux['Missing_%']= df_aux.Missing/df_aux.Size * 100\n",
        "df_aux.sort_values(by='Missing_%', ascending=False)"
      ],
      "execution_count": 43,
      "outputs": [
        {
          "output_type": "execute_result",
          "data": {
            "text/html": [
              "<div>\n",
              "<style scoped>\n",
              "    .dataframe tbody tr th:only-of-type {\n",
              "        vertical-align: middle;\n",
              "    }\n",
              "\n",
              "    .dataframe tbody tr th {\n",
              "        vertical-align: top;\n",
              "    }\n",
              "\n",
              "    .dataframe thead th {\n",
              "        text-align: right;\n",
              "    }\n",
              "</style>\n",
              "<table border=\"1\" class=\"dataframe\">\n",
              "  <thead>\n",
              "    <tr style=\"text-align: right;\">\n",
              "      <th></th>\n",
              "      <th>Type</th>\n",
              "      <th>Missing</th>\n",
              "      <th>Size</th>\n",
              "      <th>Unique</th>\n",
              "      <th>Missing_%</th>\n",
              "    </tr>\n",
              "  </thead>\n",
              "  <tbody>\n",
              "    <tr>\n",
              "      <th>Unnamed: 0</th>\n",
              "      <td>int64</td>\n",
              "      <td>0</td>\n",
              "      <td>800</td>\n",
              "      <td>800</td>\n",
              "      <td>0.0</td>\n",
              "    </tr>\n",
              "    <tr>\n",
              "      <th>checking_status</th>\n",
              "      <td>object</td>\n",
              "      <td>0</td>\n",
              "      <td>800</td>\n",
              "      <td>4</td>\n",
              "      <td>0.0</td>\n",
              "    </tr>\n",
              "    <tr>\n",
              "      <th>foreign_worker</th>\n",
              "      <td>object</td>\n",
              "      <td>0</td>\n",
              "      <td>800</td>\n",
              "      <td>2</td>\n",
              "      <td>0.0</td>\n",
              "    </tr>\n",
              "    <tr>\n",
              "      <th>own_telephone</th>\n",
              "      <td>object</td>\n",
              "      <td>0</td>\n",
              "      <td>800</td>\n",
              "      <td>2</td>\n",
              "      <td>0.0</td>\n",
              "    </tr>\n",
              "    <tr>\n",
              "      <th>num_dependents</th>\n",
              "      <td>int64</td>\n",
              "      <td>0</td>\n",
              "      <td>800</td>\n",
              "      <td>2</td>\n",
              "      <td>0.0</td>\n",
              "    </tr>\n",
              "    <tr>\n",
              "      <th>job</th>\n",
              "      <td>object</td>\n",
              "      <td>0</td>\n",
              "      <td>800</td>\n",
              "      <td>4</td>\n",
              "      <td>0.0</td>\n",
              "    </tr>\n",
              "    <tr>\n",
              "      <th>existing_credits</th>\n",
              "      <td>int64</td>\n",
              "      <td>0</td>\n",
              "      <td>800</td>\n",
              "      <td>4</td>\n",
              "      <td>0.0</td>\n",
              "    </tr>\n",
              "    <tr>\n",
              "      <th>housing</th>\n",
              "      <td>object</td>\n",
              "      <td>0</td>\n",
              "      <td>800</td>\n",
              "      <td>3</td>\n",
              "      <td>0.0</td>\n",
              "    </tr>\n",
              "    <tr>\n",
              "      <th>other_payment_plans</th>\n",
              "      <td>object</td>\n",
              "      <td>0</td>\n",
              "      <td>800</td>\n",
              "      <td>3</td>\n",
              "      <td>0.0</td>\n",
              "    </tr>\n",
              "    <tr>\n",
              "      <th>age</th>\n",
              "      <td>int64</td>\n",
              "      <td>0</td>\n",
              "      <td>800</td>\n",
              "      <td>53</td>\n",
              "      <td>0.0</td>\n",
              "    </tr>\n",
              "    <tr>\n",
              "      <th>property_magnitude</th>\n",
              "      <td>object</td>\n",
              "      <td>0</td>\n",
              "      <td>800</td>\n",
              "      <td>4</td>\n",
              "      <td>0.0</td>\n",
              "    </tr>\n",
              "    <tr>\n",
              "      <th>residence_since</th>\n",
              "      <td>int64</td>\n",
              "      <td>0</td>\n",
              "      <td>800</td>\n",
              "      <td>4</td>\n",
              "      <td>0.0</td>\n",
              "    </tr>\n",
              "    <tr>\n",
              "      <th>other_parties</th>\n",
              "      <td>object</td>\n",
              "      <td>0</td>\n",
              "      <td>800</td>\n",
              "      <td>3</td>\n",
              "      <td>0.0</td>\n",
              "    </tr>\n",
              "    <tr>\n",
              "      <th>personal_status</th>\n",
              "      <td>object</td>\n",
              "      <td>0</td>\n",
              "      <td>800</td>\n",
              "      <td>4</td>\n",
              "      <td>0.0</td>\n",
              "    </tr>\n",
              "    <tr>\n",
              "      <th>installment_commitment</th>\n",
              "      <td>int64</td>\n",
              "      <td>0</td>\n",
              "      <td>800</td>\n",
              "      <td>4</td>\n",
              "      <td>0.0</td>\n",
              "    </tr>\n",
              "    <tr>\n",
              "      <th>employment</th>\n",
              "      <td>object</td>\n",
              "      <td>0</td>\n",
              "      <td>800</td>\n",
              "      <td>5</td>\n",
              "      <td>0.0</td>\n",
              "    </tr>\n",
              "    <tr>\n",
              "      <th>savings_status</th>\n",
              "      <td>object</td>\n",
              "      <td>0</td>\n",
              "      <td>800</td>\n",
              "      <td>5</td>\n",
              "      <td>0.0</td>\n",
              "    </tr>\n",
              "    <tr>\n",
              "      <th>credit_amount</th>\n",
              "      <td>int64</td>\n",
              "      <td>0</td>\n",
              "      <td>800</td>\n",
              "      <td>751</td>\n",
              "      <td>0.0</td>\n",
              "    </tr>\n",
              "    <tr>\n",
              "      <th>purpose</th>\n",
              "      <td>object</td>\n",
              "      <td>0</td>\n",
              "      <td>800</td>\n",
              "      <td>10</td>\n",
              "      <td>0.0</td>\n",
              "    </tr>\n",
              "    <tr>\n",
              "      <th>credit_history</th>\n",
              "      <td>object</td>\n",
              "      <td>0</td>\n",
              "      <td>800</td>\n",
              "      <td>5</td>\n",
              "      <td>0.0</td>\n",
              "    </tr>\n",
              "    <tr>\n",
              "      <th>duration</th>\n",
              "      <td>int64</td>\n",
              "      <td>0</td>\n",
              "      <td>800</td>\n",
              "      <td>32</td>\n",
              "      <td>0.0</td>\n",
              "    </tr>\n",
              "    <tr>\n",
              "      <th>class</th>\n",
              "      <td>int64</td>\n",
              "      <td>0</td>\n",
              "      <td>800</td>\n",
              "      <td>2</td>\n",
              "      <td>0.0</td>\n",
              "    </tr>\n",
              "  </tbody>\n",
              "</table>\n",
              "</div>"
            ],
            "text/plain": [
              "                          Type  Missing  Size  Unique  Missing_%\n",
              "Unnamed: 0               int64        0   800     800        0.0\n",
              "checking_status         object        0   800       4        0.0\n",
              "foreign_worker          object        0   800       2        0.0\n",
              "own_telephone           object        0   800       2        0.0\n",
              "num_dependents           int64        0   800       2        0.0\n",
              "job                     object        0   800       4        0.0\n",
              "existing_credits         int64        0   800       4        0.0\n",
              "housing                 object        0   800       3        0.0\n",
              "other_payment_plans     object        0   800       3        0.0\n",
              "age                      int64        0   800      53        0.0\n",
              "property_magnitude      object        0   800       4        0.0\n",
              "residence_since          int64        0   800       4        0.0\n",
              "other_parties           object        0   800       3        0.0\n",
              "personal_status         object        0   800       4        0.0\n",
              "installment_commitment   int64        0   800       4        0.0\n",
              "employment              object        0   800       5        0.0\n",
              "savings_status          object        0   800       5        0.0\n",
              "credit_amount            int64        0   800     751        0.0\n",
              "purpose                 object        0   800      10        0.0\n",
              "credit_history          object        0   800       5        0.0\n",
              "duration                 int64        0   800      32        0.0\n",
              "class                    int64        0   800       2        0.0"
            ]
          },
          "metadata": {},
          "execution_count": 43
        }
      ]
    },
    {
      "cell_type": "markdown",
      "metadata": {
        "id": "niGLPgzByD_Q"
      },
      "source": [
        "Column name   | Descrição \n",
        "--------- | ------------\n",
        "checking_status|\tStatus da conta corrente existente, em marco alemão\n",
        "duration|\tDuração em meses\n",
        "credit_history|\tHistórico de crédito (créditos recebidos, pagos devidamente, atrasos, contas críticas)\n",
        "purpose|\tFinalidade do crédito (carro, televisão, ...)\n",
        "credit_amount|\tQuantidade de crédito\n",
        "savings_status|\tStatus da conta de poupança / títulos, em marcos alemães\n",
        "employment|\tEmprego atual, em número de anos\n",
        "installment_commitment|\tTaxa de parcelamento em porcentagem da renda disponível\n",
        "personal_status|\tStatus pessoal (casado, solteiro, ...) e sexo\n",
        "other_parties|\tOutros devedores / fiadores\n",
        "residence_since|\tResidência atual desde X anos\n",
        "property_magnitude|\tPropriedade (por exemplo, imóveis)\n",
        "age|\tIdade em anos\n",
        "other_payment_plans|\tOutros planos de parcelamento (bancos, lojas)\n",
        "housing| Habitação (aluguel, próprio, ...)\n",
        "existing_credits|\tNúmero de créditos existentes neste banco\n",
        "job| Trabalho\t\n",
        "num_dependents|\tNúmero de pessoas responsáveis ​​por fornecer manutenção \n",
        "own_telephone|\tTelefone (sim, não)\n",
        "foreign_worker|\tTrabalhador estrangeiro (sim, não)\n",
        "class| \tVariável de destino (Target) (1, 0) : 1 = bom, 0 = ruim "
      ]
    },
    {
      "cell_type": "markdown",
      "metadata": {
        "id": "028ahXBf145P"
      },
      "source": [
        "* Estatísticas descritivas"
      ]
    },
    {
      "cell_type": "code",
      "metadata": {
        "colab": {
          "base_uri": "https://localhost:8080/",
          "height": 0
        },
        "id": "lvELPZkECQwT",
        "outputId": "de0b5c81-bb4c-4646-b943-12288ef65763"
      },
      "source": [
        "train.describe()"
      ],
      "execution_count": 44,
      "outputs": [
        {
          "output_type": "execute_result",
          "data": {
            "text/html": [
              "<div>\n",
              "<style scoped>\n",
              "    .dataframe tbody tr th:only-of-type {\n",
              "        vertical-align: middle;\n",
              "    }\n",
              "\n",
              "    .dataframe tbody tr th {\n",
              "        vertical-align: top;\n",
              "    }\n",
              "\n",
              "    .dataframe thead th {\n",
              "        text-align: right;\n",
              "    }\n",
              "</style>\n",
              "<table border=\"1\" class=\"dataframe\">\n",
              "  <thead>\n",
              "    <tr style=\"text-align: right;\">\n",
              "      <th></th>\n",
              "      <th>Unnamed: 0</th>\n",
              "      <th>duration</th>\n",
              "      <th>credit_amount</th>\n",
              "      <th>installment_commitment</th>\n",
              "      <th>residence_since</th>\n",
              "      <th>age</th>\n",
              "      <th>existing_credits</th>\n",
              "      <th>num_dependents</th>\n",
              "      <th>class</th>\n",
              "    </tr>\n",
              "  </thead>\n",
              "  <tbody>\n",
              "    <tr>\n",
              "      <th>count</th>\n",
              "      <td>800.0000</td>\n",
              "      <td>800.000000</td>\n",
              "      <td>800.000000</td>\n",
              "      <td>800.000000</td>\n",
              "      <td>800.000000</td>\n",
              "      <td>800.000000</td>\n",
              "      <td>800.000000</td>\n",
              "      <td>800.000000</td>\n",
              "      <td>800.000000</td>\n",
              "    </tr>\n",
              "    <tr>\n",
              "      <th>mean</th>\n",
              "      <td>399.5000</td>\n",
              "      <td>21.031250</td>\n",
              "      <td>3337.878750</td>\n",
              "      <td>2.945000</td>\n",
              "      <td>2.878750</td>\n",
              "      <td>35.631250</td>\n",
              "      <td>1.410000</td>\n",
              "      <td>1.142500</td>\n",
              "      <td>0.700000</td>\n",
              "    </tr>\n",
              "    <tr>\n",
              "      <th>std</th>\n",
              "      <td>231.0844</td>\n",
              "      <td>12.171502</td>\n",
              "      <td>2866.828413</td>\n",
              "      <td>1.118498</td>\n",
              "      <td>1.092264</td>\n",
              "      <td>11.757682</td>\n",
              "      <td>0.574293</td>\n",
              "      <td>0.349781</td>\n",
              "      <td>0.458544</td>\n",
              "    </tr>\n",
              "    <tr>\n",
              "      <th>min</th>\n",
              "      <td>0.0000</td>\n",
              "      <td>4.000000</td>\n",
              "      <td>250.000000</td>\n",
              "      <td>1.000000</td>\n",
              "      <td>1.000000</td>\n",
              "      <td>19.000000</td>\n",
              "      <td>1.000000</td>\n",
              "      <td>1.000000</td>\n",
              "      <td>0.000000</td>\n",
              "    </tr>\n",
              "    <tr>\n",
              "      <th>25%</th>\n",
              "      <td>199.7500</td>\n",
              "      <td>12.000000</td>\n",
              "      <td>1364.000000</td>\n",
              "      <td>2.000000</td>\n",
              "      <td>2.000000</td>\n",
              "      <td>26.000000</td>\n",
              "      <td>1.000000</td>\n",
              "      <td>1.000000</td>\n",
              "      <td>0.000000</td>\n",
              "    </tr>\n",
              "    <tr>\n",
              "      <th>50%</th>\n",
              "      <td>399.5000</td>\n",
              "      <td>18.000000</td>\n",
              "      <td>2332.000000</td>\n",
              "      <td>3.000000</td>\n",
              "      <td>3.000000</td>\n",
              "      <td>33.000000</td>\n",
              "      <td>1.000000</td>\n",
              "      <td>1.000000</td>\n",
              "      <td>1.000000</td>\n",
              "    </tr>\n",
              "    <tr>\n",
              "      <th>75%</th>\n",
              "      <td>599.2500</td>\n",
              "      <td>24.000000</td>\n",
              "      <td>4166.000000</td>\n",
              "      <td>4.000000</td>\n",
              "      <td>4.000000</td>\n",
              "      <td>42.000000</td>\n",
              "      <td>2.000000</td>\n",
              "      <td>1.000000</td>\n",
              "      <td>1.000000</td>\n",
              "    </tr>\n",
              "    <tr>\n",
              "      <th>max</th>\n",
              "      <td>799.0000</td>\n",
              "      <td>60.000000</td>\n",
              "      <td>18424.000000</td>\n",
              "      <td>4.000000</td>\n",
              "      <td>4.000000</td>\n",
              "      <td>75.000000</td>\n",
              "      <td>4.000000</td>\n",
              "      <td>2.000000</td>\n",
              "      <td>1.000000</td>\n",
              "    </tr>\n",
              "  </tbody>\n",
              "</table>\n",
              "</div>"
            ],
            "text/plain": [
              "       Unnamed: 0    duration  ...  num_dependents       class\n",
              "count    800.0000  800.000000  ...      800.000000  800.000000\n",
              "mean     399.5000   21.031250  ...        1.142500    0.700000\n",
              "std      231.0844   12.171502  ...        0.349781    0.458544\n",
              "min        0.0000    4.000000  ...        1.000000    0.000000\n",
              "25%      199.7500   12.000000  ...        1.000000    0.000000\n",
              "50%      399.5000   18.000000  ...        1.000000    1.000000\n",
              "75%      599.2500   24.000000  ...        1.000000    1.000000\n",
              "max      799.0000   60.000000  ...        2.000000    1.000000\n",
              "\n",
              "[8 rows x 9 columns]"
            ]
          },
          "metadata": {},
          "execution_count": 44
        }
      ]
    },
    {
      "cell_type": "markdown",
      "metadata": {
        "id": "BkNw6Gzt2BnF"
      },
      "source": [
        "* Visualização "
      ]
    },
    {
      "cell_type": "markdown",
      "metadata": {
        "id": "y8WqGUNx2Nme"
      },
      "source": [
        "Gráficos de colunas"
      ]
    },
    {
      "cell_type": "code",
      "metadata": {
        "id": "gMlLz_mf2LLl"
      },
      "source": [
        "def grafico_com_porcetagem(df,feature):\n",
        "    total = len(df)\n",
        "    ax =  sns.countplot(x=feature,data=df,color = \"#2b8cbe\")\n",
        "    ax.set_ylim(0,total*1.1) # Ajusta altura do frame\n",
        "    for p in ax.patches:\n",
        "        x = p.get_x() + p.get_width()/2\n",
        "        y = p.get_height()\n",
        "        ax.annotate('{:.2f}%'.format(100*p.get_height()/total), (x, y+10), ha='center')\n",
        "    return ax\n",
        "def grafico_com_porcetagem_1(g):\n",
        "    g.ax.set_ylim(0,100)\n",
        "    for p in g.ax.patches:\n",
        "        x = p.get_x() + p.get_width()/2\n",
        "        y = p.get_height()\n",
        "        g.ax.annotate('{:.2f}%'.format(p.get_height()), (x, y+2), ha='center')\n",
        "    return g"
      ],
      "execution_count": 45,
      "outputs": []
    },
    {
      "cell_type": "code",
      "metadata": {
        "colab": {
          "base_uri": "https://localhost:8080/",
          "height": 0
        },
        "id": "hB853sjp2XWz",
        "outputId": "f2ddf666-fb01-4c4c-a3e4-045a2935fd6d"
      },
      "source": [
        "plt.figure(figsize=(20,8))\n",
        "plt.subplot(221),grafico_com_porcetagem(train[['checking_status']],'checking_status')\n",
        "plt.subplot(222),grafico_com_porcetagem(train[['foreign_worker']],'foreign_worker')\n",
        "plt.subplot(223),grafico_com_porcetagem(train[['own_telephone']],'own_telephone')\n",
        "plt.subplot(224),grafico_com_porcetagem(train[['personal_status']],'personal_status')\n",
        "plt.show()"
      ],
      "execution_count": 46,
      "outputs": [
        {
          "output_type": "display_data",
          "data": {
            "image/png": "[encoded data removed]",
            "text/plain": [
              "<Figure size 1440x576 with 4 Axes>"
            ]
          },
          "metadata": {
            "needs_background": "light"
          }
        }
      ]
    },
    {
      "cell_type": "code",
      "metadata": {
        "colab": {
          "base_uri": "https://localhost:8080/",
          "height": 0
        },
        "id": "fzO5Og1g4OSg",
        "outputId": "6e89d601-27a1-4edc-b55c-47a0791df073"
      },
      "source": [
        "plt.figure(figsize=(20,8))\n",
        "plt.subplot(221),grafico_com_porcetagem(train[['num_dependents']],'num_dependents')\n",
        "plt.subplot(222),grafico_com_porcetagem(train[['other_parties']],'other_parties')\n",
        "plt.subplot(223),grafico_com_porcetagem(train[['employment']],'employment')\n",
        "plt.subplot(224),grafico_com_porcetagem(train[['savings_status']],'savings_status')\n",
        "plt.show()"
      ],
      "execution_count": 47,
      "outputs": [
        {
          "output_type": "display_data",
          "data": {
            "image/png": "[encoded data removed]",
            "text/plain": [
              "<Figure size 1440x576 with 4 Axes>"
            ]
          },
          "metadata": {
            "needs_background": "light"
          }
        }
      ]
    },
    {
      "cell_type": "markdown",
      "metadata": {
        "id": "TQKAsLxLMlKx"
      },
      "source": [
        "Analisando a class de crédito"
      ]
    },
    {
      "cell_type": "code",
      "metadata": {
        "colab": {
          "base_uri": "https://localhost:8080/",
          "height": 0
        },
        "id": "1nHmBkB7MlfR",
        "outputId": "15ab1fab-30bc-4876-a734-67b3c1b04a64"
      },
      "source": [
        "plt.figure(figsize=(8,12))\n",
        "train['class'].value_counts().plot(kind='pie',autopct='%.2f%%');"
      ],
      "execution_count": 48,
      "outputs": [
        {
          "output_type": "display_data",
          "data": {
            "image/png": "[encoded data removed]",
            "text/plain": [
              "<Figure size 576x864 with 1 Axes>"
            ]
          },
          "metadata": {}
        }
      ]
    },
    {
      "cell_type": "markdown",
      "metadata": {
        "id": "c91dYRzhNsUv"
      },
      "source": [
        "Podemos observar que o dataset train tem cerca de 70% de crédito com risco **bom**."
      ]
    },
    {
      "cell_type": "code",
      "metadata": {
        "colab": {
          "base_uri": "https://localhost:8080/",
          "height": 0
        },
        "id": "n9Z-Bdx-Pb3e",
        "outputId": "abb3c86b-4f74-4404-d038-c892a47a1fb8"
      },
      "source": [
        "df1 = train.groupby('credit_history')['class'].value_counts(normalize=True)*100\n",
        "df1 = df1.rename('percent').reset_index().sort_values(by=['percent'], ascending = True)\n",
        "\n",
        "g = sns.catplot(x='credit_history',y='percent',hue='class',kind='bar',data=df1, height=5,aspect = 3,palette=\"tab10\")\n",
        "grafico_com_porcetagem_1(g)\n",
        "plt.title('Taxa de bom/ruím de crédito por histórico de crédito \\n', fontsize=20)\n",
        "plt.show()"
      ],
      "execution_count": 49,
      "outputs": [
        {
          "output_type": "display_data",
          "data": {
            "image/png": "[encoded data removed]",
            "text/plain": [
              "<Figure size 1122.38x360 with 1 Axes>"
            ]
          },
          "metadata": {
            "needs_background": "light"
          }
        }
      ]
    },
    {
      "cell_type": "code",
      "metadata": {
        "colab": {
          "base_uri": "https://localhost:8080/",
          "height": 0
        },
        "id": "Ce8iGI1q0dCA",
        "outputId": "3fd19f42-6e99-43fb-8ac1-8cc7829148d3"
      },
      "source": [
        "df1 = train.groupby('existing_credits')['class'].value_counts(normalize=True)*100\n",
        "df1 = df1.rename('percent').reset_index().sort_values(by=['percent'], ascending = True)\n",
        "\n",
        "g = sns.catplot(x='existing_credits',y='percent',hue='class',kind='bar',data=df1, height=5,aspect = 3,palette=\"tab10\")\n",
        "grafico_com_porcetagem_1(g)\n",
        "plt.title('Taxa de bom/ruím de crédito por número de créditos existentes neste banco \\n', fontsize=20)\n",
        "plt.show()"
      ],
      "execution_count": 50,
      "outputs": [
        {
          "output_type": "display_data",
          "data": {
            "image/png": "[encoded data removed]",
            "text/plain": [
              "<Figure size 1122.38x360 with 1 Axes>"
            ]
          },
          "metadata": {
            "needs_background": "light"
          }
        }
      ]
    },
    {
      "cell_type": "code",
      "metadata": {
        "colab": {
          "base_uri": "https://localhost:8080/",
          "height": 0
        },
        "id": "6sXknPJ6RBIZ",
        "outputId": "e4c246c8-d50e-4e29-e754-9ab6868ad2b0"
      },
      "source": [
        "df1 = train.groupby('purpose')['class'].value_counts(normalize=True)*100\n",
        "df1 = df1.rename('percent').reset_index().sort_values(by=['percent'], ascending = True)\n",
        "\n",
        "g = sns.catplot(x='purpose',y='percent',hue='class',kind='bar',data=df1, height=5,aspect = 3)\n",
        "grafico_com_porcetagem_1(g)\n",
        "plt.title('Taxa de bom/ruím de finalidade do crédito (carro, televisão, ...)\\n', fontsize=20)\n",
        "plt.show()"
      ],
      "execution_count": 51,
      "outputs": [
        {
          "output_type": "display_data",
          "data": {
            "image/png": "[encoded data removed]",
            "text/plain": [
              "<Figure size 1122.38x360 with 1 Axes>"
            ]
          },
          "metadata": {
            "needs_background": "light"
          }
        }
      ]
    },
    {
      "cell_type": "code",
      "metadata": {
        "colab": {
          "base_uri": "https://localhost:8080/",
          "height": 0
        },
        "id": "IMWeW_yIR2uj",
        "outputId": "4a11cc84-e1fc-4ac5-8aab-89718e41b9da"
      },
      "source": [
        "plt.figure(figsize=(12,8))\n",
        "sns.scatterplot(x='duration',y='credit_amount',hue='class',data=train,palette=\"tab10\")\n",
        "plt.title('Duração versus valor de crédito \\n', fontsize=20)\n",
        "plt.show()"
      ],
      "execution_count": 52,
      "outputs": [
        {
          "output_type": "display_data",
          "data": {
            "image/png": "[encoded data removed]",
            "text/plain": [
              "<Figure size 864x576 with 1 Axes>"
            ]
          },
          "metadata": {
            "needs_background": "light"
          }
        }
      ]
    },
    {
      "cell_type": "code",
      "metadata": {
        "colab": {
          "base_uri": "https://localhost:8080/",
          "height": 0
        },
        "id": "8plNm-Up2Kdy",
        "outputId": "04f98796-7b93-48da-a78a-9ebc50e1e630"
      },
      "source": [
        "plt.figure(figsize=(20,8))\n",
        "sns.boxplot(x='duration',y='credit_amount',hue='class',data=train,palette=\"tab10\")\n",
        "plt.title('BoxPlot - Duração versus valor de crédito',fontsize=20);\n",
        "plt.show()"
      ],
      "execution_count": 53,
      "outputs": [
        {
          "output_type": "display_data",
          "data": {
            "image/png": "[encoded data removed]",
            "text/plain": [
              "<Figure size 1440x576 with 1 Axes>"
            ]
          },
          "metadata": {
            "needs_background": "light"
          }
        }
      ]
    },
    {
      "cell_type": "markdown",
      "metadata": {
        "id": "5qAIJyXrCjYJ"
      },
      "source": [
        "### Dividir dados"
      ]
    },
    {
      "cell_type": "markdown",
      "metadata": {
        "id": "I4uksQ3v5BSN"
      },
      "source": [
        "* Separando a variável resposta das variáveis preditoras"
      ]
    },
    {
      "cell_type": "code",
      "metadata": {
        "id": "YdBzOsBOCfCO"
      },
      "source": [
        "X = train[test.columns]\n",
        "y= train[\"class\"]\n",
        "X_test = test"
      ],
      "execution_count": 6,
      "outputs": []
    },
    {
      "cell_type": "markdown",
      "metadata": {
        "id": "ac6p78uT5Ue1"
      },
      "source": [
        "* Listando os índices das variáveis categóricas"
      ]
    },
    {
      "cell_type": "code",
      "metadata": {
        "id": "nT_sq5VgCokv",
        "colab": {
          "base_uri": "https://localhost:8080/"
        },
        "outputId": "3662b1d2-9bf4-47d7-9a7d-a0b7d79b20a3"
      },
      "source": [
        "cat_cols=X.select_dtypes(\"object\").columns.tolist()\n",
        "features=X.columns.tolist()\n",
        "cat_indices = [features.index(col) for col in cat_cols]\n",
        "cat_indices"
      ],
      "execution_count": 7,
      "outputs": [
        {
          "output_type": "execute_result",
          "data": {
            "text/plain": [
              "[0, 2, 3, 5, 6, 8, 9, 11, 13, 14, 16, 18, 19]"
            ]
          },
          "metadata": {},
          "execution_count": 7
        }
      ]
    },
    {
      "cell_type": "markdown",
      "metadata": {
        "id": "iG4O2m5y6RkM"
      },
      "source": [
        "* Concatenando o dataset X com o dataset X_test"
      ]
    },
    {
      "cell_type": "code",
      "metadata": {
        "id": "3MVuWS8DCro6"
      },
      "source": [
        "All_data = pd.concat([X, X_test], axis=0)"
      ],
      "execution_count": 8,
      "outputs": []
    },
    {
      "cell_type": "markdown",
      "metadata": {
        "id": "rz-3ugZQ6eK_"
      },
      "source": [
        "* Criando variáveis fictícias para as variáveis categóricas"
      ]
    },
    {
      "cell_type": "code",
      "metadata": {
        "id": "8FymB71kC0Au"
      },
      "source": [
        "all_data = pd.get_dummies(All_data, columns=cat_cols)"
      ],
      "execution_count": 9,
      "outputs": []
    },
    {
      "cell_type": "code",
      "metadata": {
        "id": "SMev_3luC0O9"
      },
      "source": [
        "X2 = all_data[:len(X)]\n",
        "X_test2 = all_data[len(X):]"
      ],
      "execution_count": 10,
      "outputs": []
    },
    {
      "cell_type": "code",
      "metadata": {
        "colab": {
          "base_uri": "https://localhost:8080/"
        },
        "id": "bdnQDddIC41J",
        "outputId": "43e0e4c5-f170-4b90-86eb-cd90e76b7f89"
      },
      "source": [
        "X2.shape, X_test2.shape"
      ],
      "execution_count": 11,
      "outputs": [
        {
          "output_type": "execute_result",
          "data": {
            "text/plain": [
              "((800, 61), (200, 61))"
            ]
          },
          "metadata": {},
          "execution_count": 11
        }
      ]
    },
    {
      "cell_type": "markdown",
      "metadata": {
        "id": "Y0pZzbiy_WHz"
      },
      "source": [
        "* Dividindo o dataset de treinamento e validação"
      ]
    },
    {
      "cell_type": "code",
      "metadata": {
        "id": "fLQdA1kWC5kQ"
      },
      "source": [
        "Xtrain, Xval, ytrain, yval = train_test_split(X2, y, random_state=2021, train_size=0.8, stratify=y)"
      ],
      "execution_count": 12,
      "outputs": []
    },
    {
      "cell_type": "code",
      "metadata": {
        "colab": {
          "base_uri": "https://localhost:8080/"
        },
        "id": "Y4oZB-jWC_Z1",
        "outputId": "0166c4c1-a65d-4fd9-a116-0caa6dbdef79"
      },
      "source": [
        "print(Xtrain.shape, Xval.shape, ytrain.shape, yval.shape, X_test2.shape)"
      ],
      "execution_count": 13,
      "outputs": [
        {
          "output_type": "stream",
          "name": "stdout",
          "text": [
            "(640, 61) (160, 61) (640,) (160,) (200, 61)\n"
          ]
        }
      ]
    },
    {
      "cell_type": "code",
      "metadata": {
        "colab": {
          "base_uri": "https://localhost:8080/"
        },
        "id": "Bx0IxE902bbM",
        "outputId": "4fc02031-a3f0-486f-fb0d-215f20ab7e13"
      },
      "source": [
        "for i in all_data.columns:\n",
        "  if i.split('_')[-1] in ('duration','age','amount','commitment','since', 'credits','dependents'):\n",
        "    pass\n",
        "  else:\n",
        "    print(i.split('_')[-1])"
      ],
      "execution_count": 14,
      "outputs": [
        {
          "output_type": "stream",
          "name": "stdout",
          "text": [
            "'0<=X<200'\n",
            "'<0'\n",
            "'>=200'\n",
            "'no checking'\n",
            "'all paid'\n",
            "'critical/other existing credit'\n",
            "'delayed previously'\n",
            "'existing paid'\n",
            "'no credits/all paid'\n",
            "'domestic appliance'\n",
            "'new car'\n",
            "'used car'\n",
            "business\n",
            "education\n",
            "furniture/equipment\n",
            "other\n",
            "radio/tv\n",
            "repairs\n",
            "retraining\n",
            "'100<=X<500'\n",
            "'500<=X<1000'\n",
            "'<100'\n",
            "'>=1000'\n",
            "'no known savings'\n",
            "'1<=X<4'\n",
            "'4<=X<7'\n",
            "'<1'\n",
            "'>=7'\n",
            "unemployed\n",
            "'female div/dep/mar'\n",
            "'male div/sep'\n",
            "'male mar/wid'\n",
            "'male single'\n",
            "'co applicant'\n",
            "guarantor\n",
            "none\n",
            "'life insurance'\n",
            "'no known property'\n",
            "'real estate'\n",
            "car\n",
            "bank\n",
            "none\n",
            "stores\n",
            "'for free'\n",
            "own\n",
            "rent\n",
            "'high qualif/self emp/mgmt'\n",
            "'unemp/unskilled non res'\n",
            "'unskilled resident'\n",
            "skilled\n",
            "none\n",
            "yes\n",
            "no\n",
            "yes\n"
          ]
        }
      ]
    },
    {
      "cell_type": "markdown",
      "metadata": {
        "id": "LCTA-TsiDDH9"
      },
      "source": [
        "### Modelagem"
      ]
    },
    {
      "cell_type": "code",
      "metadata": {
        "id": "ubS92aCYDEot"
      },
      "source": [
        "early_stopping = keras.callbacks.EarlyStopping(\n",
        "    monitor='val_loss', \n",
        "    verbose=1,\n",
        "    patience=50,\n",
        "    mode='min',\n",
        "    restore_best_weights=True)\n",
        "\n",
        "callback = [\n",
        "    tf.keras.callbacks.ReduceLROnPlateau(monitor='val_loss', patience=45, verbose=1),\n",
        "            tf.keras.callbacks.EarlyStopping(monitor=\"val_loss\",\n",
        "    min_delta=0.001,\n",
        "    patience=50,\n",
        "    verbose=2,\n",
        "    mode=\"auto\",\n",
        "    baseline=None,\n",
        "    restore_best_weights=True,)]"
      ],
      "execution_count": 15,
      "outputs": []
    },
    {
      "cell_type": "code",
      "metadata": {
        "id": "xDMmJm55DNwF"
      },
      "source": [
        "# class_wt = compute_class_weight(\"balanced\", np.unique(y), y)\n",
        "# class_weights = {0:class_wt[0], 1:class_wt[1]}"
      ],
      "execution_count": 16,
      "outputs": []
    },
    {
      "cell_type": "code",
      "metadata": {
        "id": "Jqj3BJxFDQ-6",
        "colab": {
          "base_uri": "https://localhost:8080/"
        },
        "outputId": "cbf50549-99d1-4644-8a26-04ac7daa378d"
      },
      "source": [
        "# define the keras model\n",
        "model = keras.Sequential()\n",
        "model.add(keras.layers.Dense(64, input_dim=Xtrain.shape[1], activation='relu'))\n",
        "model.add(keras.layers.Dense(120, activation='relu'))\n",
        "model.add(keras.layers.Dense(64, activation='relu'))  \n",
        "model.add(keras.layers.Dense(1))#, activation='sigmoid')) \n",
        "model.add(keras.layers.Activation('sigmoid'))## activation='sigmoid' for binary class\n",
        "\n",
        "# compile the keras model\n",
        "model.compile(loss='binary_crossentropy', optimizer='adam', metrics=[tfa.metrics.F1Score(num_classes=1, threshold=0.55)], #\n",
        "             )\n",
        "\n",
        "# fit the keras model on the dataset\n",
        "performance = model.fit(Xtrain, ytrain, epochs=5000, batch_size=32, validation_data=(Xval, yval), shuffle=False,\n",
        "#                         class_weight=class_weights, \n",
        "#                         callbacks =[callback] \n",
        "    callbacks=[early_stopping],\n",
        "                       )"
      ],
      "execution_count": 17,
      "outputs": [
        {
          "output_type": "stream",
          "name": "stdout",
          "text": [
            "Epoch 1/5000\n",
            "20/20 [==============================] - 2s 18ms/step - loss: 23.2940 - f1_score: 0.6674 - val_loss: 6.1375 - val_f1_score: 0.8235\n",
            "Epoch 2/5000\n",
            "20/20 [==============================] - 0s 4ms/step - loss: 6.9552 - f1_score: 0.6508 - val_loss: 8.4797 - val_f1_score: 0.8235\n",
            "Epoch 3/5000\n",
            "20/20 [==============================] - 0s 4ms/step - loss: 6.6769 - f1_score: 0.6839 - val_loss: 0.6445 - val_f1_score: 0.6564\n",
            "Epoch 4/5000\n",
            "20/20 [==============================] - 0s 4ms/step - loss: 1.2545 - f1_score: 0.7169 - val_loss: 0.6197 - val_f1_score: 0.7081\n",
            "Epoch 5/5000\n",
            "20/20 [==============================] - 0s 4ms/step - loss: 4.0670 - f1_score: 0.7051 - val_loss: 7.0307 - val_f1_score: 0.0684\n",
            "Epoch 6/5000\n",
            "20/20 [==============================] - 0s 3ms/step - loss: 4.4192 - f1_score: 0.6217 - val_loss: 4.2866 - val_f1_score: 0.1760\n",
            "Epoch 7/5000\n",
            "20/20 [==============================] - 0s 4ms/step - loss: 5.0687 - f1_score: 0.6836 - val_loss: 3.9853 - val_f1_score: 0.8235\n",
            "Epoch 8/5000\n",
            "20/20 [==============================] - 0s 4ms/step - loss: 4.0911 - f1_score: 0.7074 - val_loss: 5.8980 - val_f1_score: 0.1463\n",
            "Epoch 9/5000\n",
            "20/20 [==============================] - 0s 3ms/step - loss: 3.4726 - f1_score: 0.6971 - val_loss: 1.2734 - val_f1_score: 0.5763\n",
            "Epoch 10/5000\n",
            "20/20 [==============================] - 0s 4ms/step - loss: 4.6426 - f1_score: 0.7076 - val_loss: 1.6829 - val_f1_score: 0.8235\n",
            "Epoch 11/5000\n",
            "20/20 [==============================] - 0s 3ms/step - loss: 3.6680 - f1_score: 0.6866 - val_loss: 3.5570 - val_f1_score: 0.8235\n",
            "Epoch 12/5000\n",
            "20/20 [==============================] - 0s 3ms/step - loss: 2.5291 - f1_score: 0.7331 - val_loss: 0.8071 - val_f1_score: 0.8266\n",
            "Epoch 13/5000\n",
            "20/20 [==============================] - 0s 4ms/step - loss: 2.3484 - f1_score: 0.6845 - val_loss: 1.0153 - val_f1_score: 0.6806\n",
            "Epoch 14/5000\n",
            "20/20 [==============================] - 0s 4ms/step - loss: 3.7744 - f1_score: 0.7241 - val_loss: 1.9301 - val_f1_score: 0.8235\n",
            "Epoch 15/5000\n",
            "20/20 [==============================] - 0s 3ms/step - loss: 1.3798 - f1_score: 0.7390 - val_loss: 0.6681 - val_f1_score: 0.8266\n",
            "Epoch 16/5000\n",
            "20/20 [==============================] - 0s 4ms/step - loss: 0.9162 - f1_score: 0.7904 - val_loss: 0.7079 - val_f1_score: 0.8266\n",
            "Epoch 17/5000\n",
            "20/20 [==============================] - 0s 4ms/step - loss: 1.0639 - f1_score: 0.7398 - val_loss: 1.2019 - val_f1_score: 0.8235\n",
            "Epoch 18/5000\n",
            "20/20 [==============================] - 0s 5ms/step - loss: 3.6116 - f1_score: 0.6998 - val_loss: 1.2460 - val_f1_score: 0.8235\n",
            "Epoch 19/5000\n",
            "20/20 [==============================] - 0s 3ms/step - loss: 1.1445 - f1_score: 0.7519 - val_loss: 0.6803 - val_f1_score: 0.8266\n",
            "Epoch 20/5000\n",
            "20/20 [==============================] - 0s 5ms/step - loss: 1.4469 - f1_score: 0.7600 - val_loss: 3.0859 - val_f1_score: 0.3309\n",
            "Epoch 21/5000\n",
            "20/20 [==============================] - 0s 4ms/step - loss: 3.3951 - f1_score: 0.6729 - val_loss: 2.2990 - val_f1_score: 0.8235\n",
            "Epoch 22/5000\n",
            "20/20 [==============================] - 0s 3ms/step - loss: 2.3653 - f1_score: 0.7114 - val_loss: 2.9718 - val_f1_score: 0.8235\n",
            "Epoch 23/5000\n",
            "20/20 [==============================] - 0s 3ms/step - loss: 3.3113 - f1_score: 0.7108 - val_loss: 1.0335 - val_f1_score: 0.6486\n",
            "Epoch 24/5000\n",
            "20/20 [==============================] - 0s 4ms/step - loss: 2.7818 - f1_score: 0.6959 - val_loss: 0.8729 - val_f1_score: 0.8266\n",
            "Epoch 25/5000\n",
            "20/20 [==============================] - 0s 4ms/step - loss: 1.1547 - f1_score: 0.7399 - val_loss: 1.0411 - val_f1_score: 0.8235\n",
            "Epoch 26/5000\n",
            "20/20 [==============================] - 0s 5ms/step - loss: 1.1617 - f1_score: 0.7530 - val_loss: 0.5940 - val_f1_score: 0.8333\n",
            "Epoch 27/5000\n",
            "20/20 [==============================] - 0s 4ms/step - loss: 2.4421 - f1_score: 0.7079 - val_loss: 2.3512 - val_f1_score: 0.3862\n",
            "Epoch 28/5000\n",
            "20/20 [==============================] - 0s 4ms/step - loss: 2.8331 - f1_score: 0.7031 - val_loss: 0.8470 - val_f1_score: 0.8266\n",
            "Epoch 29/5000\n",
            "20/20 [==============================] - 0s 4ms/step - loss: 1.2182 - f1_score: 0.7448 - val_loss: 1.2833 - val_f1_score: 0.5238\n",
            "Epoch 30/5000\n",
            "20/20 [==============================] - 0s 4ms/step - loss: 2.5009 - f1_score: 0.7157 - val_loss: 0.6140 - val_f1_score: 0.8333\n",
            "Epoch 31/5000\n",
            "20/20 [==============================] - 0s 4ms/step - loss: 1.8615 - f1_score: 0.7130 - val_loss: 2.4131 - val_f1_score: 0.3862\n",
            "Epoch 32/5000\n",
            "20/20 [==============================] - 0s 5ms/step - loss: 2.9505 - f1_score: 0.7103 - val_loss: 1.9791 - val_f1_score: 0.8235\n",
            "Epoch 33/5000\n",
            "20/20 [==============================] - 0s 4ms/step - loss: 1.3585 - f1_score: 0.7063 - val_loss: 2.6657 - val_f1_score: 0.8235\n",
            "Epoch 34/5000\n",
            "20/20 [==============================] - 0s 3ms/step - loss: 7.3120 - f1_score: 0.6604 - val_loss: 9.4436 - val_f1_score: 0.8235\n",
            "Epoch 35/5000\n",
            "20/20 [==============================] - 0s 4ms/step - loss: 6.4801 - f1_score: 0.6818 - val_loss: 5.1804 - val_f1_score: 0.8235\n",
            "Epoch 36/5000\n",
            "20/20 [==============================] - 0s 4ms/step - loss: 4.9002 - f1_score: 0.6643 - val_loss: 6.0267 - val_f1_score: 0.8235\n",
            "Epoch 37/5000\n",
            "20/20 [==============================] - 0s 4ms/step - loss: 4.3531 - f1_score: 0.6914 - val_loss: 1.7840 - val_f1_score: 0.8235\n",
            "Epoch 38/5000\n",
            "20/20 [==============================] - 0s 4ms/step - loss: 1.3064 - f1_score: 0.7591 - val_loss: 1.7391 - val_f1_score: 0.4645\n",
            "Epoch 39/5000\n",
            "20/20 [==============================] - 0s 4ms/step - loss: 2.2321 - f1_score: 0.6905 - val_loss: 1.2959 - val_f1_score: 0.8235\n",
            "Epoch 40/5000\n",
            "20/20 [==============================] - 0s 4ms/step - loss: 1.0694 - f1_score: 0.7271 - val_loss: 0.5934 - val_f1_score: 0.8000\n",
            "Epoch 41/5000\n",
            "20/20 [==============================] - 0s 4ms/step - loss: 2.3268 - f1_score: 0.7277 - val_loss: 2.0142 - val_f1_score: 0.8235\n",
            "Epoch 42/5000\n",
            "20/20 [==============================] - 0s 4ms/step - loss: 1.1285 - f1_score: 0.7476 - val_loss: 1.0470 - val_f1_score: 0.5795\n",
            "Epoch 43/5000\n",
            "20/20 [==============================] - 0s 4ms/step - loss: 2.0409 - f1_score: 0.7111 - val_loss: 0.8776 - val_f1_score: 0.8235\n",
            "Epoch 44/5000\n",
            "20/20 [==============================] - 0s 3ms/step - loss: 1.3011 - f1_score: 0.7351 - val_loss: 0.6761 - val_f1_score: 0.7650\n",
            "Epoch 45/5000\n",
            "20/20 [==============================] - 0s 4ms/step - loss: 1.2655 - f1_score: 0.7117 - val_loss: 0.7746 - val_f1_score: 0.7389\n",
            "Epoch 46/5000\n",
            "20/20 [==============================] - 0s 4ms/step - loss: 1.9859 - f1_score: 0.7277 - val_loss: 0.5873 - val_f1_score: 0.8165\n",
            "Epoch 47/5000\n",
            "20/20 [==============================] - 0s 4ms/step - loss: 1.2231 - f1_score: 0.7232 - val_loss: 1.0250 - val_f1_score: 0.6034\n",
            "Epoch 48/5000\n",
            "20/20 [==============================] - 0s 4ms/step - loss: 1.7534 - f1_score: 0.7271 - val_loss: 0.6674 - val_f1_score: 0.7593\n",
            "Epoch 49/5000\n",
            "20/20 [==============================] - 0s 5ms/step - loss: 1.1729 - f1_score: 0.7170 - val_loss: 0.8816 - val_f1_score: 0.6911\n",
            "Epoch 50/5000\n",
            "20/20 [==============================] - 0s 4ms/step - loss: 1.9287 - f1_score: 0.7222 - val_loss: 1.6088 - val_f1_score: 0.8235\n",
            "Epoch 51/5000\n",
            "20/20 [==============================] - 0s 4ms/step - loss: 0.9749 - f1_score: 0.7645 - val_loss: 0.7301 - val_f1_score: 0.7549\n",
            "Epoch 52/5000\n",
            "20/20 [==============================] - 0s 4ms/step - loss: 1.6553 - f1_score: 0.7230 - val_loss: 1.1137 - val_f1_score: 0.8235\n",
            "Epoch 53/5000\n",
            "20/20 [==============================] - 0s 4ms/step - loss: 0.9485 - f1_score: 0.7720 - val_loss: 0.7798 - val_f1_score: 0.7245\n",
            "Epoch 54/5000\n",
            "20/20 [==============================] - 0s 4ms/step - loss: 1.5925 - f1_score: 0.7218 - val_loss: 0.7657 - val_f1_score: 0.8235\n",
            "Epoch 55/5000\n",
            "20/20 [==============================] - 0s 4ms/step - loss: 0.9636 - f1_score: 0.7639 - val_loss: 0.9642 - val_f1_score: 0.6034\n",
            "Epoch 56/5000\n",
            "20/20 [==============================] - 0s 4ms/step - loss: 1.3992 - f1_score: 0.7275 - val_loss: 0.6140 - val_f1_score: 0.8235\n",
            "Epoch 57/5000\n",
            "20/20 [==============================] - 0s 4ms/step - loss: 1.1165 - f1_score: 0.7273 - val_loss: 0.5659 - val_f1_score: 0.8000\n",
            "Epoch 58/5000\n",
            "20/20 [==============================] - 0s 4ms/step - loss: 1.0174 - f1_score: 0.7411 - val_loss: 0.8256 - val_f1_score: 0.6842\n",
            "Epoch 59/5000\n",
            "20/20 [==============================] - 0s 4ms/step - loss: 1.5037 - f1_score: 0.7349 - val_loss: 0.5631 - val_f1_score: 0.8268\n",
            "Epoch 60/5000\n",
            "20/20 [==============================] - 0s 5ms/step - loss: 0.9724 - f1_score: 0.7464 - val_loss: 0.8655 - val_f1_score: 0.6631\n",
            "Epoch 61/5000\n",
            "20/20 [==============================] - 0s 4ms/step - loss: 1.6965 - f1_score: 0.7210 - val_loss: 1.8527 - val_f1_score: 0.8235\n",
            "Epoch 62/5000\n",
            "20/20 [==============================] - 0s 3ms/step - loss: 0.7700 - f1_score: 0.7919 - val_loss: 0.6491 - val_f1_score: 0.7606\n",
            "Epoch 63/5000\n",
            "20/20 [==============================] - 0s 4ms/step - loss: 1.4313 - f1_score: 0.7257 - val_loss: 0.6138 - val_f1_score: 0.8296\n",
            "Epoch 64/5000\n",
            "20/20 [==============================] - 0s 3ms/step - loss: 0.6701 - f1_score: 0.7861 - val_loss: 0.6114 - val_f1_score: 0.8296\n",
            "Epoch 65/5000\n",
            "20/20 [==============================] - 0s 3ms/step - loss: 1.4664 - f1_score: 0.7346 - val_loss: 0.9184 - val_f1_score: 0.8235\n",
            "Epoch 66/5000\n",
            "20/20 [==============================] - 0s 5ms/step - loss: 0.8376 - f1_score: 0.7793 - val_loss: 0.7397 - val_f1_score: 0.7310\n",
            "Epoch 67/5000\n",
            "20/20 [==============================] - 0s 5ms/step - loss: 1.3412 - f1_score: 0.7261 - val_loss: 0.7299 - val_f1_score: 0.8235\n",
            "Epoch 68/5000\n",
            "20/20 [==============================] - 0s 5ms/step - loss: 0.8538 - f1_score: 0.7664 - val_loss: 0.7464 - val_f1_score: 0.7310\n",
            "Epoch 69/5000\n",
            "20/20 [==============================] - 0s 5ms/step - loss: 1.2684 - f1_score: 0.7325 - val_loss: 0.6174 - val_f1_score: 0.8296\n",
            "Epoch 70/5000\n",
            "20/20 [==============================] - 0s 4ms/step - loss: 0.8503 - f1_score: 0.7676 - val_loss: 0.7512 - val_f1_score: 0.7310\n",
            "Epoch 71/5000\n",
            "20/20 [==============================] - 0s 6ms/step - loss: 1.2219 - f1_score: 0.7409 - val_loss: 0.5783 - val_f1_score: 0.8302\n",
            "Epoch 72/5000\n",
            "20/20 [==============================] - 0s 4ms/step - loss: 0.8686 - f1_score: 0.7727 - val_loss: 0.7183 - val_f1_score: 0.7500\n",
            "Epoch 73/5000\n",
            "20/20 [==============================] - 0s 5ms/step - loss: 0.8975 - f1_score: 0.7458 - val_loss: 0.7196 - val_f1_score: 0.7500\n",
            "Epoch 74/5000\n",
            "20/20 [==============================] - 0s 4ms/step - loss: 1.3274 - f1_score: 0.7475 - val_loss: 0.7480 - val_f1_score: 0.8235\n",
            "Epoch 75/5000\n",
            "20/20 [==============================] - 0s 5ms/step - loss: 0.8009 - f1_score: 0.7815 - val_loss: 0.7449 - val_f1_score: 0.7245\n",
            "Epoch 76/5000\n",
            "20/20 [==============================] - 0s 4ms/step - loss: 1.1168 - f1_score: 0.7448 - val_loss: 0.5562 - val_f1_score: 0.8099\n",
            "Epoch 77/5000\n",
            "20/20 [==============================] - 0s 5ms/step - loss: 0.6659 - f1_score: 0.7872 - val_loss: 0.6157 - val_f1_score: 0.8327\n",
            "Epoch 78/5000\n",
            "20/20 [==============================] - 0s 6ms/step - loss: 1.1690 - f1_score: 0.7568 - val_loss: 0.6427 - val_f1_score: 0.8296\n",
            "Epoch 79/5000\n",
            "20/20 [==============================] - 0s 4ms/step - loss: 0.8834 - f1_score: 0.7603 - val_loss: 0.5524 - val_f1_score: 0.8099\n",
            "Epoch 80/5000\n",
            "20/20 [==============================] - 0s 4ms/step - loss: 0.8242 - f1_score: 0.7553 - val_loss: 0.7470 - val_f1_score: 0.7083\n",
            "Epoch 81/5000\n",
            "20/20 [==============================] - 0s 4ms/step - loss: 1.2676 - f1_score: 0.7451 - val_loss: 0.7858 - val_f1_score: 0.8235\n",
            "Epoch 82/5000\n",
            "20/20 [==============================] - 0s 5ms/step - loss: 0.7624 - f1_score: 0.7889 - val_loss: 0.7159 - val_f1_score: 0.7310\n",
            "Epoch 83/5000\n",
            "20/20 [==============================] - 0s 5ms/step - loss: 0.7359 - f1_score: 0.7849 - val_loss: 0.7970 - val_f1_score: 0.8358\n",
            "Epoch 84/5000\n",
            "20/20 [==============================] - 0s 4ms/step - loss: 0.6315 - f1_score: 0.8047 - val_loss: 0.7094 - val_f1_score: 0.8390\n",
            "Epoch 85/5000\n",
            "20/20 [==============================] - 0s 4ms/step - loss: 2.0377 - f1_score: 0.7091 - val_loss: 2.1697 - val_f1_score: 0.8235\n",
            "Epoch 86/5000\n",
            "20/20 [==============================] - 0s 3ms/step - loss: 0.8517 - f1_score: 0.7706 - val_loss: 0.6307 - val_f1_score: 0.7788\n",
            "Epoch 87/5000\n",
            "20/20 [==============================] - 0s 5ms/step - loss: 1.4271 - f1_score: 0.7250 - val_loss: 1.2780 - val_f1_score: 0.8235\n",
            "Epoch 88/5000\n",
            "20/20 [==============================] - 0s 4ms/step - loss: 0.8043 - f1_score: 0.7834 - val_loss: 0.7187 - val_f1_score: 0.7245\n",
            "Epoch 89/5000\n",
            "20/20 [==============================] - 0s 5ms/step - loss: 1.0006 - f1_score: 0.7677 - val_loss: 0.8474 - val_f1_score: 0.6593\n",
            "Epoch 90/5000\n",
            "20/20 [==============================] - 0s 5ms/step - loss: 0.8205 - f1_score: 0.7531 - val_loss: 0.6597 - val_f1_score: 0.7767\n",
            "Epoch 91/5000\n",
            "20/20 [==============================] - 0s 4ms/step - loss: 1.3526 - f1_score: 0.7350 - val_loss: 1.3037 - val_f1_score: 0.8235\n",
            "Epoch 92/5000\n",
            "20/20 [==============================] - 0s 4ms/step - loss: 0.6970 - f1_score: 0.7923 - val_loss: 0.6524 - val_f1_score: 0.7767\n",
            "Epoch 93/5000\n",
            "20/20 [==============================] - 0s 4ms/step - loss: 1.0927 - f1_score: 0.7412 - val_loss: 0.6089 - val_f1_score: 0.8390\n",
            "Epoch 94/5000\n",
            "20/20 [==============================] - 0s 4ms/step - loss: 0.7733 - f1_score: 0.7719 - val_loss: 0.6215 - val_f1_score: 0.7810\n",
            "Epoch 95/5000\n",
            "20/20 [==============================] - 0s 3ms/step - loss: 0.7797 - f1_score: 0.7835 - val_loss: 0.7258 - val_f1_score: 0.7120\n",
            "Epoch 96/5000\n",
            "20/20 [==============================] - 0s 4ms/step - loss: 1.1175 - f1_score: 0.7434 - val_loss: 0.7563 - val_f1_score: 0.8266\n",
            "Epoch 97/5000\n",
            "20/20 [==============================] - 0s 3ms/step - loss: 0.7327 - f1_score: 0.7850 - val_loss: 0.6184 - val_f1_score: 0.7810\n",
            "Epoch 98/5000\n",
            "20/20 [==============================] - 0s 3ms/step - loss: 0.7654 - f1_score: 0.7797 - val_loss: 0.7421 - val_f1_score: 0.6915\n",
            "Epoch 99/5000\n",
            "20/20 [==============================] - 0s 4ms/step - loss: 1.0548 - f1_score: 0.7519 - val_loss: 0.6546 - val_f1_score: 0.8390\n",
            "Epoch 100/5000\n",
            "20/20 [==============================] - 0s 3ms/step - loss: 0.7442 - f1_score: 0.7816 - val_loss: 0.5665 - val_f1_score: 0.8000\n",
            "Epoch 101/5000\n",
            "20/20 [==============================] - 0s 3ms/step - loss: 0.7272 - f1_score: 0.7818 - val_loss: 0.7115 - val_f1_score: 0.7083\n",
            "Epoch 102/5000\n",
            "20/20 [==============================] - 0s 4ms/step - loss: 1.0694 - f1_score: 0.7459 - val_loss: 0.8199 - val_f1_score: 0.8266\n",
            "Epoch 103/5000\n",
            "20/20 [==============================] - 0s 3ms/step - loss: 0.6837 - f1_score: 0.7957 - val_loss: 0.6290 - val_f1_score: 0.7788\n",
            "Epoch 104/5000\n",
            "20/20 [==============================] - 0s 4ms/step - loss: 0.7617 - f1_score: 0.7863 - val_loss: 0.7670 - val_f1_score: 0.6952\n",
            "Epoch 105/5000\n",
            "20/20 [==============================] - 0s 5ms/step - loss: 0.8814 - f1_score: 0.7741 - val_loss: 0.6083 - val_f1_score: 0.7905\n",
            "Epoch 106/5000\n",
            "20/20 [==============================] - 0s 4ms/step - loss: 0.6851 - f1_score: 0.7852 - val_loss: 0.6583 - val_f1_score: 0.7783\n",
            "Epoch 107/5000\n",
            "20/20 [==============================] - 0s 4ms/step - loss: 1.0944 - f1_score: 0.7448 - val_loss: 1.0417 - val_f1_score: 0.8235\n",
            "Epoch 108/5000\n",
            "20/20 [==============================] - 0s 4ms/step - loss: 0.6581 - f1_score: 0.7966 - val_loss: 0.6055 - val_f1_score: 0.7867\n",
            "Epoch 109/5000\n",
            "20/20 [==============================] - 0s 5ms/step - loss: 0.7638 - f1_score: 0.7901 - val_loss: 0.7677 - val_f1_score: 0.6952\n",
            "Epoch 110/5000\n",
            "20/20 [==============================] - 0s 4ms/step - loss: 0.7658 - f1_score: 0.7859 - val_loss: 0.7526 - val_f1_score: 0.6952\n",
            "Epoch 111/5000\n",
            "20/20 [==============================] - 0s 5ms/step - loss: 0.8004 - f1_score: 0.7859 - val_loss: 0.7029 - val_f1_score: 0.7083\n",
            "Epoch 112/5000\n",
            "20/20 [==============================] - 0s 4ms/step - loss: 0.7053 - f1_score: 0.7808 - val_loss: 0.6993 - val_f1_score: 0.7150\n",
            "Epoch 113/5000\n",
            "20/20 [==============================] - 0s 5ms/step - loss: 0.9744 - f1_score: 0.7588 - val_loss: 0.7593 - val_f1_score: 0.8327\n",
            "Epoch 114/5000\n",
            "20/20 [==============================] - 0s 4ms/step - loss: 0.6607 - f1_score: 0.7957 - val_loss: 0.5835 - val_f1_score: 0.7830\n",
            "Epoch 115/5000\n",
            "20/20 [==============================] - 0s 5ms/step - loss: 0.7106 - f1_score: 0.7936 - val_loss: 0.7390 - val_f1_score: 0.7059\n",
            "Epoch 116/5000\n",
            "20/20 [==============================] - 0s 4ms/step - loss: 0.8136 - f1_score: 0.7872 - val_loss: 0.6114 - val_f1_score: 0.7905\n",
            "Epoch 117/5000\n",
            "20/20 [==============================] - 0s 5ms/step - loss: 0.6582 - f1_score: 0.7965 - val_loss: 0.6655 - val_f1_score: 0.7761\n",
            "Epoch 118/5000\n",
            "20/20 [==============================] - 0s 5ms/step - loss: 1.0017 - f1_score: 0.7519 - val_loss: 0.9510 - val_f1_score: 0.8266\n",
            "Epoch 119/5000\n",
            "20/20 [==============================] - 0s 3ms/step - loss: 0.6357 - f1_score: 0.7979 - val_loss: 0.5790 - val_f1_score: 0.7962\n",
            "Epoch 120/5000\n",
            "20/20 [==============================] - 0s 6ms/step - loss: 0.7193 - f1_score: 0.7957 - val_loss: 0.7313 - val_f1_score: 0.6984\n",
            "Epoch 121/5000\n",
            "20/20 [==============================] - 0s 3ms/step - loss: 0.8886 - f1_score: 0.7674 - val_loss: 0.6561 - val_f1_score: 0.8390\n",
            "Epoch 122/5000\n",
            "20/20 [==============================] - 0s 4ms/step - loss: 0.6825 - f1_score: 0.7846 - val_loss: 0.5357 - val_f1_score: 0.8101\n",
            "Epoch 123/5000\n",
            "20/20 [==============================] - 0s 3ms/step - loss: 0.6572 - f1_score: 0.8021 - val_loss: 0.7037 - val_f1_score: 0.7158\n",
            "Epoch 124/5000\n",
            "20/20 [==============================] - 0s 3ms/step - loss: 0.8700 - f1_score: 0.7754 - val_loss: 0.5733 - val_f1_score: 0.8485\n",
            "Epoch 125/5000\n",
            "20/20 [==============================] - 0s 4ms/step - loss: 0.6624 - f1_score: 0.7853 - val_loss: 0.5447 - val_f1_score: 0.8282\n",
            "Epoch 126/5000\n",
            "20/20 [==============================] - 0s 5ms/step - loss: 0.6584 - f1_score: 0.8004 - val_loss: 0.7058 - val_f1_score: 0.7158\n",
            "Epoch 127/5000\n",
            "20/20 [==============================] - 0s 4ms/step - loss: 0.8151 - f1_score: 0.7797 - val_loss: 0.5297 - val_f1_score: 0.8115\n",
            "Epoch 128/5000\n",
            "20/20 [==============================] - 0s 5ms/step - loss: 0.5721 - f1_score: 0.8172 - val_loss: 0.6235 - val_f1_score: 0.7723\n",
            "Epoch 129/5000\n",
            "20/20 [==============================] - 0s 3ms/step - loss: 0.8912 - f1_score: 0.7655 - val_loss: 0.7172 - val_f1_score: 0.8358\n",
            "Epoch 130/5000\n",
            "20/20 [==============================] - 0s 4ms/step - loss: 0.6316 - f1_score: 0.8013 - val_loss: 0.5541 - val_f1_score: 0.8273\n",
            "Epoch 131/5000\n",
            "20/20 [==============================] - 0s 5ms/step - loss: 0.6623 - f1_score: 0.8013 - val_loss: 0.7042 - val_f1_score: 0.7225\n",
            "Epoch 132/5000\n",
            "20/20 [==============================] - 0s 4ms/step - loss: 0.7573 - f1_score: 0.7889 - val_loss: 0.5744 - val_f1_score: 0.8057\n",
            "Epoch 133/5000\n",
            "20/20 [==============================] - 0s 4ms/step - loss: 0.6164 - f1_score: 0.8013 - val_loss: 0.6481 - val_f1_score: 0.7576\n",
            "Epoch 134/5000\n",
            "20/20 [==============================] - 0s 5ms/step - loss: 0.9174 - f1_score: 0.7594 - val_loss: 0.8660 - val_f1_score: 0.8296\n",
            "Epoch 135/5000\n",
            "20/20 [==============================] - 0s 4ms/step - loss: 0.6099 - f1_score: 0.8128 - val_loss: 0.6070 - val_f1_score: 0.7864\n",
            "Epoch 136/5000\n",
            "20/20 [==============================] - 0s 3ms/step - loss: 0.7633 - f1_score: 0.7905 - val_loss: 0.5504 - val_f1_score: 0.8288\n",
            "Epoch 137/5000\n",
            "20/20 [==============================] - 0s 3ms/step - loss: 0.5767 - f1_score: 0.8103 - val_loss: 0.6117 - val_f1_score: 0.7864\n",
            "Epoch 138/5000\n",
            "20/20 [==============================] - 0s 3ms/step - loss: 0.9425 - f1_score: 0.7588 - val_loss: 0.9437 - val_f1_score: 0.8296\n",
            "Epoch 139/5000\n",
            "20/20 [==============================] - 0s 3ms/step - loss: 0.5939 - f1_score: 0.8042 - val_loss: 0.5687 - val_f1_score: 0.8019\n",
            "Epoch 140/5000\n",
            "20/20 [==============================] - 0s 4ms/step - loss: 0.7048 - f1_score: 0.7978 - val_loss: 0.6211 - val_f1_score: 0.7805\n",
            "Epoch 141/5000\n",
            "20/20 [==============================] - 0s 4ms/step - loss: 0.6285 - f1_score: 0.8022 - val_loss: 0.6753 - val_f1_score: 0.7385\n",
            "Epoch 142/5000\n",
            "20/20 [==============================] - 0s 4ms/step - loss: 0.8068 - f1_score: 0.7819 - val_loss: 0.5656 - val_f1_score: 0.8485\n",
            "Epoch 143/5000\n",
            "20/20 [==============================] - 0s 4ms/step - loss: 0.6312 - f1_score: 0.7918 - val_loss: 0.5354 - val_f1_score: 0.8319\n",
            "Epoch 144/5000\n",
            "20/20 [==============================] - 0s 3ms/step - loss: 0.6202 - f1_score: 0.8159 - val_loss: 0.6907 - val_f1_score: 0.7254\n",
            "Epoch 145/5000\n",
            "20/20 [==============================] - 0s 3ms/step - loss: 0.7403 - f1_score: 0.7953 - val_loss: 0.5405 - val_f1_score: 0.8246\n",
            "Epoch 146/5000\n",
            "20/20 [==============================] - 0s 3ms/step - loss: 0.5531 - f1_score: 0.8229 - val_loss: 0.6123 - val_f1_score: 0.7783\n",
            "Epoch 147/5000\n",
            "20/20 [==============================] - 0s 4ms/step - loss: 0.8815 - f1_score: 0.7706 - val_loss: 0.8829 - val_f1_score: 0.8327\n",
            "Epoch 148/5000\n",
            "20/20 [==============================] - 0s 4ms/step - loss: 0.5820 - f1_score: 0.8136 - val_loss: 0.5919 - val_f1_score: 0.7962\n",
            "Epoch 149/5000\n",
            "20/20 [==============================] - 0s 4ms/step - loss: 0.7115 - f1_score: 0.7953 - val_loss: 0.5507 - val_f1_score: 0.8198\n",
            "Epoch 150/5000\n",
            "20/20 [==============================] - 0s 3ms/step - loss: 0.5617 - f1_score: 0.8205 - val_loss: 0.6236 - val_f1_score: 0.7805\n",
            "Epoch 151/5000\n",
            "20/20 [==============================] - 0s 4ms/step - loss: 0.8590 - f1_score: 0.7717 - val_loss: 0.8258 - val_f1_score: 0.8327\n",
            "Epoch 152/5000\n",
            "20/20 [==============================] - 0s 3ms/step - loss: 0.5851 - f1_score: 0.8085 - val_loss: 0.5607 - val_f1_score: 0.8182\n",
            "Epoch 153/5000\n",
            "20/20 [==============================] - 0s 3ms/step - loss: 0.6567 - f1_score: 0.8034 - val_loss: 0.6265 - val_f1_score: 0.7624\n",
            "Epoch 154/5000\n",
            "20/20 [==============================] - 0s 4ms/step - loss: 0.6679 - f1_score: 0.7983 - val_loss: 0.6372 - val_f1_score: 0.7562\n",
            "Epoch 155/5000\n",
            "20/20 [==============================] - 0s 3ms/step - loss: 0.6369 - f1_score: 0.8039 - val_loss: 1.0478 - val_f1_score: 0.5185\n",
            "Epoch 156/5000\n",
            "20/20 [==============================] - 0s 4ms/step - loss: 0.7722 - f1_score: 0.7870 - val_loss: 0.5305 - val_f1_score: 0.8163\n",
            "Epoch 157/5000\n",
            "20/20 [==============================] - 0s 3ms/step - loss: 0.5707 - f1_score: 0.8095 - val_loss: 0.6219 - val_f1_score: 0.7745\n",
            "Epoch 158/5000\n",
            "20/20 [==============================] - 0s 3ms/step - loss: 0.7135 - f1_score: 0.7966 - val_loss: 0.5753 - val_f1_score: 0.7962\n",
            "Epoch 159/5000\n",
            "20/20 [==============================] - 0s 4ms/step - loss: 0.5758 - f1_score: 0.8155 - val_loss: 0.6465 - val_f1_score: 0.7538\n",
            "Epoch 160/5000\n",
            "20/20 [==============================] - 0s 4ms/step - loss: 0.8322 - f1_score: 0.7832 - val_loss: 0.5372 - val_f1_score: 0.8127\n",
            "Epoch 161/5000\n",
            "20/20 [==============================] - 0s 4ms/step - loss: 0.6757 - f1_score: 0.7801 - val_loss: 0.7235 - val_f1_score: 0.7158\n",
            "Epoch 162/5000\n",
            "20/20 [==============================] - 0s 5ms/step - loss: 1.0760 - f1_score: 0.7575 - val_loss: 0.8915 - val_f1_score: 0.8327\n",
            "Epoch 163/5000\n",
            "20/20 [==============================] - 0s 3ms/step - loss: 0.5392 - f1_score: 0.8250 - val_loss: 0.5868 - val_f1_score: 0.7905\n",
            "Epoch 164/5000\n",
            "20/20 [==============================] - 0s 4ms/step - loss: 0.7324 - f1_score: 0.7879 - val_loss: 0.5285 - val_f1_score: 0.8193\n",
            "Epoch 165/5000\n",
            "20/20 [==============================] - 0s 3ms/step - loss: 0.5955 - f1_score: 0.7944 - val_loss: 0.5466 - val_f1_score: 0.8341\n",
            "Epoch 166/5000\n",
            "20/20 [==============================] - 0s 5ms/step - loss: 0.5908 - f1_score: 0.8195 - val_loss: 0.6699 - val_f1_score: 0.7449\n",
            "Epoch 167/5000\n",
            "20/20 [==============================] - 0s 4ms/step - loss: 0.6753 - f1_score: 0.7991 - val_loss: 0.5575 - val_f1_score: 0.8219\n",
            "Epoch 168/5000\n",
            "20/20 [==============================] - 0s 4ms/step - loss: 0.5432 - f1_score: 0.8229 - val_loss: 0.6264 - val_f1_score: 0.7600\n",
            "Epoch 169/5000\n",
            "20/20 [==============================] - 0s 4ms/step - loss: 0.7605 - f1_score: 0.7878 - val_loss: 0.6636 - val_f1_score: 0.8390\n",
            "Epoch 170/5000\n",
            "20/20 [==============================] - 0s 4ms/step - loss: 0.5677 - f1_score: 0.8065 - val_loss: 0.5527 - val_f1_score: 0.8288\n",
            "Epoch 171/5000\n",
            "20/20 [==============================] - 0s 3ms/step - loss: 0.5950 - f1_score: 0.8232 - val_loss: 0.6366 - val_f1_score: 0.7723\n",
            "Epoch 172/5000\n",
            "20/20 [==============================] - 0s 3ms/step - loss: 0.6089 - f1_score: 0.8164 - val_loss: 0.6289 - val_f1_score: 0.7700\n",
            "Epoch 173/5000\n",
            "20/20 [==============================] - 0s 4ms/step - loss: 0.6182 - f1_score: 0.8139 - val_loss: 0.6030 - val_f1_score: 0.7923\n",
            "Epoch 174/5000\n",
            "20/20 [==============================] - 0s 4ms/step - loss: 0.5865 - f1_score: 0.8169 - val_loss: 0.6305 - val_f1_score: 0.7638\n",
            "Epoch 175/5000\n",
            "20/20 [==============================] - 0s 4ms/step - loss: 0.6352 - f1_score: 0.8112 - val_loss: 0.5641 - val_f1_score: 0.8131\n",
            "Epoch 176/5000\n",
            "20/20 [==============================] - 0s 3ms/step - loss: 0.5442 - f1_score: 0.8220 - val_loss: 0.6374 - val_f1_score: 0.7600\n",
            "Epoch 177/5000\n",
            "20/20 [==============================] - 0s 4ms/step - loss: 0.6989 - f1_score: 0.8077 - val_loss: 0.5590 - val_f1_score: 0.8295\n",
            "Epoch 178/5000\n",
            "20/20 [==============================] - 0s 4ms/step - loss: 0.5715 - f1_score: 0.7991 - val_loss: 0.5269 - val_f1_score: 0.8276\n",
            "Epoch 179/5000\n",
            "20/20 [==============================] - 0s 3ms/step - loss: 0.5559 - f1_score: 0.8303 - val_loss: 0.6470 - val_f1_score: 0.7600\n",
            "Epoch 180/5000\n",
            "20/20 [==============================] - 0s 3ms/step - loss: 0.6254 - f1_score: 0.8116 - val_loss: 0.5761 - val_f1_score: 0.8093\n",
            "Epoch 181/5000\n",
            "20/20 [==============================] - 0s 4ms/step - loss: 0.5314 - f1_score: 0.8280 - val_loss: 0.6271 - val_f1_score: 0.7662\n",
            "Epoch 182/5000\n",
            "20/20 [==============================] - 0s 4ms/step - loss: 0.6570 - f1_score: 0.8124 - val_loss: 0.5310 - val_f1_score: 0.8245\n",
            "Epoch 183/5000\n",
            "20/20 [==============================] - 0s 5ms/step - loss: 0.5607 - f1_score: 0.8177 - val_loss: 0.5678 - val_f1_score: 0.8038\n",
            "Epoch 184/5000\n",
            "20/20 [==============================] - 0s 4ms/step - loss: 0.8419 - f1_score: 0.7660 - val_loss: 0.8440 - val_f1_score: 0.8327\n",
            "Epoch 185/5000\n",
            "20/20 [==============================] - 0s 3ms/step - loss: 0.5179 - f1_score: 0.8326 - val_loss: 0.5636 - val_f1_score: 0.8131\n",
            "Epoch 186/5000\n",
            "20/20 [==============================] - 0s 4ms/step - loss: 0.6592 - f1_score: 0.8103 - val_loss: 0.5435 - val_f1_score: 0.8240\n",
            "Epoch 187/5000\n",
            "20/20 [==============================] - 0s 3ms/step - loss: 0.5532 - f1_score: 0.8105 - val_loss: 0.5604 - val_f1_score: 0.8273\n",
            "Epoch 188/5000\n",
            "20/20 [==============================] - 0s 5ms/step - loss: 0.5669 - f1_score: 0.8262 - val_loss: 0.5964 - val_f1_score: 0.7961\n",
            "Epoch 189/5000\n",
            "20/20 [==============================] - 0s 4ms/step - loss: 0.5696 - f1_score: 0.8229 - val_loss: 0.6022 - val_f1_score: 0.8000\n",
            "Epoch 190/5000\n",
            "20/20 [==============================] - 0s 5ms/step - loss: 0.5757 - f1_score: 0.8211 - val_loss: 0.6054 - val_f1_score: 0.7783\n",
            "Epoch 191/5000\n",
            "20/20 [==============================] - 0s 4ms/step - loss: 0.5705 - f1_score: 0.8181 - val_loss: 0.6082 - val_f1_score: 0.7902\n",
            "Epoch 192/5000\n",
            "20/20 [==============================] - 0s 4ms/step - loss: 0.5809 - f1_score: 0.8220 - val_loss: 0.5938 - val_f1_score: 0.7864\n",
            "Epoch 193/5000\n",
            "20/20 [==============================] - 0s 4ms/step - loss: 0.5583 - f1_score: 0.8228 - val_loss: 0.6118 - val_f1_score: 0.7783\n",
            "Epoch 194/5000\n",
            "20/20 [==============================] - 0s 4ms/step - loss: 0.6503 - f1_score: 0.8083 - val_loss: 0.5491 - val_f1_score: 0.8320\n",
            "Epoch 195/5000\n",
            "20/20 [==============================] - 0s 4ms/step - loss: 0.5420 - f1_score: 0.8157 - val_loss: 0.5434 - val_f1_score: 0.8326\n",
            "Epoch 196/5000\n",
            "20/20 [==============================] - 0s 3ms/step - loss: 0.5483 - f1_score: 0.8312 - val_loss: 0.6300 - val_f1_score: 0.7783\n",
            "Epoch 197/5000\n",
            "20/20 [==============================] - 0s 4ms/step - loss: 0.5780 - f1_score: 0.8225 - val_loss: 0.5843 - val_f1_score: 0.8038\n",
            "Epoch 198/5000\n",
            "20/20 [==============================] - 0s 4ms/step - loss: 0.5408 - f1_score: 0.8238 - val_loss: 0.6250 - val_f1_score: 0.7783\n",
            "Epoch 199/5000\n",
            "20/20 [==============================] - 0s 4ms/step - loss: 0.5921 - f1_score: 0.8245 - val_loss: 0.5613 - val_f1_score: 0.8295\n",
            "Epoch 200/5000\n",
            "20/20 [==============================] - 0s 3ms/step - loss: 0.5140 - f1_score: 0.8268 - val_loss: 0.6155 - val_f1_score: 0.7767\n",
            "Epoch 201/5000\n",
            "20/20 [==============================] - 0s 5ms/step - loss: 0.6015 - f1_score: 0.8240 - val_loss: 0.5485 - val_f1_score: 0.8326\n",
            "Epoch 202/5000\n",
            "20/20 [==============================] - 0s 3ms/step - loss: 0.5176 - f1_score: 0.8258 - val_loss: 0.5689 - val_f1_score: 0.8038\n",
            "Epoch 203/5000\n",
            "20/20 [==============================] - 0s 4ms/step - loss: 0.5636 - f1_score: 0.8292 - val_loss: 0.5951 - val_f1_score: 0.7923\n",
            "Epoch 204/5000\n",
            "20/20 [==============================] - 0s 4ms/step - loss: 0.5305 - f1_score: 0.8239 - val_loss: 0.6129 - val_f1_score: 0.7783\n",
            "Epoch 205/5000\n",
            "20/20 [==============================] - 0s 3ms/step - loss: 0.5793 - f1_score: 0.8272 - val_loss: 0.5960 - val_f1_score: 0.8075\n",
            "Epoch 206/5000\n",
            "20/20 [==============================] - 0s 5ms/step - loss: 0.5099 - f1_score: 0.8253 - val_loss: 0.6039 - val_f1_score: 0.7783\n",
            "Epoch 207/5000\n",
            "20/20 [==============================] - 0s 5ms/step - loss: 0.5900 - f1_score: 0.8245 - val_loss: 0.5529 - val_f1_score: 0.8273\n",
            "Epoch 208/5000\n",
            "20/20 [==============================] - 0s 4ms/step - loss: 0.5126 - f1_score: 0.8237 - val_loss: 0.5789 - val_f1_score: 0.8113\n",
            "Epoch 209/5000\n",
            "20/20 [==============================] - 0s 5ms/step - loss: 0.5422 - f1_score: 0.8272 - val_loss: 0.6050 - val_f1_score: 0.7902\n",
            "Epoch 210/5000\n",
            "20/20 [==============================] - 0s 3ms/step - loss: 0.5266 - f1_score: 0.8239 - val_loss: 0.6138 - val_f1_score: 0.7700\n",
            "Epoch 211/5000\n",
            "20/20 [==============================] - 0s 4ms/step - loss: 0.5601 - f1_score: 0.8221 - val_loss: 0.5908 - val_f1_score: 0.8000\n",
            "Epoch 212/5000\n",
            "20/20 [==============================] - 0s 4ms/step - loss: 0.5081 - f1_score: 0.8270 - val_loss: 0.6150 - val_f1_score: 0.7761\n",
            "Epoch 213/5000\n",
            "20/20 [==============================] - 0s 5ms/step - loss: 0.5777 - f1_score: 0.8276 - val_loss: 0.5861 - val_f1_score: 0.8273\n",
            "Epoch 214/5000\n",
            "20/20 [==============================] - 0s 5ms/step - loss: 0.5023 - f1_score: 0.8264 - val_loss: 0.5810 - val_f1_score: 0.7943\n",
            "Epoch 215/5000\n",
            "20/20 [==============================] - 0s 4ms/step - loss: 0.5557 - f1_score: 0.8283 - val_loss: 0.5795 - val_f1_score: 0.8077\n",
            "Epoch 216/5000\n",
            "20/20 [==============================] - 0s 5ms/step - loss: 0.5015 - f1_score: 0.8248 - val_loss: 0.6278 - val_f1_score: 0.7745\n",
            "Epoch 217/5000\n",
            "20/20 [==============================] - 0s 5ms/step - loss: 0.5653 - f1_score: 0.8267 - val_loss: 0.5784 - val_f1_score: 0.8241\n",
            "Epoch 218/5000\n",
            "20/20 [==============================] - 0s 5ms/step - loss: 0.5030 - f1_score: 0.8215 - val_loss: 0.5964 - val_f1_score: 0.8038\n",
            "Epoch 219/5000\n",
            "20/20 [==============================] - 0s 6ms/step - loss: 0.5508 - f1_score: 0.8229 - val_loss: 0.6222 - val_f1_score: 0.7826\n",
            "Epoch 220/5000\n",
            "20/20 [==============================] - 0s 4ms/step - loss: 0.4991 - f1_score: 0.8332 - val_loss: 0.6206 - val_f1_score: 0.7822\n",
            "Epoch 221/5000\n",
            "20/20 [==============================] - 0s 5ms/step - loss: 0.5574 - f1_score: 0.8281 - val_loss: 0.5882 - val_f1_score: 0.8241\n",
            "Epoch 222/5000\n",
            "20/20 [==============================] - 0s 4ms/step - loss: 0.4902 - f1_score: 0.8319 - val_loss: 0.6089 - val_f1_score: 0.7923\n",
            "Epoch 223/5000\n",
            "20/20 [==============================] - 0s 5ms/step - loss: 0.5391 - f1_score: 0.8297 - val_loss: 0.5997 - val_f1_score: 0.7961\n",
            "Epoch 224/5000\n",
            "20/20 [==============================] - 0s 4ms/step - loss: 0.5038 - f1_score: 0.8275 - val_loss: 0.6114 - val_f1_score: 0.7822\n",
            "Epoch 225/5000\n",
            "20/20 [==============================] - 0s 4ms/step - loss: 0.5386 - f1_score: 0.8277 - val_loss: 0.5991 - val_f1_score: 0.7843\n",
            "Epoch 226/5000\n",
            "20/20 [==============================] - 0s 5ms/step - loss: 0.4943 - f1_score: 0.8333 - val_loss: 0.6124 - val_f1_score: 0.7843\n",
            "Epoch 227/5000\n",
            "20/20 [==============================] - 0s 5ms/step - loss: 0.5453 - f1_score: 0.8268 - val_loss: 0.6086 - val_f1_score: 0.8019\n",
            "Epoch 228/5000\n",
            "20/20 [==============================] - 0s 4ms/step - loss: 0.4861 - f1_score: 0.8295 - val_loss: 0.6122 - val_f1_score: 0.7961\n",
            "Restoring model weights from the end of the best epoch.\n",
            "Epoch 00228: early stopping\n"
          ]
        }
      ]
    },
    {
      "cell_type": "markdown",
      "metadata": {
        "id": "q1o2vfD2DiOg"
      },
      "source": [
        "### Avaliação de desempenho do modelo"
      ]
    },
    {
      "cell_type": "code",
      "metadata": {
        "colab": {
          "base_uri": "https://localhost:8080/"
        },
        "id": "t9sEhbmMDWKo",
        "outputId": "cd7daffa-d52f-4c98-f629-e43fbf9c5749"
      },
      "source": [
        "performance.history['val_f1_score'].index(max(performance.history['val_f1_score'])), max(performance.history['val_f1_score'])"
      ],
      "execution_count": 18,
      "outputs": [
        {
          "output_type": "execute_result",
          "data": {
            "text/plain": [
              "(123, array([0.8484848], dtype=float32))"
            ]
          },
          "metadata": {},
          "execution_count": 18
        }
      ]
    },
    {
      "cell_type": "code",
      "metadata": {
        "colab": {
          "base_uri": "https://localhost:8080/"
        },
        "id": "KIjI3HCHDxVW",
        "outputId": "9acb4353-60f8-4e12-a1aa-5d77881544ea"
      },
      "source": [
        "performance.history['f1_score'].index(max(performance.history['f1_score'])), max(performance.history['f1_score'])"
      ],
      "execution_count": 19,
      "outputs": [
        {
          "output_type": "execute_result",
          "data": {
            "text/plain": [
              "(225, array([0.8333333], dtype=float32))"
            ]
          },
          "metadata": {},
          "execution_count": 19
        }
      ]
    },
    {
      "cell_type": "code",
      "metadata": {
        "colab": {
          "base_uri": "https://localhost:8080/"
        },
        "id": "rhnmXFemO9K5",
        "outputId": "38383009-d95d-4ace-fc82-513f5e424fc1"
      },
      "source": [
        "[model.predict(Xval).round(0).shape,yval.shape]"
      ],
      "execution_count": 20,
      "outputs": [
        {
          "output_type": "execute_result",
          "data": {
            "text/plain": [
              "[(160, 1), (160,)]"
            ]
          },
          "metadata": {},
          "execution_count": 20
        }
      ]
    },
    {
      "cell_type": "code",
      "metadata": {
        "colab": {
          "base_uri": "https://localhost:8080/",
          "height": 0
        },
        "id": "NmLec3DXMn4Z",
        "outputId": "bc0e792f-e0e8-4d5f-da93-17b37ab5e244"
      },
      "source": [
        "import matplotlib.pyplot as plt \n",
        "plt.subplots(figsize=(14,6))\n",
        "plt.plot(yval,'r.')\n",
        "plt.plot(model.predict(Xval).round(0).astype(int),'b*')\n",
        "plt.xlabel('Amostra de teste')\n",
        "plt.ylabel('y')\n",
        "plt.title('y  -  Vermelho = valor real, Azul = previsão do modelo')\n",
        "plt.grid(True)\n",
        "plt.show()"
      ],
      "execution_count": 21,
      "outputs": [
        {
          "output_type": "display_data",
          "data": {
            "image/png": "[encoded data removed]",
            "text/plain": [
              "<Figure size 1008x432 with 1 Axes>"
            ]
          },
          "metadata": {
            "needs_background": "light"
          }
        }
      ]
    },
    {
      "cell_type": "markdown",
      "metadata": {
        "id": "pnATe40HD2CD"
      },
      "source": [
        "### Previsão e apresentação"
      ]
    },
    {
      "cell_type": "code",
      "metadata": {
        "id": "lYvo84XZDyPN"
      },
      "source": [
        "y_pred_test = model.predict(X_test2)"
      ],
      "execution_count": 22,
      "outputs": []
    },
    {
      "cell_type": "code",
      "metadata": {
        "colab": {
          "base_uri": "https://localhost:8080/"
        },
        "id": "BFItp7fMD-KU",
        "outputId": "ed7d2904-dbec-4141-8289-19150d276153"
      },
      "source": [
        "pd.DataFrame(y_pred_test)[0].apply(lambda x: int(round(x, 0))).value_counts()"
      ],
      "execution_count": 23,
      "outputs": [
        {
          "output_type": "execute_result",
          "data": {
            "text/plain": [
              "1    160\n",
              "0     40\n",
              "Name: 0, dtype: int64"
            ]
          },
          "metadata": {},
          "execution_count": 23
        }
      ]
    },
    {
      "cell_type": "code",
      "metadata": {
        "id": "-bCj2ybsEAcj"
      },
      "source": [
        "res = pd.DataFrame(y_pred_test) #preditcions are nothing but the final predictions of your model on input features of your new unseen test data\n",
        "res.index = test.index # its important for comparison. Here \"test_new\" is your new test dataset\n",
        "res.columns = [\"prediction\"]\n",
        "res.prediction = res.prediction.apply(lambda x: int(round(x, 0)))"
      ],
      "execution_count": 24,
      "outputs": []
    },
    {
      "cell_type": "markdown",
      "metadata": {
        "id": "qHSo3kn4EH2P"
      },
      "source": [
        "* o arquivo csv será salvo localmente no mesmo local onde este bloco de notas está localizado."
      ]
    },
    {
      "cell_type": "code",
      "metadata": {
        "id": "-rKMgQ22EHHv"
      },
      "source": [
        "res.to_csv(\"/content/prediction_results.csv\", index = False)"
      ],
      "execution_count": 25,
      "outputs": []
    },
    {
      "cell_type": "code",
      "metadata": {
        "colab": {
          "base_uri": "https://localhost:8080/",
          "height": 0
        },
        "id": "Q5MOJY6MKkv3",
        "outputId": "05438875-8dfb-4f20-f016-107f849021b9"
      },
      "source": [
        "res"
      ],
      "execution_count": 26,
      "outputs": [
        {
          "output_type": "execute_result",
          "data": {
            "text/html": [
              "<div>\n",
              "<style scoped>\n",
              "    .dataframe tbody tr th:only-of-type {\n",
              "        vertical-align: middle;\n",
              "    }\n",
              "\n",
              "    .dataframe tbody tr th {\n",
              "        vertical-align: top;\n",
              "    }\n",
              "\n",
              "    .dataframe thead th {\n",
              "        text-align: right;\n",
              "    }\n",
              "</style>\n",
              "<table border=\"1\" class=\"dataframe\">\n",
              "  <thead>\n",
              "    <tr style=\"text-align: right;\">\n",
              "      <th></th>\n",
              "      <th>prediction</th>\n",
              "    </tr>\n",
              "  </thead>\n",
              "  <tbody>\n",
              "    <tr>\n",
              "      <th>0</th>\n",
              "      <td>1</td>\n",
              "    </tr>\n",
              "    <tr>\n",
              "      <th>1</th>\n",
              "      <td>1</td>\n",
              "    </tr>\n",
              "    <tr>\n",
              "      <th>2</th>\n",
              "      <td>1</td>\n",
              "    </tr>\n",
              "    <tr>\n",
              "      <th>3</th>\n",
              "      <td>1</td>\n",
              "    </tr>\n",
              "    <tr>\n",
              "      <th>4</th>\n",
              "      <td>0</td>\n",
              "    </tr>\n",
              "    <tr>\n",
              "      <th>...</th>\n",
              "      <td>...</td>\n",
              "    </tr>\n",
              "    <tr>\n",
              "      <th>195</th>\n",
              "      <td>1</td>\n",
              "    </tr>\n",
              "    <tr>\n",
              "      <th>196</th>\n",
              "      <td>0</td>\n",
              "    </tr>\n",
              "    <tr>\n",
              "      <th>197</th>\n",
              "      <td>1</td>\n",
              "    </tr>\n",
              "    <tr>\n",
              "      <th>198</th>\n",
              "      <td>1</td>\n",
              "    </tr>\n",
              "    <tr>\n",
              "      <th>199</th>\n",
              "      <td>1</td>\n",
              "    </tr>\n",
              "  </tbody>\n",
              "</table>\n",
              "<p>200 rows × 1 columns</p>\n",
              "</div>"
            ],
            "text/plain": [
              "     prediction\n",
              "0             1\n",
              "1             1\n",
              "2             1\n",
              "3             1\n",
              "4             0\n",
              "..          ...\n",
              "195           1\n",
              "196           0\n",
              "197           1\n",
              "198           1\n",
              "199           1\n",
              "\n",
              "[200 rows x 1 columns]"
            ]
          },
          "metadata": {},
          "execution_count": 26
        }
      ]
    },
    {
      "cell_type": "markdown",
      "metadata": {
        "id": "HPPW3e9tDyxO"
      },
      "source": [
        "## Front-end: Criando um aplicativo da Web\n"
      ]
    },
    {
      "cell_type": "markdown",
      "metadata": {
        "id": "e6V84p39EHaT"
      },
      "source": [
        "* Instalando algumas bibliotecas que possibilitam o uso da biblioteca Dash no ambiente Jupyter notebook - Google Colab."
      ]
    },
    {
      "cell_type": "code",
      "metadata": {
        "id": "yLKrlyJ5EBlt"
      },
      "source": [
        "!pip install dash\n",
        "!pip install google-auth\n",
        "!pip install pandas-gbq\n",
        "!pip install jupyter_dash\n",
        "!pip install dash-bootstrap-components"
      ],
      "execution_count": null,
      "outputs": []
    },
    {
      "cell_type": "markdown",
      "metadata": {
        "id": "Jn7Bm6jtsaBU"
      },
      "source": [
        "* Carregando bibliotecas"
      ]
    },
    {
      "cell_type": "code",
      "metadata": {
        "id": "dS6uetu_sYiL"
      },
      "source": [
        "import dash\n",
        "from jupyter_dash import JupyterDash \n",
        "import dash_core_components as dcc\n",
        "import dash_bootstrap_components as dbc\n",
        "import dash_html_components as html\n",
        "from dash.dependencies import Output, Input, State\n",
        "from datetime import date\n",
        "\n",
        "import plotly.express as px\n",
        "import plotly.graph_objects as go\n",
        "import pandas as pd\n",
        "from google.oauth2 import service_account  # pip install google-auth\n",
        "import pandas_gbq  # pip install pandas-gbq"
      ],
      "execution_count": 28,
      "outputs": []
    },
    {
      "cell_type": "markdown",
      "metadata": {
        "id": "VQrbplOCD2pT"
      },
      "source": [
        "#### Criar aplicativo Dash"
      ]
    },
    {
      "cell_type": "markdown",
      "metadata": {
        "id": "d5tZNCSZBHbe"
      },
      "source": [
        "* As colunas preditoras "
      ]
    },
    {
      "cell_type": "code",
      "metadata": {
        "id": "a5Z5vNha9k-m"
      },
      "source": [
        "prediction_col1 =  dbc.Col([ \n",
        "                html.Br(),\n",
        "                dbc.Row([html.H3(children='Predição do Risco de Crédito')]),\n",
        "                dbc.Row([\n",
        "                    dbc.Col(html.Label(children='Status da conta corrente existente:'), width={\"order\": \"first\"}, style = {'padding': '15px 0px 0px 0px'}),\n",
        "                    dcc.Dropdown(\n",
        "                        id='checking_status',\n",
        "                        options=[\n",
        "                            {'label': 'sem conta corrente', 'value': 'sem conta corrente'},\n",
        "                            {'label': 'menor que 0', 'value': '<0'},\n",
        "                            {'label': 'maior ou igual a 0 e menor que 200', 'value': '0<=X<200'},\n",
        "                            {'label': 'maior que 200', 'value': '>=200'}, \n",
        "                        ],\n",
        "                        value='0<=X<200',\n",
        "                        style = {\"width\": \"50%\", 'padding': '5px 0px 5px 10px', 'display': 'inline-block'}\n",
        "                    )\n",
        "                ]),\n",
        "                dbc.Row([\n",
        "                    dbc.Col(html.Label(children='Duração em meses:'), width={\"order\": \"first\"}, style = {'padding': '15px 0px 0px 0px'}),\n",
        "                    dbc.Col(dbc.Input(id='duration', type='text', value = '4', style = {'padding': '5px 0px 5px 10px', 'width': '200px'}))\n",
        "                ]), \n",
        "                dbc.Row([\n",
        "                    dbc.Col(html.Label(children='Histórico de crédito:'), width={\"order\": \"first\"}, style = {'padding': '15px 0px 0px 0px'}),\n",
        "                    dcc.Dropdown(\n",
        "                        id='credit_history',\n",
        "                        options=[\n",
        "                            {'label': 'nenhum crédito / tudo pago', 'value': 'no credits/all paid'},\n",
        "                            {'label': 'créditos recebidos', 'value': 'existing paid'},\n",
        "                            {'label': 'pagos devidamente', 'value': 'all paid'},        \n",
        "                            {'label': 'atrasos anteriormente', 'value': 'delayed previously'},\n",
        "                            {'label': 'crédito crítico / outro existente', 'value': 'critical/other existing credit'},                 \n",
        "                        ],\n",
        "                        style = {\"width\": \"30%\", 'padding': '5px 0px 5px 10px' , 'display': 'inline-block'},\n",
        "                        value='critical/other existing credit'\n",
        "                    )\n",
        "                ]),\n",
        "                dbc.Row([\n",
        "                    dbc.Col(html.Label(children='Propósito:'), width={\"order\": \"first\"}, style = {'padding': '15px 0px 0px 0px'}),\n",
        "                    dcc.Dropdown(\n",
        "                        id='purpose',\n",
        "                        options=[\n",
        "                            {'label': 'rádio / tv', 'value': 'radio/tv'},\n",
        "                            {'label': 'reparos', 'value': 'repairs'},\n",
        "                            {'label': 'educação', 'value': 'education'},\n",
        "                            {'label': 'móveis / equipamentos', 'value': 'furniture/equipment'},\n",
        "                            {'label': 'negócio', 'value': 'business'},   \n",
        "                            {'label': 'carro usado', 'value': 'used car'},         \n",
        "                            {'label': 'carro novo', 'value': 'new car'},\n",
        "                            {'label': 'retreinamento', 'value': 'retraining'},\n",
        "                            {'label': 'eletrodoméstico', 'value': 'domestic appliance'},\n",
        "                            {'label': 'outro', 'value': 'other'},                 \n",
        "                        ],\n",
        "                        style = {\"width\": \"30%\", 'padding': '5px 0px 5px 10px', 'display': 'inline-block' },\n",
        "                        value='radio/tv'\n",
        "                    )\n",
        "                ]),\n",
        "                dbc.Row([\n",
        "                    dbc.Col(html.Label(children='Quantidade de crédito:'), width={\"order\": \"first\"}, style = {'padding': '15px 0px 0px 0px'}),\n",
        "                    dbc.Col(dbc.Input(id='credit_amount', type='text', value = '1000', style = {'padding': '5px 0px 5px 10px', 'width': '200px'}))\n",
        "                ]),  \n",
        "                dbc.Row([\n",
        "                    dbc.Col(html.Label(children='Estado de poupança:'), width={\"order\": \"first\"}, style = {'padding': '5px 0px 5px 0px'}),\n",
        "                    dbc.RadioItems(\n",
        "                        id='savings_status',\n",
        "                        options=[\n",
        "                            {'label': 'nenhuma economia conhecida', 'value': 'no known savings'},\n",
        "                            {'label': 'menor que 100', 'value': '<100'},\n",
        "                            {'label': 'maior ou igual a 100 e menor que 500', 'value': '100<=X<500'},\n",
        "                            {'label': 'maior ou igual a 500 e menor que 1000', 'value': '500<=X<1000'},\n",
        "                            {'label': 'maior ou igual a 1000', 'value': '>=1000'}\n",
        "                            ],\n",
        "                        style = {\"width\": \"60%\", 'padding': '5px 0px 10px 10px', 'display': 'inline-block' },\n",
        "                        value = 'no known savings',\n",
        "                        labelStyle={'display': 'inline-block'},\n",
        "                        inline=True # arrange list horizontally\n",
        "                    )\n",
        "                ]), \n",
        "                dbc.Row([\n",
        "                    dbc.Col(html.Label(children='Emprego atual, em número de anos:'), width={\"order\": \"first\"}, style = {'padding': '5px 0px 5px 0px'}),\n",
        "                    dbc.RadioItems(\n",
        "                        id='employment',\n",
        "                        options=[\n",
        "                            {'label': 'desempregado (a)', 'value': 'unemployed'},\n",
        "                            {'label': 'menor que 1', 'value': '<1'},\n",
        "                            {'label': 'maior ou igual a 1 e menor que 4', 'value': '1<=X<4'},\n",
        "                            {'label': 'maior ou igual a 4 e menor que 7', 'value': '4<=X<7'},\n",
        "                            {'label': 'maior ou igual a 7', 'value': '>=7'}\n",
        "                            ],\n",
        "                        style = {\"width\": \"60%\", 'padding': '5px 0px 10px 10px', 'display': 'inline-block' },\n",
        "                        value = 'unemployed',\n",
        "                        labelStyle={'display': 'inline-block'},\n",
        "                        inline=True # arrange list horizontally\n",
        "                    )\n",
        "                ]),\n",
        "                  dbc.Row([\n",
        "                    dbc.Col(html.Label(children='Compromisso de parcelamento:'), width={\"order\": \"first\"}, style = {'padding': '5px 0px 5px 0px'}),\n",
        "                    dbc.RadioItems(\n",
        "                        id='installment_commitment',\n",
        "                        options=[\n",
        "                            {'label': '1', 'value': 1},\n",
        "                            {'label': '2', 'value': 2},\n",
        "                            {'label': '3', 'value': 3},\n",
        "                            {'label': '4', 'value': 4}\n",
        "                            ],\n",
        "                        style = {\"width\": \"60%\", 'padding': '5px 0px 10px 10px', 'display': 'inline-block' },\n",
        "                        value = 3,\n",
        "                        labelStyle={'display': 'inline-block'},\n",
        "                        inline=True # arrange list horizontally\n",
        "                    )\n",
        "                ]),\n",
        "                dbc.Row([\n",
        "                    dbc.Col(html.Label(children='Status pessoal (casado, solteiro, ...) e sexo:'), width={\"order\": \"first\"}, style = {'padding': '5px 0px 5px 0px'}),\n",
        "                    dbc.RadioItems(\n",
        "                        id='personal_status',\n",
        "                        options=[\n",
        "                            {'label': 'homem solteiro', 'value': 'male single'},\n",
        "                            {'label': 'mulher casada/separada/divorciada', 'value': 'female div/dep/mar'},\n",
        "                            {'label': 'homem casado', 'value': 'male mar/wid'},\n",
        "                            {'label': 'homem separado/divorciado', 'value': 'male div/sep'}\n",
        "                            ],\n",
        "                        style = {\"width\": \"60%\", 'padding': '5px 0px 10px 10px', 'display': 'inline-block' },\n",
        "                        value = 'male single',\n",
        "                        labelStyle={'display': 'inline-block'},\n",
        "                        inline=True # arrange list horizontally\n",
        "                    )\n",
        "                ]),\n",
        "                dbc.Row([\n",
        "                    dbc.Col(html.Label(children='Outros devedores / fiadores:'), width={\"order\": \"first\"}, style = {'padding': '5px 0px 5px 0px'}),\n",
        "                    dbc.RadioItems(\n",
        "                        id='other_parties',\n",
        "                        options=[\n",
        "                            {'label': 'nenhum', 'value': 'none'},\n",
        "                            {'label': 'fiador', 'value': 'guarantor'},\n",
        "                            {'label': 'co-requerente', 'value': 'co applicant'},\n",
        "                            ],\n",
        "                        style = {\"width\": \"60%\", 'padding': '5px 0px 10px 10px', 'display': 'inline-block' },\n",
        "                        value = 'guarantor',\n",
        "                        labelStyle={'display': 'inline-block'},\n",
        "                        inline=True # arrange list horizontally\n",
        "                    )\n",
        "                ]),\n",
        "                dbc.Row([\n",
        "                    dbc.Col(html.Label(children='Residência atual desde X anos:'), width={\"order\": \"first\"}, style = {'padding': '15px 0px 0px 0px'}),\n",
        "                    dbc.Col(dbc.Input(id='residence_since', type='text', value = '1', style = {'padding': '5px 0px 5px 10px', 'width': '200px'}))\n",
        "                ]),\n",
        "                dbc.Row([\n",
        "                    dbc.Col(html.Label(children='Propriedade (por exemplo, imóveis):'), width={\"order\": \"first\"}, style = {'padding': '5px 0px 5px 0px'}),\n",
        "                    dbc.RadioItems(\n",
        "                        id='property_magnitude',\n",
        "                        options=[\n",
        "                            {'label': 'carro', 'value': 'car'},\n",
        "                            {'label': 'imobiliária', 'value': 'real estate'},\n",
        "                            {'label': 'seguro de vida', 'value': 'life insurance'},\n",
        "                            {'label': 'nenhuma propriedade conhecida', 'value': 'no known property'}\n",
        "                            ],\n",
        "                        style = {\"width\": \"60%\", 'padding': '5px 0px 10px 10px', 'display': 'inline-block' },\n",
        "                        value = 'car',\n",
        "                        labelStyle={'display': 'inline-block'},\n",
        "                        inline=True # arrange list horizontally\n",
        "                    )\n",
        "                ]),\n",
        "                dbc.Row([\n",
        "                    dbc.Col(html.Label(children='Idade em anos:'), width={\"order\": \"first\"}, style = {'padding': '15px 0px 0px 0px'}),\n",
        "                    dbc.Col(dbc.Input(id='age', type='text', value = '18', style = {'padding': '5px 0px 5px 10px', 'width': '200px'}))\n",
        "                ]), \n",
        "                 dbc.Row([\n",
        "                    dbc.Col(html.Label(children='Outros planos de parcelamento (bancos, lojas):'), width={\"order\": \"first\"}, style = {'padding': '5px 0px 5px 0px'}),\n",
        "                    dbc.RadioItems(\n",
        "                        id='other_payment_plans',\n",
        "                        options=[\n",
        "                            {'label': 'nenhum', 'value': 'none'},\n",
        "                            {'label': 'banco', 'value': 'bank'},\n",
        "                            {'label': 'lojas', 'value': 'stores'}\n",
        "                            ],\n",
        "                        style = {\"width\": \"60%\", 'padding': '5px 0px 10px 10px', 'display': 'inline-block' },\n",
        "                        value = 'bank',\n",
        "                        labelStyle={'display': 'inline-block'},\n",
        "                        inline=True # arrange list horizontally\n",
        "                    )\n",
        "                ]),\n",
        "                dbc.Row([\n",
        "                    dbc.Col(html.Label(children='Habitação:'), width={\"order\": \"first\"}, style = {'padding': '5px 0px 5px 0px'}),\n",
        "                    dbc.RadioItems(\n",
        "                        id='housing',\n",
        "                        options=[\n",
        "                            {'label': 'próprio', 'value': 'own'},\n",
        "                            {'label': 'aluguel', 'value': 'rent'},\n",
        "                            {'label': 'grátis', 'value': 'for free'}\n",
        "                            ],\n",
        "                        style = {\"width\": \"60%\", 'padding': '5px 0px 10px 10px', 'display': 'inline-block' },\n",
        "                        value = 'own',\n",
        "                        labelStyle={'display': 'inline-block'},\n",
        "                        inline=True # arrange list horizontally\n",
        "                    )\n",
        "                ]), \n",
        "                dbc.Row([\n",
        "                    dbc.Col(html.Label(children='Número de créditos existentes neste banco:'), width={\"order\": \"first\"}, style = {'padding': '15px 0px 0px 0px'}),\n",
        "                    dbc.Col(dbc.Input(id='existing_credits', type='text', value = '0', style = {'padding': '5px 0px 5px 10px', 'width': '200px'}))\n",
        "                ]),\n",
        "                dbc.Row([\n",
        "                    dbc.Col(html.Label(children='Trabalho:'), width={\"order\": \"first\"}, style = {'padding': '5px 0px 5px 0px'}),\n",
        "                    dbc.RadioItems(\n",
        "                        id='job',\n",
        "                        options=[\n",
        "                            {'label': 'qualificado', 'value': 'skilled'},\n",
        "                            {'label': 'alto qualificado', 'value': 'high qualif/self emp/mgmt'},\n",
        "                            {'label': 'residente não qualificado', 'value': 'unskilled resident'},\n",
        "                            {'label': 'desocupado / não qualificado', 'value': 'unemp/unskilled non res'}\n",
        "                            ],\n",
        "                        style = {\"width\": \"60%\", 'padding': '5px 0px 10px 10px', 'display': 'inline-block' },\n",
        "                        value = 'skilled',\n",
        "                        labelStyle={'display': 'inline-block'},\n",
        "                        inline=True # arrange list horizontally\n",
        "                    )\n",
        "                ]),\n",
        "                dbc.Row([\n",
        "                    dbc.Col(html.Label(children='Número de dependentes:'), width={\"order\": \"first\"}, style = {'padding': '15px 0px 0px 0px'}),\n",
        "                    dbc.Col(dbc.Input(id='num_dependents', type='text', value = '0', style = {'padding': '5px 0px 5px 10px', 'width': '200px'}))\n",
        "                ]),                       \n",
        "                html.Br(),\n",
        "                dbc.Row([\n",
        "                    dbc.Col(html.Label(children='Telefone:'), width={\"order\": \"first\"}, style = {'padding': '5px 0px 5px 0px'}),\n",
        "                    dbc.RadioItems(\n",
        "                        id='own_telephone',\n",
        "                        options=[\n",
        "                            {'label': 'sim', 'value': 'yes'},\n",
        "                            {'label': 'não', 'value': 'none'}\n",
        "                            ],\n",
        "                        style = {\"width\": \"60%\", 'padding': '5px 0px 10px 10px', 'display': 'inline-block' },\n",
        "                        value = 'yes',\n",
        "                        labelStyle={'display': 'inline-block'},\n",
        "                        inline=True # arrange list horizontally\n",
        "                    )\n",
        "                ]),\n",
        "                dbc.Row([\n",
        "                    dbc.Col(html.Label(children='Trabalhador estrangeiro:'), width={\"order\": \"first\"}, style = {'padding': '5px 0px 5px 0px'}),\n",
        "                    dbc.RadioItems(\n",
        "                        id='foreign_worker',\n",
        "                        options=[\n",
        "                            {'label': 'sim', 'value': 'yes'},\n",
        "                            {'label': 'não', 'value': 'no'}\n",
        "                            ],\n",
        "                        style = {\"width\": \"60%\", 'padding': '5px 0px 10px 10px', 'display': 'inline-block' },\n",
        "                        value = 'yes',\n",
        "                        labelStyle={'display': 'inline-block'},\n",
        "                        inline=True # arrange list horizontally\n",
        "                    )\n",
        "                ]),\n",
        "                dbc.Row([dbc.Button('Submit', id='submit-val', n_clicks=0, color=\"primary\")]),\n",
        "                html.Br(),\n",
        "                dbc.Row([html.Div(id='container-button-basic')])\n",
        "            ], style = {'padding': '0px 0px 0px 150px'})\n"
      ],
      "execution_count": 29,
      "outputs": []
    },
    {
      "cell_type": "markdown",
      "metadata": {
        "id": "x-nTxqhC-h6Q"
      },
      "source": [
        " * Preparando o layout"
      ]
    },
    {
      "cell_type": "code",
      "metadata": {
        "id": "DohzKi0m_eMX"
      },
      "source": [
        "external_stylesheets = ['https://codepen.io/chriddyp/pen/bWLwgP.css']\n",
        "\n",
        "app = JupyterDash(__name__, external_stylesheets=external_stylesheets)\n",
        "\n",
        "app.layout = html.Div([\n",
        "    html.H1(children='Risco de Crédito - Dashboard'),\n",
        "    html.Div(children='''Risco de crédito  é calculado com base nos dados fornecido pelo  desafio Data Sprint 50 - Risco de Crédito da plataforma de competição de ciência de dados Dphi.'''),\n",
        "    html.Div(children='Desenvolvedor: Rodrigo Tito'),\n",
        "    html.Br(),\n",
        "\n",
        "    dcc.Tabs(style = {'width': '100%'}, children=[\n",
        "        # this is the  firt tab\n",
        "        dcc.Tab(label='Análise do dataset', children = [\n",
        "            dbc.Row([\n",
        "                dbc.Col(\n",
        "            html.Div([\n",
        "                html.Label([\n",
        "                 \"X - Feature\",\n",
        "                 dcc.Dropdown(\n",
        "                  id='x-dropdown', clearable=False,\n",
        "                  value=df.columns[0], \n",
        "                  options=[ \n",
        "                   {'label': c, 'value': c} for c in df.columns \n",
        "                   ])\n",
        "                 ]),\n",
        "                 html.Label([\n",
        "                  \"Y - Feature\",\n",
        "                  dcc.Dropdown(\n",
        "                   id='y-dropdown', clearable=False,\n",
        "                    value=df.columns[0], options=[ {'label': c, 'value': c} for c in df.columns\n",
        "                    ])\n",
        "                  ]),\n",
        "                  html.Label([ \n",
        "                  \"Color - Feature\",\n",
        "                  dcc.Dropdown(\n",
        "                  id='color-dropdown', clearable=False,\n",
        "                  value=df.columns[0], options=[ {'label': c, 'value': c} for c in df.columns                        \n",
        "                  ])           \n",
        "                ])\n",
        "            ])\n",
        "            )\n",
        "                ]),\n",
        "                dbc.Row([\n",
        "                    dbc.Col(html.Div(dcc.Graph(id='bar-graph'), style = {'width': '100%'}))\n",
        "                ]) \n",
        "        ]), # the end of the firt tab\n",
        "\n",
        "        # this is the second tab\n",
        "        dcc.Tab(label='Predição do Risco de Crédito', children = [\n",
        "            dbc.Row([prediction_col1])\n",
        "        ]) # the end of the second tab\n",
        "\n",
        "    ]) # end of all tabs\n",
        "\n",
        "], style = {'padding': '20px'}) # the end of app.layout"
      ],
      "execution_count": 55,
      "outputs": []
    },
    {
      "cell_type": "markdown",
      "metadata": {
        "id": "N7wHgNRJ_i3Z"
      },
      "source": [
        "* criando retorno do dash"
      ]
    },
    {
      "cell_type": "code",
      "metadata": {
        "id": "N-wazcQED2Ay",
        "colab": {
          "base_uri": "https://localhost:8080/",
          "height": 51
        },
        "outputId": "1e12f82e-423e-4bab-cca7-d012775f86d2"
      },
      "source": [
        "#############################\n",
        "# criar retorno para gráfico de barras\n",
        "@app.callback(\n",
        "    Output('bar-graph', 'figure'),\n",
        "    Input(\"x-dropdown\",\"value\"),\n",
        "     Input(\"y-dropdown\",\"value\"),\n",
        "     Input(\"color-dropdown\",\"value\")\n",
        ")\n",
        "def update_bar_graph (feature_x,feature_y,color):\n",
        "    fig = px.bar(df, x = feature_x, y = feature_y, color = color, title=f' {feature_x} versus {feature_y}',\n",
        "                 height=500\n",
        "    )\n",
        "    fig.update_layout(\n",
        "        title  = {'x':0.5, 'xanchor': 'center', 'yanchor': 'top', 'font': {'size': 20}},\n",
        "        hovermode = 'x unified',\n",
        "        hoverlabel = {'font_size': 16, 'font_family': \"Rockwell\", 'namelength': 20,'font': {'size': 20}}\n",
        "    )\n",
        "    fig.update_traces(hovertemplate=None)\n",
        "    \n",
        "    return fig\n",
        "##############################\n",
        "# criar retorno para predição\n",
        "@app.callback(\n",
        "    Output('container-button-basic', 'children'),\n",
        "    # As entradas irão acionar seu callback;\n",
        "    [Input('submit-val', 'n_clicks'),\n",
        "    State('checking_status', 'value'),\n",
        "    State('duration', 'value'),\n",
        "    State('credit_history', 'value'), \n",
        "    State('purpose', 'value'),\n",
        "    State('credit_amount', 'value'),\n",
        "    State('savings_status', 'value'),\n",
        "    State('employment', 'value'),\n",
        "    State('installment_commitment', 'value'),\n",
        "    State('personal_status', 'value'),\n",
        "    State('other_parties', 'value'),\n",
        "    State('residence_since', 'value'),\n",
        "    State('property_magnitude', 'value'),\n",
        "    State('age', 'value'),\n",
        "    State('other_payment_plans', 'value'),\n",
        "    State('housing', 'value'),\n",
        "    State('existing_credits', 'value'),\n",
        "    State('job', 'value'),\n",
        "    State('num_dependents', 'value'),\n",
        "    State('own_telephone', 'value'),\n",
        "    State('foreign_worker', 'value')]\n",
        "    ) \n",
        "   \n",
        "def update_output(n_clicks, checking_status,\tduration,\tcredit_history,\tpurpose,\tcredit_amount,\n",
        "                  savings_status,\temployment,\tinstallment_commitment,\tpersonal_status,\tother_parties,\n",
        "                  residence_since,\tproperty_magnitude,\tage,\tother_payment_plans,\thousing,\texisting_credits,\n",
        "                  job,\tnum_dependents,\town_telephone,\tforeign_worker):\n",
        "    \n",
        "    result = []\n",
        "    for col in all_data.columns:\n",
        "      if col.split('_')[-1] in ('duration','amount','commitment','since','age', 'credits','dependents'):\n",
        "        result.append(int(locals()[col]))\n",
        "      else:\n",
        "        if col.split('_')[-1] == (locals()['_'.join(col.split('_')[:-1])]):\n",
        "          result.append(1)\n",
        "        else:\n",
        "          result.append(0)\n",
        "    dict_from_list = dict(zip(all_data.columns, result))\n",
        "    query = pd.DataFrame(dict_from_list,index = [0],columns = all_data.columns)      \n",
        "    \n",
        "    prediction = int(model.predict(query)[0].round(0))\n",
        "    output = int(prediction)\n",
        "    if output == 1 :\n",
        "      if  model.predict(query)[0]>0.5 and model.predict(query)[0] < 0.8:\n",
        "        return html.H1(children='RISCO DE CRÉDITO DE '+ f'{(100-(model.predict(query)[0][0])*100).round(2)}'+'%' + \": REGULAR!\")\n",
        "      else:\n",
        "        return html.H1(children='RISCO DE CRÉDITO DE '+ f'{(100-(model.predict(query)[0][0])*100).round(2)}' +'%'+ \": BOM!\")\n",
        "    else:\n",
        "       return  html.H1(children='RISCO DE CRÉDITO DE '+ f'{(100-(model.predict(query)[0][0])*100).round(2)}' +'%' + \": RUIM!\") \n",
        "\n",
        "if __name__ == '__main__':\n",
        "    app.run_server(debug=True)"
      ],
      "execution_count": 56,
      "outputs": [
        {
          "output_type": "stream",
          "name": "stdout",
          "text": [
            "Dash app running on:\n"
          ]
        },
        {
          "output_type": "display_data",
          "data": {
            "application/javascript": [
              "(async (port, path, text, element) => {\n",
              "    if (!google.colab.kernel.accessAllowed) {\n",
              "      return;\n",
              "    }\n",
              "    element.appendChild(document.createTextNode(''));\n",
              "    const url = await google.colab.kernel.proxyPort(port);\n",
              "    const anchor = document.createElement('a');\n",
              "    anchor.href = new URL(path, url).toString();\n",
              "    anchor.target = '_blank';\n",
              "    anchor.setAttribute('data-href', url + path);\n",
              "    anchor.textContent = text;\n",
              "    element.appendChild(anchor);\n",
              "  })(8050, \"/\", \"http://127.0.0.1:8050/\", window.element)"
            ],
            "text/plain": [
              "<IPython.core.display.Javascript object>"
            ]
          },
          "metadata": {}
        }
      ]
    },
    {
      "cell_type": "code",
      "metadata": {
        "id": "gcBSmc6t5j3u"
      },
      "source": [
        "!pip install pyngrok"
      ],
      "execution_count": null,
      "outputs": []
    },
    {
      "cell_type": "code",
      "metadata": {
        "id": "VrSwML6ULY_E"
      },
      "source": [
        "! ngrok authtoken xxxxxxxxxx "
      ],
      "execution_count": null,
      "outputs": []
    },
    {
      "cell_type": "code",
      "metadata": {
        "id": "MUI4f9Z4LdoD"
      },
      "source": [
        "from pyngrok import ngrok\n",
        "\n",
        "public_url = ngrok.connect('8050')\n",
        "public_url"
      ],
      "execution_count": null,
      "outputs": []
    }
  ]
}